{
 "cells": [
  {
   "cell_type": "markdown",
   "id": "b8140727",
   "metadata": {},
   "source": [
    "# E-commerce Customer Data - Behavioral Analysis"
   ]
  },
  {
   "cell_type": "markdown",
   "id": "16b76410",
   "metadata": {},
   "source": [
    "## 1. Load Libraries\n"
   ]
  },
  {
   "cell_type": "code",
   "execution_count": 1,
   "id": "823a93eb",
   "metadata": {},
   "outputs": [],
   "source": [
    "import pandas as pd\n",
    "import numpy as np\n",
    "import matplotlib.pyplot as plt\n",
    "import seaborn as sns\n",
    "\n",
    "sns.set(style=\"whitegrid\")\n",
    "plt.rcParams[\"figure.figsize\"] = (10, 6)"
   ]
  },
  {
   "cell_type": "markdown",
   "id": "155c8814",
   "metadata": {},
   "source": [
    "## 2. Load Dataset\n"
   ]
  },
  {
   "cell_type": "code",
   "execution_count": 2,
   "id": "a5e9a206",
   "metadata": {},
   "outputs": [],
   "source": [
    "df = pd.read_csv(r\"C:\\Users\\HP\\Documents\\EDA Files\\E comm customer data for behaviour analysis.csv\")"
   ]
  },
  {
   "cell_type": "markdown",
   "id": "fd5d52ba",
   "metadata": {},
   "source": [
    "## 3. Initial Exploration and Cleaning\n"
   ]
  },
  {
   "cell_type": "code",
   "execution_count": 3,
   "id": "be74f522",
   "metadata": {},
   "outputs": [
    {
     "data": {
      "application/vnd.microsoft.datawrangler.viewer.v0+json": {
       "columns": [
        {
         "name": "index",
         "rawType": "int64",
         "type": "integer"
        },
        {
         "name": "Customer ID",
         "rawType": "int64",
         "type": "integer"
        },
        {
         "name": "Purchase Date",
         "rawType": "object",
         "type": "string"
        },
        {
         "name": "Product Category",
         "rawType": "object",
         "type": "string"
        },
        {
         "name": "Product Price",
         "rawType": "int64",
         "type": "integer"
        },
        {
         "name": "Quantity",
         "rawType": "int64",
         "type": "integer"
        },
        {
         "name": "Total Purchase Amount",
         "rawType": "int64",
         "type": "integer"
        },
        {
         "name": "Payment Method",
         "rawType": "object",
         "type": "string"
        },
        {
         "name": "Customer Age",
         "rawType": "int64",
         "type": "integer"
        },
        {
         "name": "Returns",
         "rawType": "float64",
         "type": "float"
        },
        {
         "name": "Customer Name",
         "rawType": "object",
         "type": "string"
        },
        {
         "name": "Age",
         "rawType": "int64",
         "type": "integer"
        },
        {
         "name": "Gender",
         "rawType": "object",
         "type": "string"
        },
        {
         "name": "Churn",
         "rawType": "int64",
         "type": "integer"
        }
       ],
       "ref": "3f8531c8-aadf-4988-9aca-b4cb613db5a0",
       "rows": [
        [
         "0",
         "44605",
         "2023-05-03 21:30:02",
         "Home",
         "177",
         "1",
         "2427",
         "PayPal",
         "31",
         "1.0",
         "John Rivera",
         "31",
         "Female",
         "0"
        ],
        [
         "1",
         "44605",
         "2021-05-16 13:57:44",
         "Electronics",
         "174",
         "3",
         "2448",
         "PayPal",
         "31",
         "1.0",
         "John Rivera",
         "31",
         "Female",
         "0"
        ],
        [
         "2",
         "44605",
         "2020-07-13 06:16:57",
         "Books",
         "413",
         "1",
         "2345",
         "Credit Card",
         "31",
         "1.0",
         "John Rivera",
         "31",
         "Female",
         "0"
        ],
        [
         "3",
         "44605",
         "2023-01-17 13:14:36",
         "Electronics",
         "396",
         "3",
         "937",
         "Cash",
         "31",
         "0.0",
         "John Rivera",
         "31",
         "Female",
         "0"
        ],
        [
         "4",
         "44605",
         "2021-05-01 11:29:27",
         "Books",
         "259",
         "4",
         "2598",
         "PayPal",
         "31",
         "1.0",
         "John Rivera",
         "31",
         "Female",
         "0"
        ]
       ],
       "shape": {
        "columns": 13,
        "rows": 5
       }
      },
      "text/html": [
       "<div>\n",
       "<style scoped>\n",
       "    .dataframe tbody tr th:only-of-type {\n",
       "        vertical-align: middle;\n",
       "    }\n",
       "\n",
       "    .dataframe tbody tr th {\n",
       "        vertical-align: top;\n",
       "    }\n",
       "\n",
       "    .dataframe thead th {\n",
       "        text-align: right;\n",
       "    }\n",
       "</style>\n",
       "<table border=\"1\" class=\"dataframe\">\n",
       "  <thead>\n",
       "    <tr style=\"text-align: right;\">\n",
       "      <th></th>\n",
       "      <th>Customer ID</th>\n",
       "      <th>Purchase Date</th>\n",
       "      <th>Product Category</th>\n",
       "      <th>Product Price</th>\n",
       "      <th>Quantity</th>\n",
       "      <th>Total Purchase Amount</th>\n",
       "      <th>Payment Method</th>\n",
       "      <th>Customer Age</th>\n",
       "      <th>Returns</th>\n",
       "      <th>Customer Name</th>\n",
       "      <th>Age</th>\n",
       "      <th>Gender</th>\n",
       "      <th>Churn</th>\n",
       "    </tr>\n",
       "  </thead>\n",
       "  <tbody>\n",
       "    <tr>\n",
       "      <th>0</th>\n",
       "      <td>44605</td>\n",
       "      <td>2023-05-03 21:30:02</td>\n",
       "      <td>Home</td>\n",
       "      <td>177</td>\n",
       "      <td>1</td>\n",
       "      <td>2427</td>\n",
       "      <td>PayPal</td>\n",
       "      <td>31</td>\n",
       "      <td>1.0</td>\n",
       "      <td>John Rivera</td>\n",
       "      <td>31</td>\n",
       "      <td>Female</td>\n",
       "      <td>0</td>\n",
       "    </tr>\n",
       "    <tr>\n",
       "      <th>1</th>\n",
       "      <td>44605</td>\n",
       "      <td>2021-05-16 13:57:44</td>\n",
       "      <td>Electronics</td>\n",
       "      <td>174</td>\n",
       "      <td>3</td>\n",
       "      <td>2448</td>\n",
       "      <td>PayPal</td>\n",
       "      <td>31</td>\n",
       "      <td>1.0</td>\n",
       "      <td>John Rivera</td>\n",
       "      <td>31</td>\n",
       "      <td>Female</td>\n",
       "      <td>0</td>\n",
       "    </tr>\n",
       "    <tr>\n",
       "      <th>2</th>\n",
       "      <td>44605</td>\n",
       "      <td>2020-07-13 06:16:57</td>\n",
       "      <td>Books</td>\n",
       "      <td>413</td>\n",
       "      <td>1</td>\n",
       "      <td>2345</td>\n",
       "      <td>Credit Card</td>\n",
       "      <td>31</td>\n",
       "      <td>1.0</td>\n",
       "      <td>John Rivera</td>\n",
       "      <td>31</td>\n",
       "      <td>Female</td>\n",
       "      <td>0</td>\n",
       "    </tr>\n",
       "    <tr>\n",
       "      <th>3</th>\n",
       "      <td>44605</td>\n",
       "      <td>2023-01-17 13:14:36</td>\n",
       "      <td>Electronics</td>\n",
       "      <td>396</td>\n",
       "      <td>3</td>\n",
       "      <td>937</td>\n",
       "      <td>Cash</td>\n",
       "      <td>31</td>\n",
       "      <td>0.0</td>\n",
       "      <td>John Rivera</td>\n",
       "      <td>31</td>\n",
       "      <td>Female</td>\n",
       "      <td>0</td>\n",
       "    </tr>\n",
       "    <tr>\n",
       "      <th>4</th>\n",
       "      <td>44605</td>\n",
       "      <td>2021-05-01 11:29:27</td>\n",
       "      <td>Books</td>\n",
       "      <td>259</td>\n",
       "      <td>4</td>\n",
       "      <td>2598</td>\n",
       "      <td>PayPal</td>\n",
       "      <td>31</td>\n",
       "      <td>1.0</td>\n",
       "      <td>John Rivera</td>\n",
       "      <td>31</td>\n",
       "      <td>Female</td>\n",
       "      <td>0</td>\n",
       "    </tr>\n",
       "  </tbody>\n",
       "</table>\n",
       "</div>"
      ],
      "text/plain": [
       "   Customer ID        Purchase Date Product Category  Product Price  Quantity  \\\n",
       "0        44605  2023-05-03 21:30:02             Home            177         1   \n",
       "1        44605  2021-05-16 13:57:44      Electronics            174         3   \n",
       "2        44605  2020-07-13 06:16:57            Books            413         1   \n",
       "3        44605  2023-01-17 13:14:36      Electronics            396         3   \n",
       "4        44605  2021-05-01 11:29:27            Books            259         4   \n",
       "\n",
       "   Total Purchase Amount Payment Method  Customer Age  Returns Customer Name  \\\n",
       "0                   2427         PayPal            31      1.0   John Rivera   \n",
       "1                   2448         PayPal            31      1.0   John Rivera   \n",
       "2                   2345    Credit Card            31      1.0   John Rivera   \n",
       "3                    937           Cash            31      0.0   John Rivera   \n",
       "4                   2598         PayPal            31      1.0   John Rivera   \n",
       "\n",
       "   Age  Gender  Churn  \n",
       "0   31  Female      0  \n",
       "1   31  Female      0  \n",
       "2   31  Female      0  \n",
       "3   31  Female      0  \n",
       "4   31  Female      0  "
      ]
     },
     "execution_count": 3,
     "metadata": {},
     "output_type": "execute_result"
    }
   ],
   "source": [
    "df.head()\n"
   ]
  },
  {
   "cell_type": "code",
   "execution_count": 4,
   "id": "55235a0b",
   "metadata": {},
   "outputs": [],
   "source": [
    "# Check missing values\n",
    "df.isna().sum()\n",
    "\n",
    "# Fill missing values in 'Returns' with 0 (assumption: no return)\n",
    "df[\"Returns\"] = df[\"Returns\"].fillna(0).astype(int)\n",
    "\n",
    "# Drop redundant columns\n",
    "df.drop(columns=[\"Age\", \"Customer ID\"], inplace=True)\n",
    "\n",
    "# Convert Purchase Date to datetime\n",
    "df[\"Purchase Date\"] = pd.to_datetime(df[\"Purchase Date\"])\n"
   ]
  },
  {
   "cell_type": "markdown",
   "id": "766dd166",
   "metadata": {},
   "source": [
    "## 4. Feature Engineering\n"
   ]
  },
  {
   "cell_type": "code",
   "execution_count": 5,
   "id": "11d22110",
   "metadata": {},
   "outputs": [
    {
     "name": "stdout",
     "output_type": "stream",
     "text": [
      "Return Rate: 40.59%\n"
     ]
    }
   ],
   "source": [
    "df[\"Year\"] = df[\"Purchase Date\"].dt.year.astype(int)\n",
    "df[\"Month\"] = df[\"Purchase Date\"].dt.month.astype(int)\n",
    "\n",
    "# Create Synthetic Order ID (to count unique transactions)\n",
    "df[\"Synthetic Order ID\"] = df[\"Customer Name\"].astype(str) + \"_\" + df[\"Purchase Date\"].astype(str)\n",
    "\n",
    "# Calculate return rate\n",
    "total_orders = df[\"Synthetic Order ID\"].nunique()\n",
    "returned_orders = df[df[\"Returns\"] == 1][\"Synthetic Order ID\"].nunique()\n",
    "return_rate = (returned_orders / total_orders) * 100\n",
    "\n",
    "print(f\"Return Rate: {return_rate:.2f}%\")\n",
    "\n",
    "# First and last purchase date\n",
    "first_pur_date = df.groupby(\"Customer Name\")[\"Purchase Date\"].min()\n",
    "last_pur_date = df.groupby(\"Customer Name\")[\"Purchase Date\"].max()\n"
   ]
  },
  {
   "cell_type": "code",
   "execution_count": 6,
   "id": "bc66cfbb",
   "metadata": {},
   "outputs": [
    {
     "data": {
      "application/vnd.microsoft.datawrangler.viewer.v0+json": {
       "columns": [
        {
         "name": "index",
         "rawType": "int64",
         "type": "integer"
        },
        {
         "name": "Purchase Date",
         "rawType": "datetime64[ns]",
         "type": "datetime"
        },
        {
         "name": "Product Category",
         "rawType": "object",
         "type": "string"
        },
        {
         "name": "Product Price",
         "rawType": "int64",
         "type": "integer"
        },
        {
         "name": "Quantity",
         "rawType": "int64",
         "type": "integer"
        },
        {
         "name": "Total Purchase Amount",
         "rawType": "int64",
         "type": "integer"
        },
        {
         "name": "Payment Method",
         "rawType": "object",
         "type": "string"
        },
        {
         "name": "Customer Age",
         "rawType": "int64",
         "type": "integer"
        },
        {
         "name": "Returns",
         "rawType": "int32",
         "type": "integer"
        },
        {
         "name": "Customer Name",
         "rawType": "object",
         "type": "string"
        },
        {
         "name": "Gender",
         "rawType": "object",
         "type": "string"
        },
        {
         "name": "Churn",
         "rawType": "int64",
         "type": "integer"
        },
        {
         "name": "Year",
         "rawType": "int32",
         "type": "integer"
        },
        {
         "name": "Month",
         "rawType": "int32",
         "type": "integer"
        },
        {
         "name": "Synthetic Order ID",
         "rawType": "object",
         "type": "string"
        }
       ],
       "ref": "5c7be945-69af-4733-b7cb-0690bccdaf75",
       "rows": [
        [
         "0",
         "2023-05-03 21:30:02",
         "Home",
         "177",
         "1",
         "2427",
         "PayPal",
         "31",
         "1",
         "John Rivera",
         "Female",
         "0",
         "2023",
         "5",
         "John Rivera_2023-05-03 21:30:02"
        ],
        [
         "1",
         "2021-05-16 13:57:44",
         "Electronics",
         "174",
         "3",
         "2448",
         "PayPal",
         "31",
         "1",
         "John Rivera",
         "Female",
         "0",
         "2021",
         "5",
         "John Rivera_2021-05-16 13:57:44"
        ],
        [
         "2",
         "2020-07-13 06:16:57",
         "Books",
         "413",
         "1",
         "2345",
         "Credit Card",
         "31",
         "1",
         "John Rivera",
         "Female",
         "0",
         "2020",
         "7",
         "John Rivera_2020-07-13 06:16:57"
        ],
        [
         "3",
         "2023-01-17 13:14:36",
         "Electronics",
         "396",
         "3",
         "937",
         "Cash",
         "31",
         "0",
         "John Rivera",
         "Female",
         "0",
         "2023",
         "1",
         "John Rivera_2023-01-17 13:14:36"
        ],
        [
         "4",
         "2021-05-01 11:29:27",
         "Books",
         "259",
         "4",
         "2598",
         "PayPal",
         "31",
         "1",
         "John Rivera",
         "Female",
         "0",
         "2021",
         "5",
         "John Rivera_2021-05-01 11:29:27"
        ],
        [
         "5",
         "2022-08-25 06:48:33",
         "Home",
         "191",
         "3",
         "3722",
         "Credit Card",
         "27",
         "1",
         "Lauren Johnson",
         "Female",
         "0",
         "2022",
         "8",
         "Lauren Johnson_2022-08-25 06:48:33"
        ],
        [
         "6",
         "2023-07-25 05:17:24",
         "Electronics",
         "205",
         "1",
         "2773",
         "Credit Card",
         "27",
         "0",
         "Lauren Johnson",
         "Female",
         "0",
         "2023",
         "7",
         "Lauren Johnson_2023-07-25 05:17:24"
        ],
        [
         "7",
         "2023-02-05 19:31:48",
         "Books",
         "370",
         "5",
         "1486",
         "Cash",
         "27",
         "1",
         "Lauren Johnson",
         "Female",
         "0",
         "2023",
         "2",
         "Lauren Johnson_2023-02-05 19:31:48"
        ],
        [
         "8",
         "2021-12-21 03:29:05",
         "Home",
         "12",
         "2",
         "2175",
         "Cash",
         "27",
         "0",
         "Lauren Johnson",
         "Female",
         "0",
         "2021",
         "12",
         "Lauren Johnson_2021-12-21 03:29:05"
        ],
        [
         "9",
         "2023-02-09 00:53:14",
         "Electronics",
         "40",
         "4",
         "4327",
         "Cash",
         "27",
         "0",
         "Lauren Johnson",
         "Female",
         "0",
         "2023",
         "2",
         "Lauren Johnson_2023-02-09 00:53:14"
        ],
        [
         "10",
         "2023-02-28 19:58:23",
         "Clothing",
         "410",
         "3",
         "5018",
         "Credit Card",
         "27",
         "0",
         "Carol Allen",
         "Male",
         "0",
         "2023",
         "2",
         "Carol Allen_2023-02-28 19:58:23"
        ],
        [
         "11",
         "2023-01-05 11:15:27",
         "Home",
         "304",
         "1",
         "3883",
         "PayPal",
         "27",
         "1",
         "Carol Allen",
         "Male",
         "0",
         "2023",
         "1",
         "Carol Allen_2023-01-05 11:15:27"
        ],
        [
         "12",
         "2023-07-18 23:36:50",
         "Books",
         "54",
         "2",
         "4187",
         "PayPal",
         "27",
         "0",
         "Carol Allen",
         "Male",
         "0",
         "2023",
         "7",
         "Carol Allen_2023-07-18 23:36:50"
        ],
        [
         "13",
         "2021-12-20 23:44:57",
         "Electronics",
         "428",
         "4",
         "2289",
         "Cash",
         "27",
         "0",
         "Carol Allen",
         "Male",
         "0",
         "2021",
         "12",
         "Carol Allen_2021-12-20 23:44:57"
        ],
        [
         "14",
         "2020-03-07 21:31:35",
         "Books",
         "281",
         "1",
         "3810",
         "Cash",
         "27",
         "0",
         "Carol Allen",
         "Male",
         "0",
         "2020",
         "3",
         "Carol Allen_2020-03-07 21:31:35"
        ],
        [
         "15",
         "2022-07-21 04:25:44",
         "Home",
         "193",
         "2",
         "3198",
         "Credit Card",
         "27",
         "0",
         "Carol Allen",
         "Male",
         "0",
         "2022",
         "7",
         "Carol Allen_2022-07-21 04:25:44"
        ],
        [
         "16",
         "2023-07-05 15:01:04",
         "Clothing",
         "473",
         "3",
         "2881",
         "Credit Card",
         "27",
         "1",
         "Carol Allen",
         "Male",
         "0",
         "2023",
         "7",
         "Carol Allen_2023-07-05 15:01:04"
        ],
        [
         "17",
         "2020-10-18 23:38:52",
         "Books",
         "127",
         "5",
         "3347",
         "Cash",
         "20",
         "0",
         "Curtis Smith",
         "Female",
         "0",
         "2020",
         "10",
         "Curtis Smith_2020-10-18 23:38:52"
        ],
        [
         "18",
         "2020-05-17 17:02:36",
         "Home",
         "284",
         "2",
         "3531",
         "Credit Card",
         "20",
         "1",
         "Curtis Smith",
         "Female",
         "0",
         "2020",
         "5",
         "Curtis Smith_2020-05-17 17:02:36"
        ],
        [
         "19",
         "2022-03-18 13:52:08",
         "Electronics",
         "256",
         "2",
         "3548",
         "Credit Card",
         "20",
         "0",
         "Curtis Smith",
         "Female",
         "0",
         "2022",
         "3",
         "Curtis Smith_2022-03-18 13:52:08"
        ],
        [
         "20",
         "2021-04-21 07:58:37",
         "Clothing",
         "252",
         "2",
         "1775",
         "Credit Card",
         "20",
         "1",
         "Curtis Smith",
         "Female",
         "0",
         "2021",
         "4",
         "Curtis Smith_2021-04-21 07:58:37"
        ],
        [
         "21",
         "2022-01-26 12:50:30",
         "Electronics",
         "105",
         "2",
         "3721",
         "Credit Card",
         "20",
         "0",
         "Curtis Smith",
         "Female",
         "0",
         "2022",
         "1",
         "Curtis Smith_2022-01-26 12:50:30"
        ],
        [
         "22",
         "2020-11-11 07:19:18",
         "Electronics",
         "193",
         "2",
         "3266",
         "PayPal",
         "20",
         "1",
         "Curtis Smith",
         "Female",
         "0",
         "2020",
         "11",
         "Curtis Smith_2020-11-11 07:19:18"
        ],
        [
         "23",
         "2023-04-29 23:31:47",
         "Home",
         "43",
         "1",
         "2312",
         "Cash",
         "20",
         "0",
         "Curtis Smith",
         "Female",
         "0",
         "2023",
         "4",
         "Curtis Smith_2023-04-29 23:31:47"
        ],
        [
         "24",
         "2022-07-04 16:04:01",
         "Home",
         "30",
         "5",
         "642",
         "PayPal",
         "20",
         "1",
         "Curtis Smith",
         "Female",
         "0",
         "2022",
         "7",
         "Curtis Smith_2022-07-04 16:04:01"
        ],
        [
         "25",
         "2021-08-01 05:27:13",
         "Electronics",
         "30",
         "3",
         "5024",
         "Credit Card",
         "20",
         "1",
         "Curtis Smith",
         "Female",
         "0",
         "2021",
         "8",
         "Curtis Smith_2021-08-01 05:27:13"
        ],
        [
         "26",
         "2020-05-24 06:45:48",
         "Electronics",
         "307",
         "3",
         "973",
         "PayPal",
         "20",
         "0",
         "Curtis Smith",
         "Female",
         "0",
         "2020",
         "5",
         "Curtis Smith_2020-05-24 06:45:48"
        ],
        [
         "27",
         "2022-03-24 00:05:26",
         "Electronics",
         "254",
         "1",
         "3865",
         "PayPal",
         "20",
         "0",
         "Curtis Smith",
         "Female",
         "0",
         "2022",
         "3",
         "Curtis Smith_2022-03-24 00:05:26"
        ],
        [
         "28",
         "2022-09-02 04:00:49",
         "Books",
         "12",
         "3",
         "3112",
         "Cash",
         "20",
         "1",
         "Curtis Smith",
         "Female",
         "0",
         "2022",
         "9",
         "Curtis Smith_2022-09-02 04:00:49"
        ],
        [
         "29",
         "2021-11-14 10:23:14",
         "Books",
         "66",
         "3",
         "250",
         "PayPal",
         "20",
         "1",
         "Curtis Smith",
         "Female",
         "0",
         "2021",
         "11",
         "Curtis Smith_2021-11-14 10:23:14"
        ],
        [
         "30",
         "2020-11-17 13:14:27",
         "Electronics",
         "102",
         "2",
         "5206",
         "Credit Card",
         "53",
         "1",
         "Jose Green",
         "Male",
         "0",
         "2020",
         "11",
         "Jose Green_2020-11-17 13:14:27"
        ],
        [
         "31",
         "2021-05-07 09:54:22",
         "Books",
         "187",
         "5",
         "629",
         "PayPal",
         "53",
         "1",
         "Jose Green",
         "Male",
         "0",
         "2021",
         "5",
         "Jose Green_2021-05-07 09:54:22"
        ],
        [
         "32",
         "2022-09-07 05:06:52",
         "Books",
         "86",
         "1",
         "843",
         "Credit Card",
         "53",
         "1",
         "Jose Green",
         "Male",
         "0",
         "2022",
         "9",
         "Jose Green_2022-09-07 05:06:52"
        ],
        [
         "33",
         "2020-07-05 06:30:39",
         "Electronics",
         "364",
         "3",
         "1008",
         "Credit Card",
         "53",
         "0",
         "Jose Green",
         "Male",
         "0",
         "2020",
         "7",
         "Jose Green_2020-07-05 06:30:39"
        ],
        [
         "34",
         "2022-01-11 10:56:31",
         "Books",
         "210",
         "2",
         "4567",
         "Credit Card",
         "53",
         "0",
         "Jose Green",
         "Male",
         "0",
         "2022",
         "1",
         "Jose Green_2022-01-11 10:56:31"
        ],
        [
         "35",
         "2022-01-12 22:49:28",
         "Clothing",
         "304",
         "3",
         "4869",
         "PayPal",
         "57",
         "1",
         "Linda Lee",
         "Male",
         "0",
         "2022",
         "1",
         "Linda Lee_2022-01-12 22:49:28"
        ],
        [
         "36",
         "2021-06-26 23:49:18",
         "Electronics",
         "329",
         "1",
         "3391",
         "Cash",
         "57",
         "1",
         "Linda Lee",
         "Male",
         "0",
         "2021",
         "6",
         "Linda Lee_2021-06-26 23:49:18"
        ],
        [
         "37",
         "2022-06-30 06:11:14",
         "Clothing",
         "306",
         "4",
         "1712",
         "Credit Card",
         "57",
         "1",
         "Linda Lee",
         "Male",
         "0",
         "2022",
         "6",
         "Linda Lee_2022-06-30 06:11:14"
        ],
        [
         "38",
         "2020-04-20 14:08:25",
         "Electronics",
         "165",
         "5",
         "603",
         "Credit Card",
         "57",
         "0",
         "Linda Lee",
         "Male",
         "0",
         "2020",
         "4",
         "Linda Lee_2020-04-20 14:08:25"
        ],
        [
         "39",
         "2021-03-23 17:36:30",
         "Electronics",
         "218",
         "4",
         "2866",
         "PayPal",
         "57",
         "0",
         "Linda Lee",
         "Male",
         "0",
         "2021",
         "3",
         "Linda Lee_2021-03-23 17:36:30"
        ],
        [
         "40",
         "2023-05-16 01:34:44",
         "Clothing",
         "392",
         "3",
         "1378",
         "Credit Card",
         "34",
         "0",
         "Joshua Davis",
         "Male",
         "1",
         "2023",
         "5",
         "Joshua Davis_2023-05-16 01:34:44"
        ],
        [
         "41",
         "2021-10-27 16:25:14",
         "Clothing",
         "238",
         "3",
         "1760",
         "Credit Card",
         "34",
         "0",
         "Joshua Davis",
         "Male",
         "1",
         "2021",
         "10",
         "Joshua Davis_2021-10-27 16:25:14"
        ],
        [
         "42",
         "2021-12-09 07:43:45",
         "Books",
         "174",
         "5",
         "4517",
         "Credit Card",
         "34",
         "0",
         "Joshua Davis",
         "Male",
         "1",
         "2021",
         "12",
         "Joshua Davis_2021-12-09 07:43:45"
        ],
        [
         "43",
         "2022-10-18 22:58:32",
         "Electronics",
         "41",
         "2",
         "743",
         "Cash",
         "34",
         "0",
         "Joshua Davis",
         "Male",
         "1",
         "2022",
         "10",
         "Joshua Davis_2022-10-18 22:58:32"
        ],
        [
         "44",
         "2021-08-20 23:25:47",
         "Books",
         "118",
         "2",
         "3672",
         "Cash",
         "45",
         "0",
         "Ellen Kent",
         "Male",
         "0",
         "2021",
         "8",
         "Ellen Kent_2021-08-20 23:25:47"
        ],
        [
         "45",
         "2020-02-14 04:47:32",
         "Clothing",
         "14",
         "4",
         "2733",
         "PayPal",
         "45",
         "0",
         "Ellen Kent",
         "Male",
         "0",
         "2020",
         "2",
         "Ellen Kent_2020-02-14 04:47:32"
        ],
        [
         "46",
         "2021-11-28 19:39:49",
         "Home",
         "424",
         "1",
         "631",
         "Cash",
         "45",
         "0",
         "Ellen Kent",
         "Male",
         "0",
         "2021",
         "11",
         "Ellen Kent_2021-11-28 19:39:49"
        ],
        [
         "47",
         "2020-10-30 10:38:20",
         "Clothing",
         "351",
         "5",
         "716",
         "PayPal",
         "45",
         "0",
         "Ellen Kent",
         "Male",
         "0",
         "2020",
         "10",
         "Ellen Kent_2020-10-30 10:38:20"
        ],
        [
         "48",
         "2020-11-25 09:05:42",
         "Clothing",
         "89",
         "1",
         "3577",
         "PayPal",
         "45",
         "1",
         "Ellen Kent",
         "Male",
         "0",
         "2020",
         "11",
         "Ellen Kent_2020-11-25 09:05:42"
        ],
        [
         "49",
         "2020-09-13 15:30:54",
         "Home",
         "287",
         "3",
         "3908",
         "Cash",
         "45",
         "0",
         "Ellen Kent",
         "Male",
         "0",
         "2020",
         "9",
         "Ellen Kent_2020-09-13 15:30:54"
        ]
       ],
       "shape": {
        "columns": 14,
        "rows": 250000
       }
      },
      "text/html": [
       "<div>\n",
       "<style scoped>\n",
       "    .dataframe tbody tr th:only-of-type {\n",
       "        vertical-align: middle;\n",
       "    }\n",
       "\n",
       "    .dataframe tbody tr th {\n",
       "        vertical-align: top;\n",
       "    }\n",
       "\n",
       "    .dataframe thead th {\n",
       "        text-align: right;\n",
       "    }\n",
       "</style>\n",
       "<table border=\"1\" class=\"dataframe\">\n",
       "  <thead>\n",
       "    <tr style=\"text-align: right;\">\n",
       "      <th></th>\n",
       "      <th>Purchase Date</th>\n",
       "      <th>Product Category</th>\n",
       "      <th>Product Price</th>\n",
       "      <th>Quantity</th>\n",
       "      <th>Total Purchase Amount</th>\n",
       "      <th>Payment Method</th>\n",
       "      <th>Customer Age</th>\n",
       "      <th>Returns</th>\n",
       "      <th>Customer Name</th>\n",
       "      <th>Gender</th>\n",
       "      <th>Churn</th>\n",
       "      <th>Year</th>\n",
       "      <th>Month</th>\n",
       "      <th>Synthetic Order ID</th>\n",
       "    </tr>\n",
       "  </thead>\n",
       "  <tbody>\n",
       "    <tr>\n",
       "      <th>0</th>\n",
       "      <td>2023-05-03 21:30:02</td>\n",
       "      <td>Home</td>\n",
       "      <td>177</td>\n",
       "      <td>1</td>\n",
       "      <td>2427</td>\n",
       "      <td>PayPal</td>\n",
       "      <td>31</td>\n",
       "      <td>1</td>\n",
       "      <td>John Rivera</td>\n",
       "      <td>Female</td>\n",
       "      <td>0</td>\n",
       "      <td>2023</td>\n",
       "      <td>5</td>\n",
       "      <td>John Rivera_2023-05-03 21:30:02</td>\n",
       "    </tr>\n",
       "    <tr>\n",
       "      <th>1</th>\n",
       "      <td>2021-05-16 13:57:44</td>\n",
       "      <td>Electronics</td>\n",
       "      <td>174</td>\n",
       "      <td>3</td>\n",
       "      <td>2448</td>\n",
       "      <td>PayPal</td>\n",
       "      <td>31</td>\n",
       "      <td>1</td>\n",
       "      <td>John Rivera</td>\n",
       "      <td>Female</td>\n",
       "      <td>0</td>\n",
       "      <td>2021</td>\n",
       "      <td>5</td>\n",
       "      <td>John Rivera_2021-05-16 13:57:44</td>\n",
       "    </tr>\n",
       "    <tr>\n",
       "      <th>2</th>\n",
       "      <td>2020-07-13 06:16:57</td>\n",
       "      <td>Books</td>\n",
       "      <td>413</td>\n",
       "      <td>1</td>\n",
       "      <td>2345</td>\n",
       "      <td>Credit Card</td>\n",
       "      <td>31</td>\n",
       "      <td>1</td>\n",
       "      <td>John Rivera</td>\n",
       "      <td>Female</td>\n",
       "      <td>0</td>\n",
       "      <td>2020</td>\n",
       "      <td>7</td>\n",
       "      <td>John Rivera_2020-07-13 06:16:57</td>\n",
       "    </tr>\n",
       "    <tr>\n",
       "      <th>3</th>\n",
       "      <td>2023-01-17 13:14:36</td>\n",
       "      <td>Electronics</td>\n",
       "      <td>396</td>\n",
       "      <td>3</td>\n",
       "      <td>937</td>\n",
       "      <td>Cash</td>\n",
       "      <td>31</td>\n",
       "      <td>0</td>\n",
       "      <td>John Rivera</td>\n",
       "      <td>Female</td>\n",
       "      <td>0</td>\n",
       "      <td>2023</td>\n",
       "      <td>1</td>\n",
       "      <td>John Rivera_2023-01-17 13:14:36</td>\n",
       "    </tr>\n",
       "    <tr>\n",
       "      <th>4</th>\n",
       "      <td>2021-05-01 11:29:27</td>\n",
       "      <td>Books</td>\n",
       "      <td>259</td>\n",
       "      <td>4</td>\n",
       "      <td>2598</td>\n",
       "      <td>PayPal</td>\n",
       "      <td>31</td>\n",
       "      <td>1</td>\n",
       "      <td>John Rivera</td>\n",
       "      <td>Female</td>\n",
       "      <td>0</td>\n",
       "      <td>2021</td>\n",
       "      <td>5</td>\n",
       "      <td>John Rivera_2021-05-01 11:29:27</td>\n",
       "    </tr>\n",
       "    <tr>\n",
       "      <th>...</th>\n",
       "      <td>...</td>\n",
       "      <td>...</td>\n",
       "      <td>...</td>\n",
       "      <td>...</td>\n",
       "      <td>...</td>\n",
       "      <td>...</td>\n",
       "      <td>...</td>\n",
       "      <td>...</td>\n",
       "      <td>...</td>\n",
       "      <td>...</td>\n",
       "      <td>...</td>\n",
       "      <td>...</td>\n",
       "      <td>...</td>\n",
       "      <td>...</td>\n",
       "    </tr>\n",
       "    <tr>\n",
       "      <th>249995</th>\n",
       "      <td>2023-01-24 12:32:18</td>\n",
       "      <td>Home</td>\n",
       "      <td>436</td>\n",
       "      <td>1</td>\n",
       "      <td>3664</td>\n",
       "      <td>Cash</td>\n",
       "      <td>63</td>\n",
       "      <td>0</td>\n",
       "      <td>Gabriel Williams</td>\n",
       "      <td>Male</td>\n",
       "      <td>0</td>\n",
       "      <td>2023</td>\n",
       "      <td>1</td>\n",
       "      <td>Gabriel Williams_2023-01-24 12:32:18</td>\n",
       "    </tr>\n",
       "    <tr>\n",
       "      <th>249996</th>\n",
       "      <td>2021-06-04 05:45:25</td>\n",
       "      <td>Electronics</td>\n",
       "      <td>233</td>\n",
       "      <td>1</td>\n",
       "      <td>4374</td>\n",
       "      <td>Credit Card</td>\n",
       "      <td>66</td>\n",
       "      <td>1</td>\n",
       "      <td>Barry Foster</td>\n",
       "      <td>Female</td>\n",
       "      <td>0</td>\n",
       "      <td>2021</td>\n",
       "      <td>6</td>\n",
       "      <td>Barry Foster_2021-06-04 05:45:25</td>\n",
       "    </tr>\n",
       "    <tr>\n",
       "      <th>249997</th>\n",
       "      <td>2022-11-10 17:11:57</td>\n",
       "      <td>Electronics</td>\n",
       "      <td>441</td>\n",
       "      <td>5</td>\n",
       "      <td>5296</td>\n",
       "      <td>Cash</td>\n",
       "      <td>63</td>\n",
       "      <td>0</td>\n",
       "      <td>Lisa Johnson</td>\n",
       "      <td>Female</td>\n",
       "      <td>0</td>\n",
       "      <td>2022</td>\n",
       "      <td>11</td>\n",
       "      <td>Lisa Johnson_2022-11-10 17:11:57</td>\n",
       "    </tr>\n",
       "    <tr>\n",
       "      <th>249998</th>\n",
       "      <td>2021-06-27 14:42:12</td>\n",
       "      <td>Electronics</td>\n",
       "      <td>44</td>\n",
       "      <td>2</td>\n",
       "      <td>2517</td>\n",
       "      <td>Cash</td>\n",
       "      <td>64</td>\n",
       "      <td>1</td>\n",
       "      <td>Melissa Fernandez</td>\n",
       "      <td>Male</td>\n",
       "      <td>0</td>\n",
       "      <td>2021</td>\n",
       "      <td>6</td>\n",
       "      <td>Melissa Fernandez_2021-06-27 14:42:12</td>\n",
       "    </tr>\n",
       "    <tr>\n",
       "      <th>249999</th>\n",
       "      <td>2020-09-07 05:12:19</td>\n",
       "      <td>Home</td>\n",
       "      <td>307</td>\n",
       "      <td>5</td>\n",
       "      <td>3634</td>\n",
       "      <td>Cash</td>\n",
       "      <td>32</td>\n",
       "      <td>0</td>\n",
       "      <td>Angela Norton</td>\n",
       "      <td>Male</td>\n",
       "      <td>0</td>\n",
       "      <td>2020</td>\n",
       "      <td>9</td>\n",
       "      <td>Angela Norton_2020-09-07 05:12:19</td>\n",
       "    </tr>\n",
       "  </tbody>\n",
       "</table>\n",
       "<p>250000 rows × 14 columns</p>\n",
       "</div>"
      ],
      "text/plain": [
       "             Purchase Date Product Category  Product Price  Quantity  \\\n",
       "0      2023-05-03 21:30:02             Home            177         1   \n",
       "1      2021-05-16 13:57:44      Electronics            174         3   \n",
       "2      2020-07-13 06:16:57            Books            413         1   \n",
       "3      2023-01-17 13:14:36      Electronics            396         3   \n",
       "4      2021-05-01 11:29:27            Books            259         4   \n",
       "...                    ...              ...            ...       ...   \n",
       "249995 2023-01-24 12:32:18             Home            436         1   \n",
       "249996 2021-06-04 05:45:25      Electronics            233         1   \n",
       "249997 2022-11-10 17:11:57      Electronics            441         5   \n",
       "249998 2021-06-27 14:42:12      Electronics             44         2   \n",
       "249999 2020-09-07 05:12:19             Home            307         5   \n",
       "\n",
       "        Total Purchase Amount Payment Method  Customer Age  Returns  \\\n",
       "0                        2427         PayPal            31        1   \n",
       "1                        2448         PayPal            31        1   \n",
       "2                        2345    Credit Card            31        1   \n",
       "3                         937           Cash            31        0   \n",
       "4                        2598         PayPal            31        1   \n",
       "...                       ...            ...           ...      ...   \n",
       "249995                   3664           Cash            63        0   \n",
       "249996                   4374    Credit Card            66        1   \n",
       "249997                   5296           Cash            63        0   \n",
       "249998                   2517           Cash            64        1   \n",
       "249999                   3634           Cash            32        0   \n",
       "\n",
       "            Customer Name  Gender  Churn  Year  Month  \\\n",
       "0             John Rivera  Female      0  2023      5   \n",
       "1             John Rivera  Female      0  2021      5   \n",
       "2             John Rivera  Female      0  2020      7   \n",
       "3             John Rivera  Female      0  2023      1   \n",
       "4             John Rivera  Female      0  2021      5   \n",
       "...                   ...     ...    ...   ...    ...   \n",
       "249995   Gabriel Williams    Male      0  2023      1   \n",
       "249996       Barry Foster  Female      0  2021      6   \n",
       "249997       Lisa Johnson  Female      0  2022     11   \n",
       "249998  Melissa Fernandez    Male      0  2021      6   \n",
       "249999      Angela Norton    Male      0  2020      9   \n",
       "\n",
       "                           Synthetic Order ID  \n",
       "0             John Rivera_2023-05-03 21:30:02  \n",
       "1             John Rivera_2021-05-16 13:57:44  \n",
       "2             John Rivera_2020-07-13 06:16:57  \n",
       "3             John Rivera_2023-01-17 13:14:36  \n",
       "4             John Rivera_2021-05-01 11:29:27  \n",
       "...                                       ...  \n",
       "249995   Gabriel Williams_2023-01-24 12:32:18  \n",
       "249996       Barry Foster_2021-06-04 05:45:25  \n",
       "249997       Lisa Johnson_2022-11-10 17:11:57  \n",
       "249998  Melissa Fernandez_2021-06-27 14:42:12  \n",
       "249999      Angela Norton_2020-09-07 05:12:19  \n",
       "\n",
       "[250000 rows x 14 columns]"
      ]
     },
     "execution_count": 6,
     "metadata": {},
     "output_type": "execute_result"
    }
   ],
   "source": [
    "df"
   ]
  },
  {
   "cell_type": "code",
   "execution_count": 7,
   "id": "c66f6909",
   "metadata": {},
   "outputs": [
    {
     "data": {
      "application/vnd.microsoft.datawrangler.viewer.v0+json": {
       "columns": [
        {
         "name": "index",
         "rawType": "object",
         "type": "string"
        },
        {
         "name": "0",
         "rawType": "object",
         "type": "unknown"
        }
       ],
       "ref": "52096520-6572-4243-8105-356dcbab789e",
       "rows": [
        [
         "Purchase Date",
         "datetime64[ns]"
        ],
        [
         "Product Category",
         "object"
        ],
        [
         "Product Price",
         "int64"
        ],
        [
         "Quantity",
         "int64"
        ],
        [
         "Total Purchase Amount",
         "int64"
        ],
        [
         "Payment Method",
         "object"
        ],
        [
         "Customer Age",
         "int64"
        ],
        [
         "Returns",
         "int32"
        ],
        [
         "Customer Name",
         "object"
        ],
        [
         "Gender",
         "object"
        ],
        [
         "Churn",
         "int64"
        ],
        [
         "Year",
         "int32"
        ],
        [
         "Month",
         "int32"
        ],
        [
         "Synthetic Order ID",
         "object"
        ]
       ],
       "shape": {
        "columns": 1,
        "rows": 14
       }
      },
      "text/plain": [
       "Purchase Date            datetime64[ns]\n",
       "Product Category                 object\n",
       "Product Price                     int64\n",
       "Quantity                          int64\n",
       "Total Purchase Amount             int64\n",
       "Payment Method                   object\n",
       "Customer Age                      int64\n",
       "Returns                           int32\n",
       "Customer Name                    object\n",
       "Gender                           object\n",
       "Churn                             int64\n",
       "Year                              int32\n",
       "Month                             int32\n",
       "Synthetic Order ID               object\n",
       "dtype: object"
      ]
     },
     "execution_count": 7,
     "metadata": {},
     "output_type": "execute_result"
    }
   ],
   "source": [
    "df.dtypes"
   ]
  },
  {
   "cell_type": "code",
   "execution_count": 8,
   "id": "a5e8891c",
   "metadata": {},
   "outputs": [],
   "source": [
    "df[\"Year\"] = pd.to_datetime(df[\"Year\"], format='%Y')"
   ]
  },
  {
   "cell_type": "code",
   "execution_count": 9,
   "id": "3fd35e95",
   "metadata": {},
   "outputs": [
    {
     "data": {
      "application/vnd.microsoft.datawrangler.viewer.v0+json": {
       "columns": [
        {
         "name": "index",
         "rawType": "object",
         "type": "string"
        },
        {
         "name": "0",
         "rawType": "object",
         "type": "unknown"
        }
       ],
       "ref": "08c0000d-e8df-4c0f-bb1e-abd932ff1d42",
       "rows": [
        [
         "Purchase Date",
         "datetime64[ns]"
        ],
        [
         "Product Category",
         "object"
        ],
        [
         "Product Price",
         "int64"
        ],
        [
         "Quantity",
         "int64"
        ],
        [
         "Total Purchase Amount",
         "int64"
        ],
        [
         "Payment Method",
         "object"
        ],
        [
         "Customer Age",
         "int64"
        ],
        [
         "Returns",
         "int32"
        ],
        [
         "Customer Name",
         "object"
        ],
        [
         "Gender",
         "object"
        ],
        [
         "Churn",
         "int64"
        ],
        [
         "Year",
         "datetime64[ns]"
        ],
        [
         "Month",
         "int32"
        ],
        [
         "Synthetic Order ID",
         "object"
        ]
       ],
       "shape": {
        "columns": 1,
        "rows": 14
       }
      },
      "text/plain": [
       "Purchase Date            datetime64[ns]\n",
       "Product Category                 object\n",
       "Product Price                     int64\n",
       "Quantity                          int64\n",
       "Total Purchase Amount             int64\n",
       "Payment Method                   object\n",
       "Customer Age                      int64\n",
       "Returns                           int32\n",
       "Customer Name                    object\n",
       "Gender                           object\n",
       "Churn                             int64\n",
       "Year                     datetime64[ns]\n",
       "Month                             int32\n",
       "Synthetic Order ID               object\n",
       "dtype: object"
      ]
     },
     "execution_count": 9,
     "metadata": {},
     "output_type": "execute_result"
    }
   ],
   "source": [
    "df.dtypes"
   ]
  },
  {
   "cell_type": "code",
   "execution_count": 10,
   "id": "0a526890",
   "metadata": {},
   "outputs": [
    {
     "data": {
      "application/vnd.microsoft.datawrangler.viewer.v0+json": {
       "columns": [
        {
         "name": "index",
         "rawType": "int64",
         "type": "integer"
        },
        {
         "name": "Purchase Date",
         "rawType": "datetime64[ns]",
         "type": "datetime"
        },
        {
         "name": "Product Category",
         "rawType": "object",
         "type": "string"
        },
        {
         "name": "Product Price",
         "rawType": "int64",
         "type": "integer"
        },
        {
         "name": "Quantity",
         "rawType": "int64",
         "type": "integer"
        },
        {
         "name": "Total Purchase Amount",
         "rawType": "int64",
         "type": "integer"
        },
        {
         "name": "Payment Method",
         "rawType": "object",
         "type": "string"
        },
        {
         "name": "Customer Age",
         "rawType": "int64",
         "type": "integer"
        },
        {
         "name": "Returns",
         "rawType": "int32",
         "type": "integer"
        },
        {
         "name": "Customer Name",
         "rawType": "object",
         "type": "string"
        },
        {
         "name": "Gender",
         "rawType": "object",
         "type": "string"
        },
        {
         "name": "Churn",
         "rawType": "int64",
         "type": "integer"
        },
        {
         "name": "Year",
         "rawType": "datetime64[ns]",
         "type": "datetime"
        },
        {
         "name": "Month",
         "rawType": "int32",
         "type": "integer"
        },
        {
         "name": "Synthetic Order ID",
         "rawType": "object",
         "type": "string"
        }
       ],
       "ref": "bb9319a5-c1a3-40f7-a3ed-64bf913c65bc",
       "rows": [
        [
         "0",
         "2023-05-03 21:30:02",
         "Home",
         "177",
         "1",
         "2427",
         "PayPal",
         "31",
         "1",
         "John Rivera",
         "Female",
         "0",
         "2023-01-01 00:00:00",
         "5",
         "John Rivera_2023-05-03 21:30:02"
        ],
        [
         "1",
         "2021-05-16 13:57:44",
         "Electronics",
         "174",
         "3",
         "2448",
         "PayPal",
         "31",
         "1",
         "John Rivera",
         "Female",
         "0",
         "2021-01-01 00:00:00",
         "5",
         "John Rivera_2021-05-16 13:57:44"
        ],
        [
         "2",
         "2020-07-13 06:16:57",
         "Books",
         "413",
         "1",
         "2345",
         "Credit Card",
         "31",
         "1",
         "John Rivera",
         "Female",
         "0",
         "2020-01-01 00:00:00",
         "7",
         "John Rivera_2020-07-13 06:16:57"
        ],
        [
         "3",
         "2023-01-17 13:14:36",
         "Electronics",
         "396",
         "3",
         "937",
         "Cash",
         "31",
         "0",
         "John Rivera",
         "Female",
         "0",
         "2023-01-01 00:00:00",
         "1",
         "John Rivera_2023-01-17 13:14:36"
        ],
        [
         "4",
         "2021-05-01 11:29:27",
         "Books",
         "259",
         "4",
         "2598",
         "PayPal",
         "31",
         "1",
         "John Rivera",
         "Female",
         "0",
         "2021-01-01 00:00:00",
         "5",
         "John Rivera_2021-05-01 11:29:27"
        ],
        [
         "5",
         "2022-08-25 06:48:33",
         "Home",
         "191",
         "3",
         "3722",
         "Credit Card",
         "27",
         "1",
         "Lauren Johnson",
         "Female",
         "0",
         "2022-01-01 00:00:00",
         "8",
         "Lauren Johnson_2022-08-25 06:48:33"
        ],
        [
         "6",
         "2023-07-25 05:17:24",
         "Electronics",
         "205",
         "1",
         "2773",
         "Credit Card",
         "27",
         "0",
         "Lauren Johnson",
         "Female",
         "0",
         "2023-01-01 00:00:00",
         "7",
         "Lauren Johnson_2023-07-25 05:17:24"
        ],
        [
         "7",
         "2023-02-05 19:31:48",
         "Books",
         "370",
         "5",
         "1486",
         "Cash",
         "27",
         "1",
         "Lauren Johnson",
         "Female",
         "0",
         "2023-01-01 00:00:00",
         "2",
         "Lauren Johnson_2023-02-05 19:31:48"
        ],
        [
         "8",
         "2021-12-21 03:29:05",
         "Home",
         "12",
         "2",
         "2175",
         "Cash",
         "27",
         "0",
         "Lauren Johnson",
         "Female",
         "0",
         "2021-01-01 00:00:00",
         "12",
         "Lauren Johnson_2021-12-21 03:29:05"
        ],
        [
         "9",
         "2023-02-09 00:53:14",
         "Electronics",
         "40",
         "4",
         "4327",
         "Cash",
         "27",
         "0",
         "Lauren Johnson",
         "Female",
         "0",
         "2023-01-01 00:00:00",
         "2",
         "Lauren Johnson_2023-02-09 00:53:14"
        ],
        [
         "10",
         "2023-02-28 19:58:23",
         "Clothing",
         "410",
         "3",
         "5018",
         "Credit Card",
         "27",
         "0",
         "Carol Allen",
         "Male",
         "0",
         "2023-01-01 00:00:00",
         "2",
         "Carol Allen_2023-02-28 19:58:23"
        ],
        [
         "11",
         "2023-01-05 11:15:27",
         "Home",
         "304",
         "1",
         "3883",
         "PayPal",
         "27",
         "1",
         "Carol Allen",
         "Male",
         "0",
         "2023-01-01 00:00:00",
         "1",
         "Carol Allen_2023-01-05 11:15:27"
        ],
        [
         "12",
         "2023-07-18 23:36:50",
         "Books",
         "54",
         "2",
         "4187",
         "PayPal",
         "27",
         "0",
         "Carol Allen",
         "Male",
         "0",
         "2023-01-01 00:00:00",
         "7",
         "Carol Allen_2023-07-18 23:36:50"
        ],
        [
         "13",
         "2021-12-20 23:44:57",
         "Electronics",
         "428",
         "4",
         "2289",
         "Cash",
         "27",
         "0",
         "Carol Allen",
         "Male",
         "0",
         "2021-01-01 00:00:00",
         "12",
         "Carol Allen_2021-12-20 23:44:57"
        ],
        [
         "14",
         "2020-03-07 21:31:35",
         "Books",
         "281",
         "1",
         "3810",
         "Cash",
         "27",
         "0",
         "Carol Allen",
         "Male",
         "0",
         "2020-01-01 00:00:00",
         "3",
         "Carol Allen_2020-03-07 21:31:35"
        ],
        [
         "15",
         "2022-07-21 04:25:44",
         "Home",
         "193",
         "2",
         "3198",
         "Credit Card",
         "27",
         "0",
         "Carol Allen",
         "Male",
         "0",
         "2022-01-01 00:00:00",
         "7",
         "Carol Allen_2022-07-21 04:25:44"
        ],
        [
         "16",
         "2023-07-05 15:01:04",
         "Clothing",
         "473",
         "3",
         "2881",
         "Credit Card",
         "27",
         "1",
         "Carol Allen",
         "Male",
         "0",
         "2023-01-01 00:00:00",
         "7",
         "Carol Allen_2023-07-05 15:01:04"
        ],
        [
         "17",
         "2020-10-18 23:38:52",
         "Books",
         "127",
         "5",
         "3347",
         "Cash",
         "20",
         "0",
         "Curtis Smith",
         "Female",
         "0",
         "2020-01-01 00:00:00",
         "10",
         "Curtis Smith_2020-10-18 23:38:52"
        ],
        [
         "18",
         "2020-05-17 17:02:36",
         "Home",
         "284",
         "2",
         "3531",
         "Credit Card",
         "20",
         "1",
         "Curtis Smith",
         "Female",
         "0",
         "2020-01-01 00:00:00",
         "5",
         "Curtis Smith_2020-05-17 17:02:36"
        ],
        [
         "19",
         "2022-03-18 13:52:08",
         "Electronics",
         "256",
         "2",
         "3548",
         "Credit Card",
         "20",
         "0",
         "Curtis Smith",
         "Female",
         "0",
         "2022-01-01 00:00:00",
         "3",
         "Curtis Smith_2022-03-18 13:52:08"
        ],
        [
         "20",
         "2021-04-21 07:58:37",
         "Clothing",
         "252",
         "2",
         "1775",
         "Credit Card",
         "20",
         "1",
         "Curtis Smith",
         "Female",
         "0",
         "2021-01-01 00:00:00",
         "4",
         "Curtis Smith_2021-04-21 07:58:37"
        ],
        [
         "21",
         "2022-01-26 12:50:30",
         "Electronics",
         "105",
         "2",
         "3721",
         "Credit Card",
         "20",
         "0",
         "Curtis Smith",
         "Female",
         "0",
         "2022-01-01 00:00:00",
         "1",
         "Curtis Smith_2022-01-26 12:50:30"
        ],
        [
         "22",
         "2020-11-11 07:19:18",
         "Electronics",
         "193",
         "2",
         "3266",
         "PayPal",
         "20",
         "1",
         "Curtis Smith",
         "Female",
         "0",
         "2020-01-01 00:00:00",
         "11",
         "Curtis Smith_2020-11-11 07:19:18"
        ],
        [
         "23",
         "2023-04-29 23:31:47",
         "Home",
         "43",
         "1",
         "2312",
         "Cash",
         "20",
         "0",
         "Curtis Smith",
         "Female",
         "0",
         "2023-01-01 00:00:00",
         "4",
         "Curtis Smith_2023-04-29 23:31:47"
        ],
        [
         "24",
         "2022-07-04 16:04:01",
         "Home",
         "30",
         "5",
         "642",
         "PayPal",
         "20",
         "1",
         "Curtis Smith",
         "Female",
         "0",
         "2022-01-01 00:00:00",
         "7",
         "Curtis Smith_2022-07-04 16:04:01"
        ],
        [
         "25",
         "2021-08-01 05:27:13",
         "Electronics",
         "30",
         "3",
         "5024",
         "Credit Card",
         "20",
         "1",
         "Curtis Smith",
         "Female",
         "0",
         "2021-01-01 00:00:00",
         "8",
         "Curtis Smith_2021-08-01 05:27:13"
        ],
        [
         "26",
         "2020-05-24 06:45:48",
         "Electronics",
         "307",
         "3",
         "973",
         "PayPal",
         "20",
         "0",
         "Curtis Smith",
         "Female",
         "0",
         "2020-01-01 00:00:00",
         "5",
         "Curtis Smith_2020-05-24 06:45:48"
        ],
        [
         "27",
         "2022-03-24 00:05:26",
         "Electronics",
         "254",
         "1",
         "3865",
         "PayPal",
         "20",
         "0",
         "Curtis Smith",
         "Female",
         "0",
         "2022-01-01 00:00:00",
         "3",
         "Curtis Smith_2022-03-24 00:05:26"
        ],
        [
         "28",
         "2022-09-02 04:00:49",
         "Books",
         "12",
         "3",
         "3112",
         "Cash",
         "20",
         "1",
         "Curtis Smith",
         "Female",
         "0",
         "2022-01-01 00:00:00",
         "9",
         "Curtis Smith_2022-09-02 04:00:49"
        ],
        [
         "29",
         "2021-11-14 10:23:14",
         "Books",
         "66",
         "3",
         "250",
         "PayPal",
         "20",
         "1",
         "Curtis Smith",
         "Female",
         "0",
         "2021-01-01 00:00:00",
         "11",
         "Curtis Smith_2021-11-14 10:23:14"
        ],
        [
         "30",
         "2020-11-17 13:14:27",
         "Electronics",
         "102",
         "2",
         "5206",
         "Credit Card",
         "53",
         "1",
         "Jose Green",
         "Male",
         "0",
         "2020-01-01 00:00:00",
         "11",
         "Jose Green_2020-11-17 13:14:27"
        ],
        [
         "31",
         "2021-05-07 09:54:22",
         "Books",
         "187",
         "5",
         "629",
         "PayPal",
         "53",
         "1",
         "Jose Green",
         "Male",
         "0",
         "2021-01-01 00:00:00",
         "5",
         "Jose Green_2021-05-07 09:54:22"
        ],
        [
         "32",
         "2022-09-07 05:06:52",
         "Books",
         "86",
         "1",
         "843",
         "Credit Card",
         "53",
         "1",
         "Jose Green",
         "Male",
         "0",
         "2022-01-01 00:00:00",
         "9",
         "Jose Green_2022-09-07 05:06:52"
        ],
        [
         "33",
         "2020-07-05 06:30:39",
         "Electronics",
         "364",
         "3",
         "1008",
         "Credit Card",
         "53",
         "0",
         "Jose Green",
         "Male",
         "0",
         "2020-01-01 00:00:00",
         "7",
         "Jose Green_2020-07-05 06:30:39"
        ],
        [
         "34",
         "2022-01-11 10:56:31",
         "Books",
         "210",
         "2",
         "4567",
         "Credit Card",
         "53",
         "0",
         "Jose Green",
         "Male",
         "0",
         "2022-01-01 00:00:00",
         "1",
         "Jose Green_2022-01-11 10:56:31"
        ],
        [
         "35",
         "2022-01-12 22:49:28",
         "Clothing",
         "304",
         "3",
         "4869",
         "PayPal",
         "57",
         "1",
         "Linda Lee",
         "Male",
         "0",
         "2022-01-01 00:00:00",
         "1",
         "Linda Lee_2022-01-12 22:49:28"
        ],
        [
         "36",
         "2021-06-26 23:49:18",
         "Electronics",
         "329",
         "1",
         "3391",
         "Cash",
         "57",
         "1",
         "Linda Lee",
         "Male",
         "0",
         "2021-01-01 00:00:00",
         "6",
         "Linda Lee_2021-06-26 23:49:18"
        ],
        [
         "37",
         "2022-06-30 06:11:14",
         "Clothing",
         "306",
         "4",
         "1712",
         "Credit Card",
         "57",
         "1",
         "Linda Lee",
         "Male",
         "0",
         "2022-01-01 00:00:00",
         "6",
         "Linda Lee_2022-06-30 06:11:14"
        ],
        [
         "38",
         "2020-04-20 14:08:25",
         "Electronics",
         "165",
         "5",
         "603",
         "Credit Card",
         "57",
         "0",
         "Linda Lee",
         "Male",
         "0",
         "2020-01-01 00:00:00",
         "4",
         "Linda Lee_2020-04-20 14:08:25"
        ],
        [
         "39",
         "2021-03-23 17:36:30",
         "Electronics",
         "218",
         "4",
         "2866",
         "PayPal",
         "57",
         "0",
         "Linda Lee",
         "Male",
         "0",
         "2021-01-01 00:00:00",
         "3",
         "Linda Lee_2021-03-23 17:36:30"
        ],
        [
         "40",
         "2023-05-16 01:34:44",
         "Clothing",
         "392",
         "3",
         "1378",
         "Credit Card",
         "34",
         "0",
         "Joshua Davis",
         "Male",
         "1",
         "2023-01-01 00:00:00",
         "5",
         "Joshua Davis_2023-05-16 01:34:44"
        ],
        [
         "41",
         "2021-10-27 16:25:14",
         "Clothing",
         "238",
         "3",
         "1760",
         "Credit Card",
         "34",
         "0",
         "Joshua Davis",
         "Male",
         "1",
         "2021-01-01 00:00:00",
         "10",
         "Joshua Davis_2021-10-27 16:25:14"
        ],
        [
         "42",
         "2021-12-09 07:43:45",
         "Books",
         "174",
         "5",
         "4517",
         "Credit Card",
         "34",
         "0",
         "Joshua Davis",
         "Male",
         "1",
         "2021-01-01 00:00:00",
         "12",
         "Joshua Davis_2021-12-09 07:43:45"
        ],
        [
         "43",
         "2022-10-18 22:58:32",
         "Electronics",
         "41",
         "2",
         "743",
         "Cash",
         "34",
         "0",
         "Joshua Davis",
         "Male",
         "1",
         "2022-01-01 00:00:00",
         "10",
         "Joshua Davis_2022-10-18 22:58:32"
        ],
        [
         "44",
         "2021-08-20 23:25:47",
         "Books",
         "118",
         "2",
         "3672",
         "Cash",
         "45",
         "0",
         "Ellen Kent",
         "Male",
         "0",
         "2021-01-01 00:00:00",
         "8",
         "Ellen Kent_2021-08-20 23:25:47"
        ],
        [
         "45",
         "2020-02-14 04:47:32",
         "Clothing",
         "14",
         "4",
         "2733",
         "PayPal",
         "45",
         "0",
         "Ellen Kent",
         "Male",
         "0",
         "2020-01-01 00:00:00",
         "2",
         "Ellen Kent_2020-02-14 04:47:32"
        ],
        [
         "46",
         "2021-11-28 19:39:49",
         "Home",
         "424",
         "1",
         "631",
         "Cash",
         "45",
         "0",
         "Ellen Kent",
         "Male",
         "0",
         "2021-01-01 00:00:00",
         "11",
         "Ellen Kent_2021-11-28 19:39:49"
        ],
        [
         "47",
         "2020-10-30 10:38:20",
         "Clothing",
         "351",
         "5",
         "716",
         "PayPal",
         "45",
         "0",
         "Ellen Kent",
         "Male",
         "0",
         "2020-01-01 00:00:00",
         "10",
         "Ellen Kent_2020-10-30 10:38:20"
        ],
        [
         "48",
         "2020-11-25 09:05:42",
         "Clothing",
         "89",
         "1",
         "3577",
         "PayPal",
         "45",
         "1",
         "Ellen Kent",
         "Male",
         "0",
         "2020-01-01 00:00:00",
         "11",
         "Ellen Kent_2020-11-25 09:05:42"
        ],
        [
         "49",
         "2020-09-13 15:30:54",
         "Home",
         "287",
         "3",
         "3908",
         "Cash",
         "45",
         "0",
         "Ellen Kent",
         "Male",
         "0",
         "2020-01-01 00:00:00",
         "9",
         "Ellen Kent_2020-09-13 15:30:54"
        ]
       ],
       "shape": {
        "columns": 14,
        "rows": 250000
       }
      },
      "text/html": [
       "<div>\n",
       "<style scoped>\n",
       "    .dataframe tbody tr th:only-of-type {\n",
       "        vertical-align: middle;\n",
       "    }\n",
       "\n",
       "    .dataframe tbody tr th {\n",
       "        vertical-align: top;\n",
       "    }\n",
       "\n",
       "    .dataframe thead th {\n",
       "        text-align: right;\n",
       "    }\n",
       "</style>\n",
       "<table border=\"1\" class=\"dataframe\">\n",
       "  <thead>\n",
       "    <tr style=\"text-align: right;\">\n",
       "      <th></th>\n",
       "      <th>Purchase Date</th>\n",
       "      <th>Product Category</th>\n",
       "      <th>Product Price</th>\n",
       "      <th>Quantity</th>\n",
       "      <th>Total Purchase Amount</th>\n",
       "      <th>Payment Method</th>\n",
       "      <th>Customer Age</th>\n",
       "      <th>Returns</th>\n",
       "      <th>Customer Name</th>\n",
       "      <th>Gender</th>\n",
       "      <th>Churn</th>\n",
       "      <th>Year</th>\n",
       "      <th>Month</th>\n",
       "      <th>Synthetic Order ID</th>\n",
       "    </tr>\n",
       "  </thead>\n",
       "  <tbody>\n",
       "    <tr>\n",
       "      <th>0</th>\n",
       "      <td>2023-05-03 21:30:02</td>\n",
       "      <td>Home</td>\n",
       "      <td>177</td>\n",
       "      <td>1</td>\n",
       "      <td>2427</td>\n",
       "      <td>PayPal</td>\n",
       "      <td>31</td>\n",
       "      <td>1</td>\n",
       "      <td>John Rivera</td>\n",
       "      <td>Female</td>\n",
       "      <td>0</td>\n",
       "      <td>2023-01-01</td>\n",
       "      <td>5</td>\n",
       "      <td>John Rivera_2023-05-03 21:30:02</td>\n",
       "    </tr>\n",
       "    <tr>\n",
       "      <th>1</th>\n",
       "      <td>2021-05-16 13:57:44</td>\n",
       "      <td>Electronics</td>\n",
       "      <td>174</td>\n",
       "      <td>3</td>\n",
       "      <td>2448</td>\n",
       "      <td>PayPal</td>\n",
       "      <td>31</td>\n",
       "      <td>1</td>\n",
       "      <td>John Rivera</td>\n",
       "      <td>Female</td>\n",
       "      <td>0</td>\n",
       "      <td>2021-01-01</td>\n",
       "      <td>5</td>\n",
       "      <td>John Rivera_2021-05-16 13:57:44</td>\n",
       "    </tr>\n",
       "    <tr>\n",
       "      <th>2</th>\n",
       "      <td>2020-07-13 06:16:57</td>\n",
       "      <td>Books</td>\n",
       "      <td>413</td>\n",
       "      <td>1</td>\n",
       "      <td>2345</td>\n",
       "      <td>Credit Card</td>\n",
       "      <td>31</td>\n",
       "      <td>1</td>\n",
       "      <td>John Rivera</td>\n",
       "      <td>Female</td>\n",
       "      <td>0</td>\n",
       "      <td>2020-01-01</td>\n",
       "      <td>7</td>\n",
       "      <td>John Rivera_2020-07-13 06:16:57</td>\n",
       "    </tr>\n",
       "    <tr>\n",
       "      <th>3</th>\n",
       "      <td>2023-01-17 13:14:36</td>\n",
       "      <td>Electronics</td>\n",
       "      <td>396</td>\n",
       "      <td>3</td>\n",
       "      <td>937</td>\n",
       "      <td>Cash</td>\n",
       "      <td>31</td>\n",
       "      <td>0</td>\n",
       "      <td>John Rivera</td>\n",
       "      <td>Female</td>\n",
       "      <td>0</td>\n",
       "      <td>2023-01-01</td>\n",
       "      <td>1</td>\n",
       "      <td>John Rivera_2023-01-17 13:14:36</td>\n",
       "    </tr>\n",
       "    <tr>\n",
       "      <th>4</th>\n",
       "      <td>2021-05-01 11:29:27</td>\n",
       "      <td>Books</td>\n",
       "      <td>259</td>\n",
       "      <td>4</td>\n",
       "      <td>2598</td>\n",
       "      <td>PayPal</td>\n",
       "      <td>31</td>\n",
       "      <td>1</td>\n",
       "      <td>John Rivera</td>\n",
       "      <td>Female</td>\n",
       "      <td>0</td>\n",
       "      <td>2021-01-01</td>\n",
       "      <td>5</td>\n",
       "      <td>John Rivera_2021-05-01 11:29:27</td>\n",
       "    </tr>\n",
       "    <tr>\n",
       "      <th>...</th>\n",
       "      <td>...</td>\n",
       "      <td>...</td>\n",
       "      <td>...</td>\n",
       "      <td>...</td>\n",
       "      <td>...</td>\n",
       "      <td>...</td>\n",
       "      <td>...</td>\n",
       "      <td>...</td>\n",
       "      <td>...</td>\n",
       "      <td>...</td>\n",
       "      <td>...</td>\n",
       "      <td>...</td>\n",
       "      <td>...</td>\n",
       "      <td>...</td>\n",
       "    </tr>\n",
       "    <tr>\n",
       "      <th>249995</th>\n",
       "      <td>2023-01-24 12:32:18</td>\n",
       "      <td>Home</td>\n",
       "      <td>436</td>\n",
       "      <td>1</td>\n",
       "      <td>3664</td>\n",
       "      <td>Cash</td>\n",
       "      <td>63</td>\n",
       "      <td>0</td>\n",
       "      <td>Gabriel Williams</td>\n",
       "      <td>Male</td>\n",
       "      <td>0</td>\n",
       "      <td>2023-01-01</td>\n",
       "      <td>1</td>\n",
       "      <td>Gabriel Williams_2023-01-24 12:32:18</td>\n",
       "    </tr>\n",
       "    <tr>\n",
       "      <th>249996</th>\n",
       "      <td>2021-06-04 05:45:25</td>\n",
       "      <td>Electronics</td>\n",
       "      <td>233</td>\n",
       "      <td>1</td>\n",
       "      <td>4374</td>\n",
       "      <td>Credit Card</td>\n",
       "      <td>66</td>\n",
       "      <td>1</td>\n",
       "      <td>Barry Foster</td>\n",
       "      <td>Female</td>\n",
       "      <td>0</td>\n",
       "      <td>2021-01-01</td>\n",
       "      <td>6</td>\n",
       "      <td>Barry Foster_2021-06-04 05:45:25</td>\n",
       "    </tr>\n",
       "    <tr>\n",
       "      <th>249997</th>\n",
       "      <td>2022-11-10 17:11:57</td>\n",
       "      <td>Electronics</td>\n",
       "      <td>441</td>\n",
       "      <td>5</td>\n",
       "      <td>5296</td>\n",
       "      <td>Cash</td>\n",
       "      <td>63</td>\n",
       "      <td>0</td>\n",
       "      <td>Lisa Johnson</td>\n",
       "      <td>Female</td>\n",
       "      <td>0</td>\n",
       "      <td>2022-01-01</td>\n",
       "      <td>11</td>\n",
       "      <td>Lisa Johnson_2022-11-10 17:11:57</td>\n",
       "    </tr>\n",
       "    <tr>\n",
       "      <th>249998</th>\n",
       "      <td>2021-06-27 14:42:12</td>\n",
       "      <td>Electronics</td>\n",
       "      <td>44</td>\n",
       "      <td>2</td>\n",
       "      <td>2517</td>\n",
       "      <td>Cash</td>\n",
       "      <td>64</td>\n",
       "      <td>1</td>\n",
       "      <td>Melissa Fernandez</td>\n",
       "      <td>Male</td>\n",
       "      <td>0</td>\n",
       "      <td>2021-01-01</td>\n",
       "      <td>6</td>\n",
       "      <td>Melissa Fernandez_2021-06-27 14:42:12</td>\n",
       "    </tr>\n",
       "    <tr>\n",
       "      <th>249999</th>\n",
       "      <td>2020-09-07 05:12:19</td>\n",
       "      <td>Home</td>\n",
       "      <td>307</td>\n",
       "      <td>5</td>\n",
       "      <td>3634</td>\n",
       "      <td>Cash</td>\n",
       "      <td>32</td>\n",
       "      <td>0</td>\n",
       "      <td>Angela Norton</td>\n",
       "      <td>Male</td>\n",
       "      <td>0</td>\n",
       "      <td>2020-01-01</td>\n",
       "      <td>9</td>\n",
       "      <td>Angela Norton_2020-09-07 05:12:19</td>\n",
       "    </tr>\n",
       "  </tbody>\n",
       "</table>\n",
       "<p>250000 rows × 14 columns</p>\n",
       "</div>"
      ],
      "text/plain": [
       "             Purchase Date Product Category  Product Price  Quantity  \\\n",
       "0      2023-05-03 21:30:02             Home            177         1   \n",
       "1      2021-05-16 13:57:44      Electronics            174         3   \n",
       "2      2020-07-13 06:16:57            Books            413         1   \n",
       "3      2023-01-17 13:14:36      Electronics            396         3   \n",
       "4      2021-05-01 11:29:27            Books            259         4   \n",
       "...                    ...              ...            ...       ...   \n",
       "249995 2023-01-24 12:32:18             Home            436         1   \n",
       "249996 2021-06-04 05:45:25      Electronics            233         1   \n",
       "249997 2022-11-10 17:11:57      Electronics            441         5   \n",
       "249998 2021-06-27 14:42:12      Electronics             44         2   \n",
       "249999 2020-09-07 05:12:19             Home            307         5   \n",
       "\n",
       "        Total Purchase Amount Payment Method  Customer Age  Returns  \\\n",
       "0                        2427         PayPal            31        1   \n",
       "1                        2448         PayPal            31        1   \n",
       "2                        2345    Credit Card            31        1   \n",
       "3                         937           Cash            31        0   \n",
       "4                        2598         PayPal            31        1   \n",
       "...                       ...            ...           ...      ...   \n",
       "249995                   3664           Cash            63        0   \n",
       "249996                   4374    Credit Card            66        1   \n",
       "249997                   5296           Cash            63        0   \n",
       "249998                   2517           Cash            64        1   \n",
       "249999                   3634           Cash            32        0   \n",
       "\n",
       "            Customer Name  Gender  Churn       Year  Month  \\\n",
       "0             John Rivera  Female      0 2023-01-01      5   \n",
       "1             John Rivera  Female      0 2021-01-01      5   \n",
       "2             John Rivera  Female      0 2020-01-01      7   \n",
       "3             John Rivera  Female      0 2023-01-01      1   \n",
       "4             John Rivera  Female      0 2021-01-01      5   \n",
       "...                   ...     ...    ...        ...    ...   \n",
       "249995   Gabriel Williams    Male      0 2023-01-01      1   \n",
       "249996       Barry Foster  Female      0 2021-01-01      6   \n",
       "249997       Lisa Johnson  Female      0 2022-01-01     11   \n",
       "249998  Melissa Fernandez    Male      0 2021-01-01      6   \n",
       "249999      Angela Norton    Male      0 2020-01-01      9   \n",
       "\n",
       "                           Synthetic Order ID  \n",
       "0             John Rivera_2023-05-03 21:30:02  \n",
       "1             John Rivera_2021-05-16 13:57:44  \n",
       "2             John Rivera_2020-07-13 06:16:57  \n",
       "3             John Rivera_2023-01-17 13:14:36  \n",
       "4             John Rivera_2021-05-01 11:29:27  \n",
       "...                                       ...  \n",
       "249995   Gabriel Williams_2023-01-24 12:32:18  \n",
       "249996       Barry Foster_2021-06-04 05:45:25  \n",
       "249997       Lisa Johnson_2022-11-10 17:11:57  \n",
       "249998  Melissa Fernandez_2021-06-27 14:42:12  \n",
       "249999      Angela Norton_2020-09-07 05:12:19  \n",
       "\n",
       "[250000 rows x 14 columns]"
      ]
     },
     "execution_count": 10,
     "metadata": {},
     "output_type": "execute_result"
    }
   ],
   "source": [
    "df"
   ]
  },
  {
   "cell_type": "markdown",
   "id": "9aa4bd0a",
   "metadata": {},
   "source": [
    "## 5. Descriptive EDA + Visualizations\n"
   ]
  },
  {
   "cell_type": "code",
   "execution_count": 11,
   "id": "259b9495",
   "metadata": {},
   "outputs": [
    {
     "data": {
      "image/png": "[encoded data removed]",
      "text/plain": [
       "<Figure size 1000x600 with 1 Axes>"
      ]
     },
     "metadata": {},
     "output_type": "display_data"
    }
   ],
   "source": [
    "# Churn Count by Gender\n",
    "sns.countplot(data=df, x=\"Churn\", hue=\"Gender\")\n",
    "plt.title(\"Churn Count by Gender\")\n",
    "plt.show()\n"
   ]
  },
  {
   "cell_type": "code",
   "execution_count": 12,
   "id": "f7ae3a3c",
   "metadata": {},
   "outputs": [
    {
     "data": {
      "image/png": "[encoded data removed]",
      "text/plain": [
       "<Figure size 1000x600 with 1 Axes>"
      ]
     },
     "metadata": {},
     "output_type": "display_data"
    }
   ],
   "source": [
    "# Total Spend per Customer\n",
    "total_spend = df.groupby(\"Customer Name\")[\"Product Price\"].sum().reset_index()\n",
    "\n",
    "sns.histplot(data=total_spend, x=\"Product Price\", bins=30, kde=True)\n",
    "plt.title(\"Total Spend Distribution\")\n",
    "plt.xlabel(\"Total Spend\")\n",
    "plt.ylabel(\"Number of Customers\")\n",
    "plt.show()\n"
   ]
  },
  {
   "cell_type": "code",
   "execution_count": 13,
   "id": "e7a067c5",
   "metadata": {},
   "outputs": [
    {
     "data": {
      "image/png": "[encoded data removed]",
      "text/plain": [
       "<Figure size 1000x600 with 1 Axes>"
      ]
     },
     "metadata": {},
     "output_type": "display_data"
    }
   ],
   "source": [
    "# Average Order Value (Top 10 Customers)\n",
    "avg_spend = df.groupby([\"Customer Name\", \"Gender\"])[\"Product Price\"].mean().reset_index()\n",
    "\n",
    "sns.barplot(data=avg_spend.sort_values(\"Product Price\", ascending=False).head(10),\n",
    "            x=\"Customer Name\", y=\"Product Price\", hue=\"Gender\")\n",
    "plt.xticks(rotation=45)\n",
    "plt.title(\"Top 10 Customers by Avg Spend\")\n",
    "plt.show()\n"
   ]
  },
  {
   "cell_type": "code",
   "execution_count": 14,
   "id": "c47523c5",
   "metadata": {},
   "outputs": [
    {
     "data": {
      "image/png": "[encoded data removed]",
      "text/plain": [
       "<Figure size 1000x600 with 1 Axes>"
      ]
     },
     "metadata": {},
     "output_type": "display_data"
    }
   ],
   "source": [
    "# Revenue by Product Category\n",
    "df.groupby(\"Product Category\")[\"Product Price\"].sum().sort_values(ascending=False).plot(kind='bar')\n",
    "plt.title(\"Revenue by Product Category\")\n",
    "plt.ylabel(\"Total Revenue\")\n",
    "plt.show()\n"
   ]
  },
  {
   "cell_type": "code",
   "execution_count": 15,
   "id": "b4bb680d",
   "metadata": {},
   "outputs": [
    {
     "data": {
      "image/png": "[encoded data removed]",
      "text/plain": [
       "<Figure size 1000x600 with 1 Axes>"
      ]
     },
     "metadata": {},
     "output_type": "display_data"
    }
   ],
   "source": [
    "# Churn Over Time (Yearly)\n",
    "df[\"Churn\"] = df[\"Churn\"].astype(int)\n",
    "churn_time = df.groupby([\"Year\", \"Month\"])[\"Churn\"].mean().reset_index()\n",
    "churn_time[\"Churn\"] *= 100\n",
    "\n",
    "sns.lineplot(data=churn_time, x=\"Year\", y=\"Churn\", marker='o')\n",
    "plt.title(\"Churn Rate Over Time\")\n",
    "plt.ylabel(\"Churn Rate (%)\")\n",
    "plt.show()\n"
   ]
  },
  {
   "cell_type": "code",
   "execution_count": 16,
   "id": "1dfd4511",
   "metadata": {},
   "outputs": [
    {
     "data": {
      "image/png": "[encoded data removed]",
      "text/plain": [
       "<Figure size 1000x600 with 1 Axes>"
      ]
     },
     "metadata": {},
     "output_type": "display_data"
    }
   ],
   "source": [
    "# Churn by Product Category\n",
    "churn_cat = df.groupby(\"Product Category\")[\"Churn\"].mean().reset_index()\n",
    "plt.pie(churn_cat[\"Churn\"], labels=churn_cat[\"Product Category\"], autopct='%1.1f%%', startangle=140)\n",
    "plt.title(\"Churn Rate by Product Category\")\n",
    "plt.axis('equal')\n",
    "plt.show()\n"
   ]
  },
  {
   "cell_type": "code",
   "execution_count": 17,
   "id": "2093a997",
   "metadata": {},
   "outputs": [
    {
     "data": {
      "image/png": "[encoded data removed]",
      "text/plain": [
       "<Figure size 1000x600 with 1 Axes>"
      ]
     },
     "metadata": {},
     "output_type": "display_data"
    }
   ],
   "source": [
    "# Payment Method Preference\n",
    "df[\"Payment Method\"].value_counts().plot(kind='bar')\n",
    "plt.title(\"Preferred Payment Methods\")\n",
    "plt.xlabel(\"Payment Method\")\n",
    "plt.ylabel(\"Count\")\n",
    "plt.show()\n"
   ]
  },
  {
   "cell_type": "code",
   "execution_count": 18,
   "id": "a7363313",
   "metadata": {},
   "outputs": [
    {
     "data": {
      "image/png": "[encoded data removed]",
      "text/plain": [
       "<Figure size 1000x600 with 2 Axes>"
      ]
     },
     "metadata": {},
     "output_type": "display_data"
    }
   ],
   "source": [
    "# Correlation: Returns vs Churn\n",
    "sns.heatmap(df[[\"Returns\", \"Churn\"]].corr(), annot=True, cmap='coolwarm')\n",
    "plt.title(\"Returns vs Churn Correlation\")\n",
    "plt.show()\n"
   ]
  },
  {
   "cell_type": "code",
   "execution_count": 19,
   "id": "3af29552",
   "metadata": {},
   "outputs": [
    {
     "data": {
      "image/png": "[encoded data removed]",
      "text/plain": [
       "<Figure size 1000x600 with 1 Axes>"
      ]
     },
     "metadata": {},
     "output_type": "display_data"
    }
   ],
   "source": [
    "# Total Spend by Month\n",
    "df.groupby(\"Month\")[\"Product Price\"].sum().plot(kind='bar')\n",
    "plt.title(\"Total Monthly Spend\")\n",
    "plt.ylabel(\"Revenue\")\n",
    "plt.xlabel(\"Month\")\n",
    "plt.show()\n"
   ]
  },
  {
   "cell_type": "code",
   "execution_count": 20,
   "id": "3b0c8093",
   "metadata": {},
   "outputs": [
    {
     "data": {
      "image/png": "[encoded data removed]",
      "text/plain": [
       "<Figure size 1000x600 with 1 Axes>"
      ]
     },
     "metadata": {},
     "output_type": "display_data"
    }
   ],
   "source": [
    "# Yearly Churn Rate\n",
    "df.groupby(\"Year\")[\"Churn\"].mean().plot(kind='line', marker='o')\n",
    "plt.title(\"Yearly Churn Rate\")\n",
    "plt.ylabel(\"Churn Rate\")\n",
    "plt.xlabel(\"Year\")\n",
    "plt.show()\n"
   ]
  },
  {
   "cell_type": "markdown",
   "id": "b5635b3a",
   "metadata": {},
   "source": [
    "## 6. RFM Analysis"
   ]
  },
  {
   "cell_type": "code",
   "execution_count": 21,
   "id": "6d8aa768",
   "metadata": {},
   "outputs": [],
   "source": [
    "recency = last_pur_date.copy() "
   ]
  },
  {
   "cell_type": "code",
   "execution_count": 22,
   "id": "c68070ad",
   "metadata": {},
   "outputs": [],
   "source": [
    "del last_pur_date"
   ]
  },
  {
   "cell_type": "code",
   "execution_count": 23,
   "id": "1daee20d",
   "metadata": {},
   "outputs": [
    {
     "data": {
      "application/vnd.microsoft.datawrangler.viewer.v0+json": {
       "columns": [
        {
         "name": "Customer Name",
         "rawType": "object",
         "type": "string"
        },
        {
         "name": "Purchase Date",
         "rawType": "datetime64[ns]",
         "type": "datetime"
        }
       ],
       "ref": "561bb4d5-7545-4e8a-a20f-0b8989d8dcb4",
       "rows": [
        [
         "Aaron Alexander",
         "2023-01-08 20:32:57"
        ],
        [
         "Aaron Archer",
         "2022-10-16 20:06:59"
        ],
        [
         "Aaron Armstrong",
         "2023-02-17 07:43:56"
        ],
        [
         "Aaron Avery",
         "2023-05-03 03:45:14"
        ],
        [
         "Aaron Avila",
         "2023-08-28 18:51:46"
        ],
        [
         "Aaron Ayala",
         "2023-02-02 00:59:28"
        ],
        [
         "Aaron Baker",
         "2023-03-31 13:48:39"
        ],
        [
         "Aaron Bennett",
         "2023-09-01 11:41:53"
        ],
        [
         "Aaron Best",
         "2023-05-07 14:37:22"
        ],
        [
         "Aaron Boone",
         "2023-09-11 08:02:34"
        ],
        [
         "Aaron Boyer",
         "2023-05-06 16:25:45"
        ],
        [
         "Aaron Bradley",
         "2023-05-10 06:43:09"
        ],
        [
         "Aaron Brown",
         "2022-06-21 09:30:55"
        ],
        [
         "Aaron Burns",
         "2023-07-15 18:48:29"
        ],
        [
         "Aaron Butler",
         "2022-03-09 09:20:42"
        ],
        [
         "Aaron Calhoun",
         "2021-02-24 20:48:59"
        ],
        [
         "Aaron Carroll",
         "2023-02-12 06:26:00"
        ],
        [
         "Aaron Carson",
         "2023-08-23 06:30:17"
        ],
        [
         "Aaron Castillo",
         "2022-12-11 11:00:56"
        ],
        [
         "Aaron Chapman",
         "2023-09-02 09:29:48"
        ],
        [
         "Aaron Chavez",
         "2022-12-06 16:46:48"
        ],
        [
         "Aaron Chung",
         "2023-03-24 11:07:42"
        ],
        [
         "Aaron Clark",
         "2023-02-03 03:19:07"
        ],
        [
         "Aaron Cole",
         "2023-07-21 12:46:26"
        ],
        [
         "Aaron Cook",
         "2023-09-11 18:48:26"
        ],
        [
         "Aaron Copeland",
         "2022-07-13 06:12:09"
        ],
        [
         "Aaron Cross",
         "2023-04-14 16:27:38"
        ],
        [
         "Aaron Davenport",
         "2022-02-08 23:00:00"
        ],
        [
         "Aaron David",
         "2023-08-03 17:18:58"
        ],
        [
         "Aaron Davis",
         "2022-04-24 15:09:01"
        ],
        [
         "Aaron Day",
         "2022-06-24 09:21:35"
        ],
        [
         "Aaron Dean",
         "2023-04-29 04:14:14"
        ],
        [
         "Aaron Deleon",
         "2022-12-09 18:03:21"
        ],
        [
         "Aaron Dunlap",
         "2023-03-24 06:02:08"
        ],
        [
         "Aaron Ellis",
         "2023-03-16 22:48:41"
        ],
        [
         "Aaron Evans",
         "2023-03-31 21:06:36"
        ],
        [
         "Aaron Ferguson",
         "2022-06-10 11:03:36"
        ],
        [
         "Aaron Fernandez",
         "2023-05-16 05:54:08"
        ],
        [
         "Aaron Flores",
         "2022-12-13 07:00:35"
        ],
        [
         "Aaron Ford",
         "2023-07-19 13:48:15"
        ],
        [
         "Aaron Fuller",
         "2023-05-01 07:46:47"
        ],
        [
         "Aaron Gaines",
         "2022-06-06 20:29:39"
        ],
        [
         "Aaron Garcia",
         "2023-07-11 08:29:52"
        ],
        [
         "Aaron Gates",
         "2023-06-24 11:50:43"
        ],
        [
         "Aaron Gentry",
         "2022-09-26 05:26:30"
        ],
        [
         "Aaron George",
         "2022-12-19 20:21:48"
        ],
        [
         "Aaron Good",
         "2023-06-05 20:32:30"
        ],
        [
         "Aaron Gray",
         "2022-10-21 13:42:00"
        ],
        [
         "Aaron Green",
         "2023-05-17 07:33:49"
        ],
        [
         "Aaron Griffith",
         "2022-10-26 19:11:06"
        ]
       ],
       "shape": {
        "columns": 1,
        "rows": 39878
       }
      },
      "text/plain": [
       "Customer Name\n",
       "Aaron Alexander   2023-01-08 20:32:57\n",
       "Aaron Archer      2022-10-16 20:06:59\n",
       "Aaron Armstrong   2023-02-17 07:43:56\n",
       "Aaron Avery       2023-05-03 03:45:14\n",
       "Aaron Avila       2023-08-28 18:51:46\n",
       "                          ...        \n",
       "Zoe Myers         2023-08-02 05:16:20\n",
       "Zoe Torres        2021-04-22 05:55:27\n",
       "Zoe Walker        2021-11-14 20:27:43\n",
       "Zoe Watson        2022-10-30 22:51:39\n",
       "Zoe Young         2020-12-25 04:33:36\n",
       "Name: Purchase Date, Length: 39878, dtype: datetime64[ns]"
      ]
     },
     "execution_count": 23,
     "metadata": {},
     "output_type": "execute_result"
    }
   ],
   "source": [
    "recency # Will give us the last purchase date for each customer"
   ]
  },
  {
   "cell_type": "code",
   "execution_count": 24,
   "id": "d4452604",
   "metadata": {},
   "outputs": [
    {
     "data": {
      "application/vnd.microsoft.datawrangler.viewer.v0+json": {
       "columns": [
        {
         "name": "index",
         "rawType": "int64",
         "type": "integer"
        },
        {
         "name": "Purchase Date",
         "rawType": "datetime64[ns]",
         "type": "datetime"
        },
        {
         "name": "Product Category",
         "rawType": "object",
         "type": "string"
        },
        {
         "name": "Product Price",
         "rawType": "int64",
         "type": "integer"
        },
        {
         "name": "Quantity",
         "rawType": "int64",
         "type": "integer"
        },
        {
         "name": "Total Purchase Amount",
         "rawType": "int64",
         "type": "integer"
        },
        {
         "name": "Payment Method",
         "rawType": "object",
         "type": "string"
        },
        {
         "name": "Customer Age",
         "rawType": "int64",
         "type": "integer"
        },
        {
         "name": "Returns",
         "rawType": "int32",
         "type": "integer"
        },
        {
         "name": "Customer Name",
         "rawType": "object",
         "type": "string"
        },
        {
         "name": "Gender",
         "rawType": "object",
         "type": "string"
        },
        {
         "name": "Churn",
         "rawType": "int32",
         "type": "integer"
        },
        {
         "name": "Year",
         "rawType": "datetime64[ns]",
         "type": "datetime"
        },
        {
         "name": "Month",
         "rawType": "int32",
         "type": "integer"
        },
        {
         "name": "Synthetic Order ID",
         "rawType": "object",
         "type": "string"
        }
       ],
       "ref": "cab27ddd-7741-4d35-9ccb-be3ba1affbf7",
       "rows": [
        [
         "0",
         "2023-05-03 21:30:02",
         "Home",
         "177",
         "1",
         "2427",
         "PayPal",
         "31",
         "1",
         "John Rivera",
         "Female",
         "0",
         "2023-01-01 00:00:00",
         "5",
         "John Rivera_2023-05-03 21:30:02"
        ],
        [
         "1",
         "2021-05-16 13:57:44",
         "Electronics",
         "174",
         "3",
         "2448",
         "PayPal",
         "31",
         "1",
         "John Rivera",
         "Female",
         "0",
         "2021-01-01 00:00:00",
         "5",
         "John Rivera_2021-05-16 13:57:44"
        ],
        [
         "2",
         "2020-07-13 06:16:57",
         "Books",
         "413",
         "1",
         "2345",
         "Credit Card",
         "31",
         "1",
         "John Rivera",
         "Female",
         "0",
         "2020-01-01 00:00:00",
         "7",
         "John Rivera_2020-07-13 06:16:57"
        ],
        [
         "3",
         "2023-01-17 13:14:36",
         "Electronics",
         "396",
         "3",
         "937",
         "Cash",
         "31",
         "0",
         "John Rivera",
         "Female",
         "0",
         "2023-01-01 00:00:00",
         "1",
         "John Rivera_2023-01-17 13:14:36"
        ],
        [
         "4",
         "2021-05-01 11:29:27",
         "Books",
         "259",
         "4",
         "2598",
         "PayPal",
         "31",
         "1",
         "John Rivera",
         "Female",
         "0",
         "2021-01-01 00:00:00",
         "5",
         "John Rivera_2021-05-01 11:29:27"
        ],
        [
         "5",
         "2022-08-25 06:48:33",
         "Home",
         "191",
         "3",
         "3722",
         "Credit Card",
         "27",
         "1",
         "Lauren Johnson",
         "Female",
         "0",
         "2022-01-01 00:00:00",
         "8",
         "Lauren Johnson_2022-08-25 06:48:33"
        ],
        [
         "6",
         "2023-07-25 05:17:24",
         "Electronics",
         "205",
         "1",
         "2773",
         "Credit Card",
         "27",
         "0",
         "Lauren Johnson",
         "Female",
         "0",
         "2023-01-01 00:00:00",
         "7",
         "Lauren Johnson_2023-07-25 05:17:24"
        ],
        [
         "7",
         "2023-02-05 19:31:48",
         "Books",
         "370",
         "5",
         "1486",
         "Cash",
         "27",
         "1",
         "Lauren Johnson",
         "Female",
         "0",
         "2023-01-01 00:00:00",
         "2",
         "Lauren Johnson_2023-02-05 19:31:48"
        ],
        [
         "8",
         "2021-12-21 03:29:05",
         "Home",
         "12",
         "2",
         "2175",
         "Cash",
         "27",
         "0",
         "Lauren Johnson",
         "Female",
         "0",
         "2021-01-01 00:00:00",
         "12",
         "Lauren Johnson_2021-12-21 03:29:05"
        ],
        [
         "9",
         "2023-02-09 00:53:14",
         "Electronics",
         "40",
         "4",
         "4327",
         "Cash",
         "27",
         "0",
         "Lauren Johnson",
         "Female",
         "0",
         "2023-01-01 00:00:00",
         "2",
         "Lauren Johnson_2023-02-09 00:53:14"
        ],
        [
         "10",
         "2023-02-28 19:58:23",
         "Clothing",
         "410",
         "3",
         "5018",
         "Credit Card",
         "27",
         "0",
         "Carol Allen",
         "Male",
         "0",
         "2023-01-01 00:00:00",
         "2",
         "Carol Allen_2023-02-28 19:58:23"
        ],
        [
         "11",
         "2023-01-05 11:15:27",
         "Home",
         "304",
         "1",
         "3883",
         "PayPal",
         "27",
         "1",
         "Carol Allen",
         "Male",
         "0",
         "2023-01-01 00:00:00",
         "1",
         "Carol Allen_2023-01-05 11:15:27"
        ],
        [
         "12",
         "2023-07-18 23:36:50",
         "Books",
         "54",
         "2",
         "4187",
         "PayPal",
         "27",
         "0",
         "Carol Allen",
         "Male",
         "0",
         "2023-01-01 00:00:00",
         "7",
         "Carol Allen_2023-07-18 23:36:50"
        ],
        [
         "13",
         "2021-12-20 23:44:57",
         "Electronics",
         "428",
         "4",
         "2289",
         "Cash",
         "27",
         "0",
         "Carol Allen",
         "Male",
         "0",
         "2021-01-01 00:00:00",
         "12",
         "Carol Allen_2021-12-20 23:44:57"
        ],
        [
         "14",
         "2020-03-07 21:31:35",
         "Books",
         "281",
         "1",
         "3810",
         "Cash",
         "27",
         "0",
         "Carol Allen",
         "Male",
         "0",
         "2020-01-01 00:00:00",
         "3",
         "Carol Allen_2020-03-07 21:31:35"
        ],
        [
         "15",
         "2022-07-21 04:25:44",
         "Home",
         "193",
         "2",
         "3198",
         "Credit Card",
         "27",
         "0",
         "Carol Allen",
         "Male",
         "0",
         "2022-01-01 00:00:00",
         "7",
         "Carol Allen_2022-07-21 04:25:44"
        ],
        [
         "16",
         "2023-07-05 15:01:04",
         "Clothing",
         "473",
         "3",
         "2881",
         "Credit Card",
         "27",
         "1",
         "Carol Allen",
         "Male",
         "0",
         "2023-01-01 00:00:00",
         "7",
         "Carol Allen_2023-07-05 15:01:04"
        ],
        [
         "17",
         "2020-10-18 23:38:52",
         "Books",
         "127",
         "5",
         "3347",
         "Cash",
         "20",
         "0",
         "Curtis Smith",
         "Female",
         "0",
         "2020-01-01 00:00:00",
         "10",
         "Curtis Smith_2020-10-18 23:38:52"
        ],
        [
         "18",
         "2020-05-17 17:02:36",
         "Home",
         "284",
         "2",
         "3531",
         "Credit Card",
         "20",
         "1",
         "Curtis Smith",
         "Female",
         "0",
         "2020-01-01 00:00:00",
         "5",
         "Curtis Smith_2020-05-17 17:02:36"
        ],
        [
         "19",
         "2022-03-18 13:52:08",
         "Electronics",
         "256",
         "2",
         "3548",
         "Credit Card",
         "20",
         "0",
         "Curtis Smith",
         "Female",
         "0",
         "2022-01-01 00:00:00",
         "3",
         "Curtis Smith_2022-03-18 13:52:08"
        ],
        [
         "20",
         "2021-04-21 07:58:37",
         "Clothing",
         "252",
         "2",
         "1775",
         "Credit Card",
         "20",
         "1",
         "Curtis Smith",
         "Female",
         "0",
         "2021-01-01 00:00:00",
         "4",
         "Curtis Smith_2021-04-21 07:58:37"
        ],
        [
         "21",
         "2022-01-26 12:50:30",
         "Electronics",
         "105",
         "2",
         "3721",
         "Credit Card",
         "20",
         "0",
         "Curtis Smith",
         "Female",
         "0",
         "2022-01-01 00:00:00",
         "1",
         "Curtis Smith_2022-01-26 12:50:30"
        ],
        [
         "22",
         "2020-11-11 07:19:18",
         "Electronics",
         "193",
         "2",
         "3266",
         "PayPal",
         "20",
         "1",
         "Curtis Smith",
         "Female",
         "0",
         "2020-01-01 00:00:00",
         "11",
         "Curtis Smith_2020-11-11 07:19:18"
        ],
        [
         "23",
         "2023-04-29 23:31:47",
         "Home",
         "43",
         "1",
         "2312",
         "Cash",
         "20",
         "0",
         "Curtis Smith",
         "Female",
         "0",
         "2023-01-01 00:00:00",
         "4",
         "Curtis Smith_2023-04-29 23:31:47"
        ],
        [
         "24",
         "2022-07-04 16:04:01",
         "Home",
         "30",
         "5",
         "642",
         "PayPal",
         "20",
         "1",
         "Curtis Smith",
         "Female",
         "0",
         "2022-01-01 00:00:00",
         "7",
         "Curtis Smith_2022-07-04 16:04:01"
        ],
        [
         "25",
         "2021-08-01 05:27:13",
         "Electronics",
         "30",
         "3",
         "5024",
         "Credit Card",
         "20",
         "1",
         "Curtis Smith",
         "Female",
         "0",
         "2021-01-01 00:00:00",
         "8",
         "Curtis Smith_2021-08-01 05:27:13"
        ],
        [
         "26",
         "2020-05-24 06:45:48",
         "Electronics",
         "307",
         "3",
         "973",
         "PayPal",
         "20",
         "0",
         "Curtis Smith",
         "Female",
         "0",
         "2020-01-01 00:00:00",
         "5",
         "Curtis Smith_2020-05-24 06:45:48"
        ],
        [
         "27",
         "2022-03-24 00:05:26",
         "Electronics",
         "254",
         "1",
         "3865",
         "PayPal",
         "20",
         "0",
         "Curtis Smith",
         "Female",
         "0",
         "2022-01-01 00:00:00",
         "3",
         "Curtis Smith_2022-03-24 00:05:26"
        ],
        [
         "28",
         "2022-09-02 04:00:49",
         "Books",
         "12",
         "3",
         "3112",
         "Cash",
         "20",
         "1",
         "Curtis Smith",
         "Female",
         "0",
         "2022-01-01 00:00:00",
         "9",
         "Curtis Smith_2022-09-02 04:00:49"
        ],
        [
         "29",
         "2021-11-14 10:23:14",
         "Books",
         "66",
         "3",
         "250",
         "PayPal",
         "20",
         "1",
         "Curtis Smith",
         "Female",
         "0",
         "2021-01-01 00:00:00",
         "11",
         "Curtis Smith_2021-11-14 10:23:14"
        ],
        [
         "30",
         "2020-11-17 13:14:27",
         "Electronics",
         "102",
         "2",
         "5206",
         "Credit Card",
         "53",
         "1",
         "Jose Green",
         "Male",
         "0",
         "2020-01-01 00:00:00",
         "11",
         "Jose Green_2020-11-17 13:14:27"
        ],
        [
         "31",
         "2021-05-07 09:54:22",
         "Books",
         "187",
         "5",
         "629",
         "PayPal",
         "53",
         "1",
         "Jose Green",
         "Male",
         "0",
         "2021-01-01 00:00:00",
         "5",
         "Jose Green_2021-05-07 09:54:22"
        ],
        [
         "32",
         "2022-09-07 05:06:52",
         "Books",
         "86",
         "1",
         "843",
         "Credit Card",
         "53",
         "1",
         "Jose Green",
         "Male",
         "0",
         "2022-01-01 00:00:00",
         "9",
         "Jose Green_2022-09-07 05:06:52"
        ],
        [
         "33",
         "2020-07-05 06:30:39",
         "Electronics",
         "364",
         "3",
         "1008",
         "Credit Card",
         "53",
         "0",
         "Jose Green",
         "Male",
         "0",
         "2020-01-01 00:00:00",
         "7",
         "Jose Green_2020-07-05 06:30:39"
        ],
        [
         "34",
         "2022-01-11 10:56:31",
         "Books",
         "210",
         "2",
         "4567",
         "Credit Card",
         "53",
         "0",
         "Jose Green",
         "Male",
         "0",
         "2022-01-01 00:00:00",
         "1",
         "Jose Green_2022-01-11 10:56:31"
        ],
        [
         "35",
         "2022-01-12 22:49:28",
         "Clothing",
         "304",
         "3",
         "4869",
         "PayPal",
         "57",
         "1",
         "Linda Lee",
         "Male",
         "0",
         "2022-01-01 00:00:00",
         "1",
         "Linda Lee_2022-01-12 22:49:28"
        ],
        [
         "36",
         "2021-06-26 23:49:18",
         "Electronics",
         "329",
         "1",
         "3391",
         "Cash",
         "57",
         "1",
         "Linda Lee",
         "Male",
         "0",
         "2021-01-01 00:00:00",
         "6",
         "Linda Lee_2021-06-26 23:49:18"
        ],
        [
         "37",
         "2022-06-30 06:11:14",
         "Clothing",
         "306",
         "4",
         "1712",
         "Credit Card",
         "57",
         "1",
         "Linda Lee",
         "Male",
         "0",
         "2022-01-01 00:00:00",
         "6",
         "Linda Lee_2022-06-30 06:11:14"
        ],
        [
         "38",
         "2020-04-20 14:08:25",
         "Electronics",
         "165",
         "5",
         "603",
         "Credit Card",
         "57",
         "0",
         "Linda Lee",
         "Male",
         "0",
         "2020-01-01 00:00:00",
         "4",
         "Linda Lee_2020-04-20 14:08:25"
        ],
        [
         "39",
         "2021-03-23 17:36:30",
         "Electronics",
         "218",
         "4",
         "2866",
         "PayPal",
         "57",
         "0",
         "Linda Lee",
         "Male",
         "0",
         "2021-01-01 00:00:00",
         "3",
         "Linda Lee_2021-03-23 17:36:30"
        ],
        [
         "40",
         "2023-05-16 01:34:44",
         "Clothing",
         "392",
         "3",
         "1378",
         "Credit Card",
         "34",
         "0",
         "Joshua Davis",
         "Male",
         "1",
         "2023-01-01 00:00:00",
         "5",
         "Joshua Davis_2023-05-16 01:34:44"
        ],
        [
         "41",
         "2021-10-27 16:25:14",
         "Clothing",
         "238",
         "3",
         "1760",
         "Credit Card",
         "34",
         "0",
         "Joshua Davis",
         "Male",
         "1",
         "2021-01-01 00:00:00",
         "10",
         "Joshua Davis_2021-10-27 16:25:14"
        ],
        [
         "42",
         "2021-12-09 07:43:45",
         "Books",
         "174",
         "5",
         "4517",
         "Credit Card",
         "34",
         "0",
         "Joshua Davis",
         "Male",
         "1",
         "2021-01-01 00:00:00",
         "12",
         "Joshua Davis_2021-12-09 07:43:45"
        ],
        [
         "43",
         "2022-10-18 22:58:32",
         "Electronics",
         "41",
         "2",
         "743",
         "Cash",
         "34",
         "0",
         "Joshua Davis",
         "Male",
         "1",
         "2022-01-01 00:00:00",
         "10",
         "Joshua Davis_2022-10-18 22:58:32"
        ],
        [
         "44",
         "2021-08-20 23:25:47",
         "Books",
         "118",
         "2",
         "3672",
         "Cash",
         "45",
         "0",
         "Ellen Kent",
         "Male",
         "0",
         "2021-01-01 00:00:00",
         "8",
         "Ellen Kent_2021-08-20 23:25:47"
        ],
        [
         "45",
         "2020-02-14 04:47:32",
         "Clothing",
         "14",
         "4",
         "2733",
         "PayPal",
         "45",
         "0",
         "Ellen Kent",
         "Male",
         "0",
         "2020-01-01 00:00:00",
         "2",
         "Ellen Kent_2020-02-14 04:47:32"
        ],
        [
         "46",
         "2021-11-28 19:39:49",
         "Home",
         "424",
         "1",
         "631",
         "Cash",
         "45",
         "0",
         "Ellen Kent",
         "Male",
         "0",
         "2021-01-01 00:00:00",
         "11",
         "Ellen Kent_2021-11-28 19:39:49"
        ],
        [
         "47",
         "2020-10-30 10:38:20",
         "Clothing",
         "351",
         "5",
         "716",
         "PayPal",
         "45",
         "0",
         "Ellen Kent",
         "Male",
         "0",
         "2020-01-01 00:00:00",
         "10",
         "Ellen Kent_2020-10-30 10:38:20"
        ],
        [
         "48",
         "2020-11-25 09:05:42",
         "Clothing",
         "89",
         "1",
         "3577",
         "PayPal",
         "45",
         "1",
         "Ellen Kent",
         "Male",
         "0",
         "2020-01-01 00:00:00",
         "11",
         "Ellen Kent_2020-11-25 09:05:42"
        ],
        [
         "49",
         "2020-09-13 15:30:54",
         "Home",
         "287",
         "3",
         "3908",
         "Cash",
         "45",
         "0",
         "Ellen Kent",
         "Male",
         "0",
         "2020-01-01 00:00:00",
         "9",
         "Ellen Kent_2020-09-13 15:30:54"
        ]
       ],
       "shape": {
        "columns": 14,
        "rows": 250000
       }
      },
      "text/html": [
       "<div>\n",
       "<style scoped>\n",
       "    .dataframe tbody tr th:only-of-type {\n",
       "        vertical-align: middle;\n",
       "    }\n",
       "\n",
       "    .dataframe tbody tr th {\n",
       "        vertical-align: top;\n",
       "    }\n",
       "\n",
       "    .dataframe thead th {\n",
       "        text-align: right;\n",
       "    }\n",
       "</style>\n",
       "<table border=\"1\" class=\"dataframe\">\n",
       "  <thead>\n",
       "    <tr style=\"text-align: right;\">\n",
       "      <th></th>\n",
       "      <th>Purchase Date</th>\n",
       "      <th>Product Category</th>\n",
       "      <th>Product Price</th>\n",
       "      <th>Quantity</th>\n",
       "      <th>Total Purchase Amount</th>\n",
       "      <th>Payment Method</th>\n",
       "      <th>Customer Age</th>\n",
       "      <th>Returns</th>\n",
       "      <th>Customer Name</th>\n",
       "      <th>Gender</th>\n",
       "      <th>Churn</th>\n",
       "      <th>Year</th>\n",
       "      <th>Month</th>\n",
       "      <th>Synthetic Order ID</th>\n",
       "    </tr>\n",
       "  </thead>\n",
       "  <tbody>\n",
       "    <tr>\n",
       "      <th>0</th>\n",
       "      <td>2023-05-03 21:30:02</td>\n",
       "      <td>Home</td>\n",
       "      <td>177</td>\n",
       "      <td>1</td>\n",
       "      <td>2427</td>\n",
       "      <td>PayPal</td>\n",
       "      <td>31</td>\n",
       "      <td>1</td>\n",
       "      <td>John Rivera</td>\n",
       "      <td>Female</td>\n",
       "      <td>0</td>\n",
       "      <td>2023-01-01</td>\n",
       "      <td>5</td>\n",
       "      <td>John Rivera_2023-05-03 21:30:02</td>\n",
       "    </tr>\n",
       "    <tr>\n",
       "      <th>1</th>\n",
       "      <td>2021-05-16 13:57:44</td>\n",
       "      <td>Electronics</td>\n",
       "      <td>174</td>\n",
       "      <td>3</td>\n",
       "      <td>2448</td>\n",
       "      <td>PayPal</td>\n",
       "      <td>31</td>\n",
       "      <td>1</td>\n",
       "      <td>John Rivera</td>\n",
       "      <td>Female</td>\n",
       "      <td>0</td>\n",
       "      <td>2021-01-01</td>\n",
       "      <td>5</td>\n",
       "      <td>John Rivera_2021-05-16 13:57:44</td>\n",
       "    </tr>\n",
       "    <tr>\n",
       "      <th>2</th>\n",
       "      <td>2020-07-13 06:16:57</td>\n",
       "      <td>Books</td>\n",
       "      <td>413</td>\n",
       "      <td>1</td>\n",
       "      <td>2345</td>\n",
       "      <td>Credit Card</td>\n",
       "      <td>31</td>\n",
       "      <td>1</td>\n",
       "      <td>John Rivera</td>\n",
       "      <td>Female</td>\n",
       "      <td>0</td>\n",
       "      <td>2020-01-01</td>\n",
       "      <td>7</td>\n",
       "      <td>John Rivera_2020-07-13 06:16:57</td>\n",
       "    </tr>\n",
       "    <tr>\n",
       "      <th>3</th>\n",
       "      <td>2023-01-17 13:14:36</td>\n",
       "      <td>Electronics</td>\n",
       "      <td>396</td>\n",
       "      <td>3</td>\n",
       "      <td>937</td>\n",
       "      <td>Cash</td>\n",
       "      <td>31</td>\n",
       "      <td>0</td>\n",
       "      <td>John Rivera</td>\n",
       "      <td>Female</td>\n",
       "      <td>0</td>\n",
       "      <td>2023-01-01</td>\n",
       "      <td>1</td>\n",
       "      <td>John Rivera_2023-01-17 13:14:36</td>\n",
       "    </tr>\n",
       "    <tr>\n",
       "      <th>4</th>\n",
       "      <td>2021-05-01 11:29:27</td>\n",
       "      <td>Books</td>\n",
       "      <td>259</td>\n",
       "      <td>4</td>\n",
       "      <td>2598</td>\n",
       "      <td>PayPal</td>\n",
       "      <td>31</td>\n",
       "      <td>1</td>\n",
       "      <td>John Rivera</td>\n",
       "      <td>Female</td>\n",
       "      <td>0</td>\n",
       "      <td>2021-01-01</td>\n",
       "      <td>5</td>\n",
       "      <td>John Rivera_2021-05-01 11:29:27</td>\n",
       "    </tr>\n",
       "    <tr>\n",
       "      <th>...</th>\n",
       "      <td>...</td>\n",
       "      <td>...</td>\n",
       "      <td>...</td>\n",
       "      <td>...</td>\n",
       "      <td>...</td>\n",
       "      <td>...</td>\n",
       "      <td>...</td>\n",
       "      <td>...</td>\n",
       "      <td>...</td>\n",
       "      <td>...</td>\n",
       "      <td>...</td>\n",
       "      <td>...</td>\n",
       "      <td>...</td>\n",
       "      <td>...</td>\n",
       "    </tr>\n",
       "    <tr>\n",
       "      <th>249995</th>\n",
       "      <td>2023-01-24 12:32:18</td>\n",
       "      <td>Home</td>\n",
       "      <td>436</td>\n",
       "      <td>1</td>\n",
       "      <td>3664</td>\n",
       "      <td>Cash</td>\n",
       "      <td>63</td>\n",
       "      <td>0</td>\n",
       "      <td>Gabriel Williams</td>\n",
       "      <td>Male</td>\n",
       "      <td>0</td>\n",
       "      <td>2023-01-01</td>\n",
       "      <td>1</td>\n",
       "      <td>Gabriel Williams_2023-01-24 12:32:18</td>\n",
       "    </tr>\n",
       "    <tr>\n",
       "      <th>249996</th>\n",
       "      <td>2021-06-04 05:45:25</td>\n",
       "      <td>Electronics</td>\n",
       "      <td>233</td>\n",
       "      <td>1</td>\n",
       "      <td>4374</td>\n",
       "      <td>Credit Card</td>\n",
       "      <td>66</td>\n",
       "      <td>1</td>\n",
       "      <td>Barry Foster</td>\n",
       "      <td>Female</td>\n",
       "      <td>0</td>\n",
       "      <td>2021-01-01</td>\n",
       "      <td>6</td>\n",
       "      <td>Barry Foster_2021-06-04 05:45:25</td>\n",
       "    </tr>\n",
       "    <tr>\n",
       "      <th>249997</th>\n",
       "      <td>2022-11-10 17:11:57</td>\n",
       "      <td>Electronics</td>\n",
       "      <td>441</td>\n",
       "      <td>5</td>\n",
       "      <td>5296</td>\n",
       "      <td>Cash</td>\n",
       "      <td>63</td>\n",
       "      <td>0</td>\n",
       "      <td>Lisa Johnson</td>\n",
       "      <td>Female</td>\n",
       "      <td>0</td>\n",
       "      <td>2022-01-01</td>\n",
       "      <td>11</td>\n",
       "      <td>Lisa Johnson_2022-11-10 17:11:57</td>\n",
       "    </tr>\n",
       "    <tr>\n",
       "      <th>249998</th>\n",
       "      <td>2021-06-27 14:42:12</td>\n",
       "      <td>Electronics</td>\n",
       "      <td>44</td>\n",
       "      <td>2</td>\n",
       "      <td>2517</td>\n",
       "      <td>Cash</td>\n",
       "      <td>64</td>\n",
       "      <td>1</td>\n",
       "      <td>Melissa Fernandez</td>\n",
       "      <td>Male</td>\n",
       "      <td>0</td>\n",
       "      <td>2021-01-01</td>\n",
       "      <td>6</td>\n",
       "      <td>Melissa Fernandez_2021-06-27 14:42:12</td>\n",
       "    </tr>\n",
       "    <tr>\n",
       "      <th>249999</th>\n",
       "      <td>2020-09-07 05:12:19</td>\n",
       "      <td>Home</td>\n",
       "      <td>307</td>\n",
       "      <td>5</td>\n",
       "      <td>3634</td>\n",
       "      <td>Cash</td>\n",
       "      <td>32</td>\n",
       "      <td>0</td>\n",
       "      <td>Angela Norton</td>\n",
       "      <td>Male</td>\n",
       "      <td>0</td>\n",
       "      <td>2020-01-01</td>\n",
       "      <td>9</td>\n",
       "      <td>Angela Norton_2020-09-07 05:12:19</td>\n",
       "    </tr>\n",
       "  </tbody>\n",
       "</table>\n",
       "<p>250000 rows × 14 columns</p>\n",
       "</div>"
      ],
      "text/plain": [
       "             Purchase Date Product Category  Product Price  Quantity  \\\n",
       "0      2023-05-03 21:30:02             Home            177         1   \n",
       "1      2021-05-16 13:57:44      Electronics            174         3   \n",
       "2      2020-07-13 06:16:57            Books            413         1   \n",
       "3      2023-01-17 13:14:36      Electronics            396         3   \n",
       "4      2021-05-01 11:29:27            Books            259         4   \n",
       "...                    ...              ...            ...       ...   \n",
       "249995 2023-01-24 12:32:18             Home            436         1   \n",
       "249996 2021-06-04 05:45:25      Electronics            233         1   \n",
       "249997 2022-11-10 17:11:57      Electronics            441         5   \n",
       "249998 2021-06-27 14:42:12      Electronics             44         2   \n",
       "249999 2020-09-07 05:12:19             Home            307         5   \n",
       "\n",
       "        Total Purchase Amount Payment Method  Customer Age  Returns  \\\n",
       "0                        2427         PayPal            31        1   \n",
       "1                        2448         PayPal            31        1   \n",
       "2                        2345    Credit Card            31        1   \n",
       "3                         937           Cash            31        0   \n",
       "4                        2598         PayPal            31        1   \n",
       "...                       ...            ...           ...      ...   \n",
       "249995                   3664           Cash            63        0   \n",
       "249996                   4374    Credit Card            66        1   \n",
       "249997                   5296           Cash            63        0   \n",
       "249998                   2517           Cash            64        1   \n",
       "249999                   3634           Cash            32        0   \n",
       "\n",
       "            Customer Name  Gender  Churn       Year  Month  \\\n",
       "0             John Rivera  Female      0 2023-01-01      5   \n",
       "1             John Rivera  Female      0 2021-01-01      5   \n",
       "2             John Rivera  Female      0 2020-01-01      7   \n",
       "3             John Rivera  Female      0 2023-01-01      1   \n",
       "4             John Rivera  Female      0 2021-01-01      5   \n",
       "...                   ...     ...    ...        ...    ...   \n",
       "249995   Gabriel Williams    Male      0 2023-01-01      1   \n",
       "249996       Barry Foster  Female      0 2021-01-01      6   \n",
       "249997       Lisa Johnson  Female      0 2022-01-01     11   \n",
       "249998  Melissa Fernandez    Male      0 2021-01-01      6   \n",
       "249999      Angela Norton    Male      0 2020-01-01      9   \n",
       "\n",
       "                           Synthetic Order ID  \n",
       "0             John Rivera_2023-05-03 21:30:02  \n",
       "1             John Rivera_2021-05-16 13:57:44  \n",
       "2             John Rivera_2020-07-13 06:16:57  \n",
       "3             John Rivera_2023-01-17 13:14:36  \n",
       "4             John Rivera_2021-05-01 11:29:27  \n",
       "...                                       ...  \n",
       "249995   Gabriel Williams_2023-01-24 12:32:18  \n",
       "249996       Barry Foster_2021-06-04 05:45:25  \n",
       "249997       Lisa Johnson_2022-11-10 17:11:57  \n",
       "249998  Melissa Fernandez_2021-06-27 14:42:12  \n",
       "249999      Angela Norton_2020-09-07 05:12:19  \n",
       "\n",
       "[250000 rows x 14 columns]"
      ]
     },
     "execution_count": 24,
     "metadata": {},
     "output_type": "execute_result"
    }
   ],
   "source": [
    "df"
   ]
  },
  {
   "cell_type": "code",
   "execution_count": 25,
   "id": "7f7cfc66",
   "metadata": {},
   "outputs": [],
   "source": [
    "frequency = df.groupby(\"Customer Name\")['Purchase Date'].count()"
   ]
  },
  {
   "cell_type": "code",
   "execution_count": 26,
   "id": "13f0106e",
   "metadata": {},
   "outputs": [
    {
     "data": {
      "application/vnd.microsoft.datawrangler.viewer.v0+json": {
       "columns": [
        {
         "name": "Customer Name",
         "rawType": "object",
         "type": "string"
        },
        {
         "name": "Purchase Date",
         "rawType": "int64",
         "type": "integer"
        }
       ],
       "ref": "083e59fa-bbdf-4ad9-ac4e-0e023f39741a",
       "rows": [
        [
         "Aaron Alexander",
         "5"
        ],
        [
         "Aaron Archer",
         "4"
        ],
        [
         "Aaron Armstrong",
         "3"
        ],
        [
         "Aaron Avery",
         "6"
        ],
        [
         "Aaron Avila",
         "7"
        ],
        [
         "Aaron Ayala",
         "5"
        ],
        [
         "Aaron Baker",
         "7"
        ],
        [
         "Aaron Bennett",
         "1"
        ],
        [
         "Aaron Best",
         "5"
        ],
        [
         "Aaron Boone",
         "11"
        ],
        [
         "Aaron Boyer",
         "5"
        ],
        [
         "Aaron Bradley",
         "7"
        ],
        [
         "Aaron Brown",
         "10"
        ],
        [
         "Aaron Burns",
         "2"
        ],
        [
         "Aaron Butler",
         "7"
        ],
        [
         "Aaron Calhoun",
         "7"
        ],
        [
         "Aaron Carroll",
         "2"
        ],
        [
         "Aaron Carson",
         "6"
        ],
        [
         "Aaron Castillo",
         "5"
        ],
        [
         "Aaron Chapman",
         "4"
        ],
        [
         "Aaron Chavez",
         "8"
        ],
        [
         "Aaron Chung",
         "4"
        ],
        [
         "Aaron Clark",
         "4"
        ],
        [
         "Aaron Cole",
         "6"
        ],
        [
         "Aaron Cook",
         "6"
        ],
        [
         "Aaron Copeland",
         "2"
        ],
        [
         "Aaron Cross",
         "3"
        ],
        [
         "Aaron Davenport",
         "3"
        ],
        [
         "Aaron David",
         "6"
        ],
        [
         "Aaron Davis",
         "3"
        ],
        [
         "Aaron Day",
         "4"
        ],
        [
         "Aaron Dean",
         "8"
        ],
        [
         "Aaron Deleon",
         "4"
        ],
        [
         "Aaron Dunlap",
         "6"
        ],
        [
         "Aaron Ellis",
         "9"
        ],
        [
         "Aaron Evans",
         "7"
        ],
        [
         "Aaron Ferguson",
         "3"
        ],
        [
         "Aaron Fernandez",
         "10"
        ],
        [
         "Aaron Flores",
         "7"
        ],
        [
         "Aaron Ford",
         "8"
        ],
        [
         "Aaron Fuller",
         "7"
        ],
        [
         "Aaron Gaines",
         "1"
        ],
        [
         "Aaron Garcia",
         "12"
        ],
        [
         "Aaron Gates",
         "11"
        ],
        [
         "Aaron Gentry",
         "4"
        ],
        [
         "Aaron George",
         "9"
        ],
        [
         "Aaron Good",
         "3"
        ],
        [
         "Aaron Gray",
         "6"
        ],
        [
         "Aaron Green",
         "4"
        ],
        [
         "Aaron Griffith",
         "10"
        ]
       ],
       "shape": {
        "columns": 1,
        "rows": 39878
       }
      },
      "text/plain": [
       "Customer Name\n",
       "Aaron Alexander    5\n",
       "Aaron Archer       4\n",
       "Aaron Armstrong    3\n",
       "Aaron Avery        6\n",
       "Aaron Avila        7\n",
       "                  ..\n",
       "Zoe Myers          6\n",
       "Zoe Torres         1\n",
       "Zoe Walker         2\n",
       "Zoe Watson         2\n",
       "Zoe Young          1\n",
       "Name: Purchase Date, Length: 39878, dtype: int64"
      ]
     },
     "execution_count": 26,
     "metadata": {},
     "output_type": "execute_result"
    }
   ],
   "source": [
    "frequency # This will give us the number of purchases per customer"
   ]
  },
  {
   "cell_type": "code",
   "execution_count": 27,
   "id": "4b86239c",
   "metadata": {},
   "outputs": [],
   "source": [
    "del total_spend"
   ]
  },
  {
   "cell_type": "code",
   "execution_count": 28,
   "id": "8ea13242",
   "metadata": {},
   "outputs": [],
   "source": [
    "monetary = df.groupby(\"Customer Name\")[\"Product Price\"].sum()"
   ]
  },
  {
   "cell_type": "code",
   "execution_count": 29,
   "metadata": {},
   "outputs": [
    {
     "data": {
      "application/vnd.microsoft.datawrangler.viewer.v0+json": {
       "columns": [
        {
         "name": "Customer Name",
         "rawType": "object",
         "type": "string"
        },
        {
         "name": "Product Price",
         "rawType": "int64",
         "type": "integer"
        }
       ],
       "ref": "9f987393-4b19-4566-9e10-46521b4e9709",
       "rows": [
        [
         "Aaron Alexander",
         "752"
        ],
        [
         "Aaron Archer",
         "797"
        ],
        [
         "Aaron Armstrong",
         "918"
        ],
        [
         "Aaron Avery",
         "1866"
        ],
        [
         "Aaron Avila",
         "1399"
        ],
        [
         "Aaron Ayala",
         "920"
        ],
        [
         "Aaron Baker",
         "1703"
        ],
        [
         "Aaron Bennett",
         "299"
        ],
        [
         "Aaron Best",
         "2138"
        ],
        [
         "Aaron Boone",
         "3344"
        ],
        [
         "Aaron Boyer",
         "963"
        ],
        [
         "Aaron Bradley",
         "1366"
        ],
        [
         "Aaron Brown",
         "3068"
        ],
        [
         "Aaron Burns",
         "213"
        ],
        [
         "Aaron Butler",
         "2062"
        ],
        [
         "Aaron Calhoun",
         "1790"
        ],
        [
         "Aaron Carroll",
         "60"
        ],
        [
         "Aaron Carson",
         "1797"
        ],
        [
         "Aaron Castillo",
         "1901"
        ],
        [
         "Aaron Chapman",
         "1143"
        ],
        [
         "Aaron Chavez",
         "2116"
        ],
        [
         "Aaron Chung",
         "951"
        ],
        [
         "Aaron Clark",
         "741"
        ],
        [
         "Aaron Cole",
         "1664"
        ],
        [
         "Aaron Cook",
         "1633"
        ],
        [
         "Aaron Copeland",
         "470"
        ],
        [
         "Aaron Cross",
         "1002"
        ],
        [
         "Aaron Davenport",
         "546"
        ],
        [
         "Aaron David",
         "1294"
        ],
        [
         "Aaron Davis",
         "263"
        ],
        [
         "Aaron Day",
         "927"
        ],
        [
         "Aaron Dean",
         "2200"
        ],
        [
         "Aaron Deleon",
         "1016"
        ],
        [
         "Aaron Dunlap",
         "1864"
        ],
        [
         "Aaron Ellis",
         "2144"
        ],
        [
         "Aaron Evans",
         "1573"
        ],
        [
         "Aaron Ferguson",
         "564"
        ],
        [
         "Aaron Fernandez",
         "1775"
        ],
        [
         "Aaron Flores",
         "1486"
        ],
        [
         "Aaron Ford",
         "2267"
        ],
        [
         "Aaron Fuller",
         "1818"
        ],
        [
         "Aaron Gaines",
         "394"
        ],
        [
         "Aaron Garcia",
         "2462"
        ],
        [
         "Aaron Gates",
         "3564"
        ],
        [
         "Aaron Gentry",
         "1152"
        ],
        [
         "Aaron George",
         "2805"
        ],
        [
         "Aaron Good",
         "838"
        ],
        [
         "Aaron Gray",
         "1522"
        ],
        [
         "Aaron Green",
         "1125"
        ],
        [
         "Aaron Griffith",
         "3528"
        ]
       ],
       "shape": {
        "columns": 1,
        "rows": 39878
       }
      },
      "text/plain": [
       "Customer Name\n",
       "Aaron Alexander     752\n",
       "Aaron Archer        797\n",
       "Aaron Armstrong     918\n",
       "Aaron Avery        1866\n",
       "Aaron Avila        1399\n",
       "                   ... \n",
       "Zoe Myers          1802\n",
       "Zoe Torres          156\n",
       "Zoe Walker          644\n",
       "Zoe Watson          442\n",
       "Zoe Young           156\n",
       "Name: Product Price, Length: 39878, dtype: int64"
      ]
     },
     "execution_count": 29,
     "metadata": {},
     "output_type": "execute_result"
    }
   ],
   "source": [
    "monetary # This will give us the total spend per customer"
   ]
  },
  {
   "cell_type": "code",
   "execution_count": 30,
   "id": "6d2897dc",
   "metadata": {},
   "outputs": [],
   "source": [
    "rfm = pd.DataFrame({\n",
    "    \"r\": recency,\n",
    "    \"f\": frequency,\n",
    "    \"m\": monetary\n",
    "})"
   ]
  },
  {
   "cell_type": "code",
   "execution_count": 31,
   "id": "91040a99",
   "metadata": {},
   "outputs": [
    {
     "data": {
      "application/vnd.microsoft.datawrangler.viewer.v0+json": {
       "columns": [
        {
         "name": "Customer Name",
         "rawType": "object",
         "type": "string"
        },
        {
         "name": "r",
         "rawType": "datetime64[ns]",
         "type": "datetime"
        },
        {
         "name": "f",
         "rawType": "int64",
         "type": "integer"
        },
        {
         "name": "m",
         "rawType": "int64",
         "type": "integer"
        }
       ],
       "ref": "5dd54699-4054-4286-8e07-7266add5e920",
       "rows": [
        [
         "Aaron Alexander",
         "2023-01-08 20:32:57",
         "5",
         "752"
        ],
        [
         "Aaron Archer",
         "2022-10-16 20:06:59",
         "4",
         "797"
        ],
        [
         "Aaron Armstrong",
         "2023-02-17 07:43:56",
         "3",
         "918"
        ],
        [
         "Aaron Avery",
         "2023-05-03 03:45:14",
         "6",
         "1866"
        ],
        [
         "Aaron Avila",
         "2023-08-28 18:51:46",
         "7",
         "1399"
        ],
        [
         "Aaron Ayala",
         "2023-02-02 00:59:28",
         "5",
         "920"
        ],
        [
         "Aaron Baker",
         "2023-03-31 13:48:39",
         "7",
         "1703"
        ],
        [
         "Aaron Bennett",
         "2023-09-01 11:41:53",
         "1",
         "299"
        ],
        [
         "Aaron Best",
         "2023-05-07 14:37:22",
         "5",
         "2138"
        ],
        [
         "Aaron Boone",
         "2023-09-11 08:02:34",
         "11",
         "3344"
        ],
        [
         "Aaron Boyer",
         "2023-05-06 16:25:45",
         "5",
         "963"
        ],
        [
         "Aaron Bradley",
         "2023-05-10 06:43:09",
         "7",
         "1366"
        ],
        [
         "Aaron Brown",
         "2022-06-21 09:30:55",
         "10",
         "3068"
        ],
        [
         "Aaron Burns",
         "2023-07-15 18:48:29",
         "2",
         "213"
        ],
        [
         "Aaron Butler",
         "2022-03-09 09:20:42",
         "7",
         "2062"
        ],
        [
         "Aaron Calhoun",
         "2021-02-24 20:48:59",
         "7",
         "1790"
        ],
        [
         "Aaron Carroll",
         "2023-02-12 06:26:00",
         "2",
         "60"
        ],
        [
         "Aaron Carson",
         "2023-08-23 06:30:17",
         "6",
         "1797"
        ],
        [
         "Aaron Castillo",
         "2022-12-11 11:00:56",
         "5",
         "1901"
        ],
        [
         "Aaron Chapman",
         "2023-09-02 09:29:48",
         "4",
         "1143"
        ],
        [
         "Aaron Chavez",
         "2022-12-06 16:46:48",
         "8",
         "2116"
        ],
        [
         "Aaron Chung",
         "2023-03-24 11:07:42",
         "4",
         "951"
        ],
        [
         "Aaron Clark",
         "2023-02-03 03:19:07",
         "4",
         "741"
        ],
        [
         "Aaron Cole",
         "2023-07-21 12:46:26",
         "6",
         "1664"
        ],
        [
         "Aaron Cook",
         "2023-09-11 18:48:26",
         "6",
         "1633"
        ],
        [
         "Aaron Copeland",
         "2022-07-13 06:12:09",
         "2",
         "470"
        ],
        [
         "Aaron Cross",
         "2023-04-14 16:27:38",
         "3",
         "1002"
        ],
        [
         "Aaron Davenport",
         "2022-02-08 23:00:00",
         "3",
         "546"
        ],
        [
         "Aaron David",
         "2023-08-03 17:18:58",
         "6",
         "1294"
        ],
        [
         "Aaron Davis",
         "2022-04-24 15:09:01",
         "3",
         "263"
        ],
        [
         "Aaron Day",
         "2022-06-24 09:21:35",
         "4",
         "927"
        ],
        [
         "Aaron Dean",
         "2023-04-29 04:14:14",
         "8",
         "2200"
        ],
        [
         "Aaron Deleon",
         "2022-12-09 18:03:21",
         "4",
         "1016"
        ],
        [
         "Aaron Dunlap",
         "2023-03-24 06:02:08",
         "6",
         "1864"
        ],
        [
         "Aaron Ellis",
         "2023-03-16 22:48:41",
         "9",
         "2144"
        ],
        [
         "Aaron Evans",
         "2023-03-31 21:06:36",
         "7",
         "1573"
        ],
        [
         "Aaron Ferguson",
         "2022-06-10 11:03:36",
         "3",
         "564"
        ],
        [
         "Aaron Fernandez",
         "2023-05-16 05:54:08",
         "10",
         "1775"
        ],
        [
         "Aaron Flores",
         "2022-12-13 07:00:35",
         "7",
         "1486"
        ],
        [
         "Aaron Ford",
         "2023-07-19 13:48:15",
         "8",
         "2267"
        ],
        [
         "Aaron Fuller",
         "2023-05-01 07:46:47",
         "7",
         "1818"
        ],
        [
         "Aaron Gaines",
         "2022-06-06 20:29:39",
         "1",
         "394"
        ],
        [
         "Aaron Garcia",
         "2023-07-11 08:29:52",
         "12",
         "2462"
        ],
        [
         "Aaron Gates",
         "2023-06-24 11:50:43",
         "11",
         "3564"
        ],
        [
         "Aaron Gentry",
         "2022-09-26 05:26:30",
         "4",
         "1152"
        ],
        [
         "Aaron George",
         "2022-12-19 20:21:48",
         "9",
         "2805"
        ],
        [
         "Aaron Good",
         "2023-06-05 20:32:30",
         "3",
         "838"
        ],
        [
         "Aaron Gray",
         "2022-10-21 13:42:00",
         "6",
         "1522"
        ],
        [
         "Aaron Green",
         "2023-05-17 07:33:49",
         "4",
         "1125"
        ],
        [
         "Aaron Griffith",
         "2022-10-26 19:11:06",
         "10",
         "3528"
        ]
       ],
       "shape": {
        "columns": 3,
        "rows": 39878
       }
      },
      "text/html": [
       "<div>\n",
       "<style scoped>\n",
       "    .dataframe tbody tr th:only-of-type {\n",
       "        vertical-align: middle;\n",
       "    }\n",
       "\n",
       "    .dataframe tbody tr th {\n",
       "        vertical-align: top;\n",
       "    }\n",
       "\n",
       "    .dataframe thead th {\n",
       "        text-align: right;\n",
       "    }\n",
       "</style>\n",
       "<table border=\"1\" class=\"dataframe\">\n",
       "  <thead>\n",
       "    <tr style=\"text-align: right;\">\n",
       "      <th></th>\n",
       "      <th>r</th>\n",
       "      <th>f</th>\n",
       "      <th>m</th>\n",
       "    </tr>\n",
       "    <tr>\n",
       "      <th>Customer Name</th>\n",
       "      <th></th>\n",
       "      <th></th>\n",
       "      <th></th>\n",
       "    </tr>\n",
       "  </thead>\n",
       "  <tbody>\n",
       "    <tr>\n",
       "      <th>Aaron Alexander</th>\n",
       "      <td>2023-01-08 20:32:57</td>\n",
       "      <td>5</td>\n",
       "      <td>752</td>\n",
       "    </tr>\n",
       "    <tr>\n",
       "      <th>Aaron Archer</th>\n",
       "      <td>2022-10-16 20:06:59</td>\n",
       "      <td>4</td>\n",
       "      <td>797</td>\n",
       "    </tr>\n",
       "    <tr>\n",
       "      <th>Aaron Armstrong</th>\n",
       "      <td>2023-02-17 07:43:56</td>\n",
       "      <td>3</td>\n",
       "      <td>918</td>\n",
       "    </tr>\n",
       "    <tr>\n",
       "      <th>Aaron Avery</th>\n",
       "      <td>2023-05-03 03:45:14</td>\n",
       "      <td>6</td>\n",
       "      <td>1866</td>\n",
       "    </tr>\n",
       "    <tr>\n",
       "      <th>Aaron Avila</th>\n",
       "      <td>2023-08-28 18:51:46</td>\n",
       "      <td>7</td>\n",
       "      <td>1399</td>\n",
       "    </tr>\n",
       "    <tr>\n",
       "      <th>...</th>\n",
       "      <td>...</td>\n",
       "      <td>...</td>\n",
       "      <td>...</td>\n",
       "    </tr>\n",
       "    <tr>\n",
       "      <th>Zoe Myers</th>\n",
       "      <td>2023-08-02 05:16:20</td>\n",
       "      <td>6</td>\n",
       "      <td>1802</td>\n",
       "    </tr>\n",
       "    <tr>\n",
       "      <th>Zoe Torres</th>\n",
       "      <td>2021-04-22 05:55:27</td>\n",
       "      <td>1</td>\n",
       "      <td>156</td>\n",
       "    </tr>\n",
       "    <tr>\n",
       "      <th>Zoe Walker</th>\n",
       "      <td>2021-11-14 20:27:43</td>\n",
       "      <td>2</td>\n",
       "      <td>644</td>\n",
       "    </tr>\n",
       "    <tr>\n",
       "      <th>Zoe Watson</th>\n",
       "      <td>2022-10-30 22:51:39</td>\n",
       "      <td>2</td>\n",
       "      <td>442</td>\n",
       "    </tr>\n",
       "    <tr>\n",
       "      <th>Zoe Young</th>\n",
       "      <td>2020-12-25 04:33:36</td>\n",
       "      <td>1</td>\n",
       "      <td>156</td>\n",
       "    </tr>\n",
       "  </tbody>\n",
       "</table>\n",
       "<p>39878 rows × 3 columns</p>\n",
       "</div>"
      ],
      "text/plain": [
       "                                  r  f     m\n",
       "Customer Name                               \n",
       "Aaron Alexander 2023-01-08 20:32:57  5   752\n",
       "Aaron Archer    2022-10-16 20:06:59  4   797\n",
       "Aaron Armstrong 2023-02-17 07:43:56  3   918\n",
       "Aaron Avery     2023-05-03 03:45:14  6  1866\n",
       "Aaron Avila     2023-08-28 18:51:46  7  1399\n",
       "...                             ... ..   ...\n",
       "Zoe Myers       2023-08-02 05:16:20  6  1802\n",
       "Zoe Torres      2021-04-22 05:55:27  1   156\n",
       "Zoe Walker      2021-11-14 20:27:43  2   644\n",
       "Zoe Watson      2022-10-30 22:51:39  2   442\n",
       "Zoe Young       2020-12-25 04:33:36  1   156\n",
       "\n",
       "[39878 rows x 3 columns]"
      ]
     },
     "execution_count": 31,
     "metadata": {},
     "output_type": "execute_result"
    }
   ],
   "source": [
    "rfm"
   ]
  },
  {
   "cell_type": "code",
   "execution_count": 32,
   "id": "b79dfe74",
   "metadata": {},
   "outputs": [],
   "source": [
    "del recency, frequency, monetary"
   ]
  },
  {
   "cell_type": "code",
   "execution_count": 33,
   "metadata": {},
   "outputs": [
    {
     "data": {
      "application/vnd.microsoft.datawrangler.viewer.v0+json": {
       "columns": [
        {
         "name": "Customer Name",
         "rawType": "object",
         "type": "string"
        },
        {
         "name": "r",
         "rawType": "datetime64[ns]",
         "type": "datetime"
        },
        {
         "name": "f",
         "rawType": "int64",
         "type": "integer"
        },
        {
         "name": "m",
         "rawType": "int64",
         "type": "integer"
        }
       ],
       "ref": "245bfe4f-1040-4ab1-a970-e08c20aec33e",
       "rows": [
        [
         "Aaron Alexander",
         "2023-01-08 20:32:57",
         "5",
         "752"
        ],
        [
         "Aaron Archer",
         "2022-10-16 20:06:59",
         "4",
         "797"
        ],
        [
         "Aaron Armstrong",
         "2023-02-17 07:43:56",
         "3",
         "918"
        ],
        [
         "Aaron Avery",
         "2023-05-03 03:45:14",
         "6",
         "1866"
        ],
        [
         "Aaron Avila",
         "2023-08-28 18:51:46",
         "7",
         "1399"
        ],
        [
         "Aaron Ayala",
         "2023-02-02 00:59:28",
         "5",
         "920"
        ],
        [
         "Aaron Baker",
         "2023-03-31 13:48:39",
         "7",
         "1703"
        ],
        [
         "Aaron Bennett",
         "2023-09-01 11:41:53",
         "1",
         "299"
        ],
        [
         "Aaron Best",
         "2023-05-07 14:37:22",
         "5",
         "2138"
        ],
        [
         "Aaron Boone",
         "2023-09-11 08:02:34",
         "11",
         "3344"
        ],
        [
         "Aaron Boyer",
         "2023-05-06 16:25:45",
         "5",
         "963"
        ],
        [
         "Aaron Bradley",
         "2023-05-10 06:43:09",
         "7",
         "1366"
        ],
        [
         "Aaron Brown",
         "2022-06-21 09:30:55",
         "10",
         "3068"
        ],
        [
         "Aaron Burns",
         "2023-07-15 18:48:29",
         "2",
         "213"
        ],
        [
         "Aaron Butler",
         "2022-03-09 09:20:42",
         "7",
         "2062"
        ],
        [
         "Aaron Calhoun",
         "2021-02-24 20:48:59",
         "7",
         "1790"
        ],
        [
         "Aaron Carroll",
         "2023-02-12 06:26:00",
         "2",
         "60"
        ],
        [
         "Aaron Carson",
         "2023-08-23 06:30:17",
         "6",
         "1797"
        ],
        [
         "Aaron Castillo",
         "2022-12-11 11:00:56",
         "5",
         "1901"
        ],
        [
         "Aaron Chapman",
         "2023-09-02 09:29:48",
         "4",
         "1143"
        ],
        [
         "Aaron Chavez",
         "2022-12-06 16:46:48",
         "8",
         "2116"
        ],
        [
         "Aaron Chung",
         "2023-03-24 11:07:42",
         "4",
         "951"
        ],
        [
         "Aaron Clark",
         "2023-02-03 03:19:07",
         "4",
         "741"
        ],
        [
         "Aaron Cole",
         "2023-07-21 12:46:26",
         "6",
         "1664"
        ],
        [
         "Aaron Cook",
         "2023-09-11 18:48:26",
         "6",
         "1633"
        ],
        [
         "Aaron Copeland",
         "2022-07-13 06:12:09",
         "2",
         "470"
        ],
        [
         "Aaron Cross",
         "2023-04-14 16:27:38",
         "3",
         "1002"
        ],
        [
         "Aaron Davenport",
         "2022-02-08 23:00:00",
         "3",
         "546"
        ],
        [
         "Aaron David",
         "2023-08-03 17:18:58",
         "6",
         "1294"
        ],
        [
         "Aaron Davis",
         "2022-04-24 15:09:01",
         "3",
         "263"
        ],
        [
         "Aaron Day",
         "2022-06-24 09:21:35",
         "4",
         "927"
        ],
        [
         "Aaron Dean",
         "2023-04-29 04:14:14",
         "8",
         "2200"
        ],
        [
         "Aaron Deleon",
         "2022-12-09 18:03:21",
         "4",
         "1016"
        ],
        [
         "Aaron Dunlap",
         "2023-03-24 06:02:08",
         "6",
         "1864"
        ],
        [
         "Aaron Ellis",
         "2023-03-16 22:48:41",
         "9",
         "2144"
        ],
        [
         "Aaron Evans",
         "2023-03-31 21:06:36",
         "7",
         "1573"
        ],
        [
         "Aaron Ferguson",
         "2022-06-10 11:03:36",
         "3",
         "564"
        ],
        [
         "Aaron Fernandez",
         "2023-05-16 05:54:08",
         "10",
         "1775"
        ],
        [
         "Aaron Flores",
         "2022-12-13 07:00:35",
         "7",
         "1486"
        ],
        [
         "Aaron Ford",
         "2023-07-19 13:48:15",
         "8",
         "2267"
        ],
        [
         "Aaron Fuller",
         "2023-05-01 07:46:47",
         "7",
         "1818"
        ],
        [
         "Aaron Gaines",
         "2022-06-06 20:29:39",
         "1",
         "394"
        ],
        [
         "Aaron Garcia",
         "2023-07-11 08:29:52",
         "12",
         "2462"
        ],
        [
         "Aaron Gates",
         "2023-06-24 11:50:43",
         "11",
         "3564"
        ],
        [
         "Aaron Gentry",
         "2022-09-26 05:26:30",
         "4",
         "1152"
        ],
        [
         "Aaron George",
         "2022-12-19 20:21:48",
         "9",
         "2805"
        ],
        [
         "Aaron Good",
         "2023-06-05 20:32:30",
         "3",
         "838"
        ],
        [
         "Aaron Gray",
         "2022-10-21 13:42:00",
         "6",
         "1522"
        ],
        [
         "Aaron Green",
         "2023-05-17 07:33:49",
         "4",
         "1125"
        ],
        [
         "Aaron Griffith",
         "2022-10-26 19:11:06",
         "10",
         "3528"
        ]
       ],
       "shape": {
        "columns": 3,
        "rows": 39878
       }
      },
      "text/html": [
       "<div>\n",
       "<style scoped>\n",
       "    .dataframe tbody tr th:only-of-type {\n",
       "        vertical-align: middle;\n",
       "    }\n",
       "\n",
       "    .dataframe tbody tr th {\n",
       "        vertical-align: top;\n",
       "    }\n",
       "\n",
       "    .dataframe thead th {\n",
       "        text-align: right;\n",
       "    }\n",
       "</style>\n",
       "<table border=\"1\" class=\"dataframe\">\n",
       "  <thead>\n",
       "    <tr style=\"text-align: right;\">\n",
       "      <th></th>\n",
       "      <th>r</th>\n",
       "      <th>f</th>\n",
       "      <th>m</th>\n",
       "    </tr>\n",
       "    <tr>\n",
       "      <th>Customer Name</th>\n",
       "      <th></th>\n",
       "      <th></th>\n",
       "      <th></th>\n",
       "    </tr>\n",
       "  </thead>\n",
       "  <tbody>\n",
       "    <tr>\n",
       "      <th>Aaron Alexander</th>\n",
       "      <td>2023-01-08 20:32:57</td>\n",
       "      <td>5</td>\n",
       "      <td>752</td>\n",
       "    </tr>\n",
       "    <tr>\n",
       "      <th>Aaron Archer</th>\n",
       "      <td>2022-10-16 20:06:59</td>\n",
       "      <td>4</td>\n",
       "      <td>797</td>\n",
       "    </tr>\n",
       "    <tr>\n",
       "      <th>Aaron Armstrong</th>\n",
       "      <td>2023-02-17 07:43:56</td>\n",
       "      <td>3</td>\n",
       "      <td>918</td>\n",
       "    </tr>\n",
       "    <tr>\n",
       "      <th>Aaron Avery</th>\n",
       "      <td>2023-05-03 03:45:14</td>\n",
       "      <td>6</td>\n",
       "      <td>1866</td>\n",
       "    </tr>\n",
       "    <tr>\n",
       "      <th>Aaron Avila</th>\n",
       "      <td>2023-08-28 18:51:46</td>\n",
       "      <td>7</td>\n",
       "      <td>1399</td>\n",
       "    </tr>\n",
       "    <tr>\n",
       "      <th>...</th>\n",
       "      <td>...</td>\n",
       "      <td>...</td>\n",
       "      <td>...</td>\n",
       "    </tr>\n",
       "    <tr>\n",
       "      <th>Zoe Myers</th>\n",
       "      <td>2023-08-02 05:16:20</td>\n",
       "      <td>6</td>\n",
       "      <td>1802</td>\n",
       "    </tr>\n",
       "    <tr>\n",
       "      <th>Zoe Torres</th>\n",
       "      <td>2021-04-22 05:55:27</td>\n",
       "      <td>1</td>\n",
       "      <td>156</td>\n",
       "    </tr>\n",
       "    <tr>\n",
       "      <th>Zoe Walker</th>\n",
       "      <td>2021-11-14 20:27:43</td>\n",
       "      <td>2</td>\n",
       "      <td>644</td>\n",
       "    </tr>\n",
       "    <tr>\n",
       "      <th>Zoe Watson</th>\n",
       "      <td>2022-10-30 22:51:39</td>\n",
       "      <td>2</td>\n",
       "      <td>442</td>\n",
       "    </tr>\n",
       "    <tr>\n",
       "      <th>Zoe Young</th>\n",
       "      <td>2020-12-25 04:33:36</td>\n",
       "      <td>1</td>\n",
       "      <td>156</td>\n",
       "    </tr>\n",
       "  </tbody>\n",
       "</table>\n",
       "<p>39878 rows × 3 columns</p>\n",
       "</div>"
      ],
      "text/plain": [
       "                                  r  f     m\n",
       "Customer Name                               \n",
       "Aaron Alexander 2023-01-08 20:32:57  5   752\n",
       "Aaron Archer    2022-10-16 20:06:59  4   797\n",
       "Aaron Armstrong 2023-02-17 07:43:56  3   918\n",
       "Aaron Avery     2023-05-03 03:45:14  6  1866\n",
       "Aaron Avila     2023-08-28 18:51:46  7  1399\n",
       "...                             ... ..   ...\n",
       "Zoe Myers       2023-08-02 05:16:20  6  1802\n",
       "Zoe Torres      2021-04-22 05:55:27  1   156\n",
       "Zoe Walker      2021-11-14 20:27:43  2   644\n",
       "Zoe Watson      2022-10-30 22:51:39  2   442\n",
       "Zoe Young       2020-12-25 04:33:36  1   156\n",
       "\n",
       "[39878 rows x 3 columns]"
      ]
     },
     "execution_count": 33,
     "metadata": {},
     "output_type": "execute_result"
    }
   ],
   "source": [
    "rfm"
   ]
  },
  {
   "cell_type": "code",
   "execution_count": 34,
   "id": "40a5181c",
   "metadata": {},
   "outputs": [],
   "source": [
    "rfm['R_Score'] = pd.qcut(rfm['r'], 4, labels=[4, 3, 2, 1])  # lower recency is better\n",
    "rfm['F_Score'] = pd.qcut(rfm['f'], 4, labels=[1, 2, 3, 4])  # higher frequency is better\n",
    "rfm['M_Score'] = pd.qcut(rfm['m'], 4, labels=[1, 2, 3, 4])   # higher monetary is better"
   ]
  },
  {
   "cell_type": "code",
   "execution_count": 35,
   "id": "ed356737",
   "metadata": {},
   "outputs": [
    {
     "data": {
      "application/vnd.microsoft.datawrangler.viewer.v0+json": {
       "columns": [
        {
         "name": "Customer Name",
         "rawType": "object",
         "type": "string"
        },
        {
         "name": "r",
         "rawType": "datetime64[ns]",
         "type": "datetime"
        },
        {
         "name": "f",
         "rawType": "int64",
         "type": "integer"
        },
        {
         "name": "m",
         "rawType": "int64",
         "type": "integer"
        },
        {
         "name": "R_Score",
         "rawType": "category",
         "type": "unknown"
        },
        {
         "name": "F_Score",
         "rawType": "category",
         "type": "unknown"
        },
        {
         "name": "M_Score",
         "rawType": "category",
         "type": "unknown"
        }
       ],
       "ref": "79b1687d-e544-4d3c-a863-5f62ea9485d6",
       "rows": [
        [
         "Aaron Alexander",
         "2023-01-08 20:32:57",
         "5",
         "752",
         "3",
         "2",
         "1"
        ],
        [
         "Aaron Archer",
         "2022-10-16 20:06:59",
         "4",
         "797",
         "3",
         "1",
         "1"
        ],
        [
         "Aaron Armstrong",
         "2023-02-17 07:43:56",
         "3",
         "918",
         "3",
         "1",
         "2"
        ],
        [
         "Aaron Avery",
         "2023-05-03 03:45:14",
         "6",
         "1866",
         "2",
         "3",
         "3"
        ],
        [
         "Aaron Avila",
         "2023-08-28 18:51:46",
         "7",
         "1399",
         "1",
         "3",
         "3"
        ],
        [
         "Aaron Ayala",
         "2023-02-02 00:59:28",
         "5",
         "920",
         "3",
         "2",
         "2"
        ],
        [
         "Aaron Baker",
         "2023-03-31 13:48:39",
         "7",
         "1703",
         "3",
         "3",
         "3"
        ],
        [
         "Aaron Bennett",
         "2023-09-01 11:41:53",
         "1",
         "299",
         "1",
         "1",
         "1"
        ],
        [
         "Aaron Best",
         "2023-05-07 14:37:22",
         "5",
         "2138",
         "2",
         "2",
         "4"
        ],
        [
         "Aaron Boone",
         "2023-09-11 08:02:34",
         "11",
         "3344",
         "1",
         "4",
         "4"
        ],
        [
         "Aaron Boyer",
         "2023-05-06 16:25:45",
         "5",
         "963",
         "2",
         "2",
         "2"
        ],
        [
         "Aaron Bradley",
         "2023-05-10 06:43:09",
         "7",
         "1366",
         "2",
         "3",
         "3"
        ],
        [
         "Aaron Brown",
         "2022-06-21 09:30:55",
         "10",
         "3068",
         "4",
         "4",
         "4"
        ],
        [
         "Aaron Burns",
         "2023-07-15 18:48:29",
         "2",
         "213",
         "1",
         "1",
         "1"
        ],
        [
         "Aaron Butler",
         "2022-03-09 09:20:42",
         "7",
         "2062",
         "4",
         "3",
         "4"
        ],
        [
         "Aaron Calhoun",
         "2021-02-24 20:48:59",
         "7",
         "1790",
         "4",
         "3",
         "3"
        ],
        [
         "Aaron Carroll",
         "2023-02-12 06:26:00",
         "2",
         "60",
         "3",
         "1",
         "1"
        ],
        [
         "Aaron Carson",
         "2023-08-23 06:30:17",
         "6",
         "1797",
         "1",
         "3",
         "3"
        ],
        [
         "Aaron Castillo",
         "2022-12-11 11:00:56",
         "5",
         "1901",
         "3",
         "2",
         "3"
        ],
        [
         "Aaron Chapman",
         "2023-09-02 09:29:48",
         "4",
         "1143",
         "1",
         "1",
         "2"
        ],
        [
         "Aaron Chavez",
         "2022-12-06 16:46:48",
         "8",
         "2116",
         "3",
         "4",
         "4"
        ],
        [
         "Aaron Chung",
         "2023-03-24 11:07:42",
         "4",
         "951",
         "3",
         "1",
         "2"
        ],
        [
         "Aaron Clark",
         "2023-02-03 03:19:07",
         "4",
         "741",
         "3",
         "1",
         "1"
        ],
        [
         "Aaron Cole",
         "2023-07-21 12:46:26",
         "6",
         "1664",
         "1",
         "3",
         "3"
        ],
        [
         "Aaron Cook",
         "2023-09-11 18:48:26",
         "6",
         "1633",
         "1",
         "3",
         "3"
        ],
        [
         "Aaron Copeland",
         "2022-07-13 06:12:09",
         "2",
         "470",
         "4",
         "1",
         "1"
        ],
        [
         "Aaron Cross",
         "2023-04-14 16:27:38",
         "3",
         "1002",
         "2",
         "1",
         "2"
        ],
        [
         "Aaron Davenport",
         "2022-02-08 23:00:00",
         "3",
         "546",
         "4",
         "1",
         "1"
        ],
        [
         "Aaron David",
         "2023-08-03 17:18:58",
         "6",
         "1294",
         "1",
         "3",
         "2"
        ],
        [
         "Aaron Davis",
         "2022-04-24 15:09:01",
         "3",
         "263",
         "4",
         "1",
         "1"
        ],
        [
         "Aaron Day",
         "2022-06-24 09:21:35",
         "4",
         "927",
         "4",
         "1",
         "2"
        ],
        [
         "Aaron Dean",
         "2023-04-29 04:14:14",
         "8",
         "2200",
         "2",
         "4",
         "4"
        ],
        [
         "Aaron Deleon",
         "2022-12-09 18:03:21",
         "4",
         "1016",
         "3",
         "1",
         "2"
        ],
        [
         "Aaron Dunlap",
         "2023-03-24 06:02:08",
         "6",
         "1864",
         "3",
         "3",
         "3"
        ],
        [
         "Aaron Ellis",
         "2023-03-16 22:48:41",
         "9",
         "2144",
         "3",
         "4",
         "4"
        ],
        [
         "Aaron Evans",
         "2023-03-31 21:06:36",
         "7",
         "1573",
         "3",
         "3",
         "3"
        ],
        [
         "Aaron Ferguson",
         "2022-06-10 11:03:36",
         "3",
         "564",
         "4",
         "1",
         "1"
        ],
        [
         "Aaron Fernandez",
         "2023-05-16 05:54:08",
         "10",
         "1775",
         "2",
         "4",
         "3"
        ],
        [
         "Aaron Flores",
         "2022-12-13 07:00:35",
         "7",
         "1486",
         "3",
         "3",
         "3"
        ],
        [
         "Aaron Ford",
         "2023-07-19 13:48:15",
         "8",
         "2267",
         "1",
         "4",
         "4"
        ],
        [
         "Aaron Fuller",
         "2023-05-01 07:46:47",
         "7",
         "1818",
         "2",
         "3",
         "3"
        ],
        [
         "Aaron Gaines",
         "2022-06-06 20:29:39",
         "1",
         "394",
         "4",
         "1",
         "1"
        ],
        [
         "Aaron Garcia",
         "2023-07-11 08:29:52",
         "12",
         "2462",
         "1",
         "4",
         "4"
        ],
        [
         "Aaron Gates",
         "2023-06-24 11:50:43",
         "11",
         "3564",
         "2",
         "4",
         "4"
        ],
        [
         "Aaron Gentry",
         "2022-09-26 05:26:30",
         "4",
         "1152",
         "4",
         "1",
         "2"
        ],
        [
         "Aaron George",
         "2022-12-19 20:21:48",
         "9",
         "2805",
         "3",
         "4",
         "4"
        ],
        [
         "Aaron Good",
         "2023-06-05 20:32:30",
         "3",
         "838",
         "2",
         "1",
         "1"
        ],
        [
         "Aaron Gray",
         "2022-10-21 13:42:00",
         "6",
         "1522",
         "3",
         "3",
         "3"
        ],
        [
         "Aaron Green",
         "2023-05-17 07:33:49",
         "4",
         "1125",
         "2",
         "1",
         "2"
        ],
        [
         "Aaron Griffith",
         "2022-10-26 19:11:06",
         "10",
         "3528",
         "3",
         "4",
         "4"
        ]
       ],
       "shape": {
        "columns": 6,
        "rows": 39878
       }
      },
      "text/html": [
       "<div>\n",
       "<style scoped>\n",
       "    .dataframe tbody tr th:only-of-type {\n",
       "        vertical-align: middle;\n",
       "    }\n",
       "\n",
       "    .dataframe tbody tr th {\n",
       "        vertical-align: top;\n",
       "    }\n",
       "\n",
       "    .dataframe thead th {\n",
       "        text-align: right;\n",
       "    }\n",
       "</style>\n",
       "<table border=\"1\" class=\"dataframe\">\n",
       "  <thead>\n",
       "    <tr style=\"text-align: right;\">\n",
       "      <th></th>\n",
       "      <th>r</th>\n",
       "      <th>f</th>\n",
       "      <th>m</th>\n",
       "      <th>R_Score</th>\n",
       "      <th>F_Score</th>\n",
       "      <th>M_Score</th>\n",
       "    </tr>\n",
       "    <tr>\n",
       "      <th>Customer Name</th>\n",
       "      <th></th>\n",
       "      <th></th>\n",
       "      <th></th>\n",
       "      <th></th>\n",
       "      <th></th>\n",
       "      <th></th>\n",
       "    </tr>\n",
       "  </thead>\n",
       "  <tbody>\n",
       "    <tr>\n",
       "      <th>Aaron Alexander</th>\n",
       "      <td>2023-01-08 20:32:57</td>\n",
       "      <td>5</td>\n",
       "      <td>752</td>\n",
       "      <td>3</td>\n",
       "      <td>2</td>\n",
       "      <td>1</td>\n",
       "    </tr>\n",
       "    <tr>\n",
       "      <th>Aaron Archer</th>\n",
       "      <td>2022-10-16 20:06:59</td>\n",
       "      <td>4</td>\n",
       "      <td>797</td>\n",
       "      <td>3</td>\n",
       "      <td>1</td>\n",
       "      <td>1</td>\n",
       "    </tr>\n",
       "    <tr>\n",
       "      <th>Aaron Armstrong</th>\n",
       "      <td>2023-02-17 07:43:56</td>\n",
       "      <td>3</td>\n",
       "      <td>918</td>\n",
       "      <td>3</td>\n",
       "      <td>1</td>\n",
       "      <td>2</td>\n",
       "    </tr>\n",
       "    <tr>\n",
       "      <th>Aaron Avery</th>\n",
       "      <td>2023-05-03 03:45:14</td>\n",
       "      <td>6</td>\n",
       "      <td>1866</td>\n",
       "      <td>2</td>\n",
       "      <td>3</td>\n",
       "      <td>3</td>\n",
       "    </tr>\n",
       "    <tr>\n",
       "      <th>Aaron Avila</th>\n",
       "      <td>2023-08-28 18:51:46</td>\n",
       "      <td>7</td>\n",
       "      <td>1399</td>\n",
       "      <td>1</td>\n",
       "      <td>3</td>\n",
       "      <td>3</td>\n",
       "    </tr>\n",
       "    <tr>\n",
       "      <th>...</th>\n",
       "      <td>...</td>\n",
       "      <td>...</td>\n",
       "      <td>...</td>\n",
       "      <td>...</td>\n",
       "      <td>...</td>\n",
       "      <td>...</td>\n",
       "    </tr>\n",
       "    <tr>\n",
       "      <th>Zoe Myers</th>\n",
       "      <td>2023-08-02 05:16:20</td>\n",
       "      <td>6</td>\n",
       "      <td>1802</td>\n",
       "      <td>1</td>\n",
       "      <td>3</td>\n",
       "      <td>3</td>\n",
       "    </tr>\n",
       "    <tr>\n",
       "      <th>Zoe Torres</th>\n",
       "      <td>2021-04-22 05:55:27</td>\n",
       "      <td>1</td>\n",
       "      <td>156</td>\n",
       "      <td>4</td>\n",
       "      <td>1</td>\n",
       "      <td>1</td>\n",
       "    </tr>\n",
       "    <tr>\n",
       "      <th>Zoe Walker</th>\n",
       "      <td>2021-11-14 20:27:43</td>\n",
       "      <td>2</td>\n",
       "      <td>644</td>\n",
       "      <td>4</td>\n",
       "      <td>1</td>\n",
       "      <td>1</td>\n",
       "    </tr>\n",
       "    <tr>\n",
       "      <th>Zoe Watson</th>\n",
       "      <td>2022-10-30 22:51:39</td>\n",
       "      <td>2</td>\n",
       "      <td>442</td>\n",
       "      <td>3</td>\n",
       "      <td>1</td>\n",
       "      <td>1</td>\n",
       "    </tr>\n",
       "    <tr>\n",
       "      <th>Zoe Young</th>\n",
       "      <td>2020-12-25 04:33:36</td>\n",
       "      <td>1</td>\n",
       "      <td>156</td>\n",
       "      <td>4</td>\n",
       "      <td>1</td>\n",
       "      <td>1</td>\n",
       "    </tr>\n",
       "  </tbody>\n",
       "</table>\n",
       "<p>39878 rows × 6 columns</p>\n",
       "</div>"
      ],
      "text/plain": [
       "                                  r  f     m R_Score F_Score M_Score\n",
       "Customer Name                                                       \n",
       "Aaron Alexander 2023-01-08 20:32:57  5   752       3       2       1\n",
       "Aaron Archer    2022-10-16 20:06:59  4   797       3       1       1\n",
       "Aaron Armstrong 2023-02-17 07:43:56  3   918       3       1       2\n",
       "Aaron Avery     2023-05-03 03:45:14  6  1866       2       3       3\n",
       "Aaron Avila     2023-08-28 18:51:46  7  1399       1       3       3\n",
       "...                             ... ..   ...     ...     ...     ...\n",
       "Zoe Myers       2023-08-02 05:16:20  6  1802       1       3       3\n",
       "Zoe Torres      2021-04-22 05:55:27  1   156       4       1       1\n",
       "Zoe Walker      2021-11-14 20:27:43  2   644       4       1       1\n",
       "Zoe Watson      2022-10-30 22:51:39  2   442       3       1       1\n",
       "Zoe Young       2020-12-25 04:33:36  1   156       4       1       1\n",
       "\n",
       "[39878 rows x 6 columns]"
      ]
     },
     "execution_count": 35,
     "metadata": {},
     "output_type": "execute_result"
    }
   ],
   "source": [
    "rfm"
   ]
  },
  {
   "cell_type": "code",
   "execution_count": 36,
   "id": "614e288c",
   "metadata": {},
   "outputs": [],
   "source": [
    "rfm['rfm_score'] = rfm['R_Score'].astype(str) + rfm['F_Score'].astype(str) + rfm['M_Score'].astype(str)\n",
    "rfm['rfm_total'] = rfm[['R_Score', 'F_Score', 'M_Score']].astype(int).sum(axis=1) # This will give us a total score for each customer in\n",
    "# the rfm. R = highest 4, similarly F and M. The highest total will be 12. The higher the better."
   ]
  },
  {
   "cell_type": "code",
   "execution_count": 37,
   "id": "138dfc6b",
   "metadata": {},
   "outputs": [
    {
     "data": {
      "application/vnd.microsoft.datawrangler.viewer.v0+json": {
       "columns": [
        {
         "name": "Customer Name",
         "rawType": "object",
         "type": "string"
        },
        {
         "name": "r",
         "rawType": "datetime64[ns]",
         "type": "datetime"
        },
        {
         "name": "f",
         "rawType": "int64",
         "type": "integer"
        },
        {
         "name": "m",
         "rawType": "int64",
         "type": "integer"
        },
        {
         "name": "R_Score",
         "rawType": "category",
         "type": "unknown"
        },
        {
         "name": "F_Score",
         "rawType": "category",
         "type": "unknown"
        },
        {
         "name": "M_Score",
         "rawType": "category",
         "type": "unknown"
        },
        {
         "name": "rfm_score",
         "rawType": "object",
         "type": "string"
        },
        {
         "name": "rfm_total",
         "rawType": "int64",
         "type": "integer"
        }
       ],
       "ref": "9109afe9-936a-4a34-99c8-a8ee754ba6a1",
       "rows": [
        [
         "Aaron Alexander",
         "2023-01-08 20:32:57",
         "5",
         "752",
         "3",
         "2",
         "1",
         "321",
         "6"
        ],
        [
         "Aaron Archer",
         "2022-10-16 20:06:59",
         "4",
         "797",
         "3",
         "1",
         "1",
         "311",
         "5"
        ],
        [
         "Aaron Armstrong",
         "2023-02-17 07:43:56",
         "3",
         "918",
         "3",
         "1",
         "2",
         "312",
         "6"
        ],
        [
         "Aaron Avery",
         "2023-05-03 03:45:14",
         "6",
         "1866",
         "2",
         "3",
         "3",
         "233",
         "8"
        ],
        [
         "Aaron Avila",
         "2023-08-28 18:51:46",
         "7",
         "1399",
         "1",
         "3",
         "3",
         "133",
         "7"
        ],
        [
         "Aaron Ayala",
         "2023-02-02 00:59:28",
         "5",
         "920",
         "3",
         "2",
         "2",
         "322",
         "7"
        ],
        [
         "Aaron Baker",
         "2023-03-31 13:48:39",
         "7",
         "1703",
         "3",
         "3",
         "3",
         "333",
         "9"
        ],
        [
         "Aaron Bennett",
         "2023-09-01 11:41:53",
         "1",
         "299",
         "1",
         "1",
         "1",
         "111",
         "3"
        ],
        [
         "Aaron Best",
         "2023-05-07 14:37:22",
         "5",
         "2138",
         "2",
         "2",
         "4",
         "224",
         "8"
        ],
        [
         "Aaron Boone",
         "2023-09-11 08:02:34",
         "11",
         "3344",
         "1",
         "4",
         "4",
         "144",
         "9"
        ],
        [
         "Aaron Boyer",
         "2023-05-06 16:25:45",
         "5",
         "963",
         "2",
         "2",
         "2",
         "222",
         "6"
        ],
        [
         "Aaron Bradley",
         "2023-05-10 06:43:09",
         "7",
         "1366",
         "2",
         "3",
         "3",
         "233",
         "8"
        ],
        [
         "Aaron Brown",
         "2022-06-21 09:30:55",
         "10",
         "3068",
         "4",
         "4",
         "4",
         "444",
         "12"
        ],
        [
         "Aaron Burns",
         "2023-07-15 18:48:29",
         "2",
         "213",
         "1",
         "1",
         "1",
         "111",
         "3"
        ],
        [
         "Aaron Butler",
         "2022-03-09 09:20:42",
         "7",
         "2062",
         "4",
         "3",
         "4",
         "434",
         "11"
        ],
        [
         "Aaron Calhoun",
         "2021-02-24 20:48:59",
         "7",
         "1790",
         "4",
         "3",
         "3",
         "433",
         "10"
        ],
        [
         "Aaron Carroll",
         "2023-02-12 06:26:00",
         "2",
         "60",
         "3",
         "1",
         "1",
         "311",
         "5"
        ],
        [
         "Aaron Carson",
         "2023-08-23 06:30:17",
         "6",
         "1797",
         "1",
         "3",
         "3",
         "133",
         "7"
        ],
        [
         "Aaron Castillo",
         "2022-12-11 11:00:56",
         "5",
         "1901",
         "3",
         "2",
         "3",
         "323",
         "8"
        ],
        [
         "Aaron Chapman",
         "2023-09-02 09:29:48",
         "4",
         "1143",
         "1",
         "1",
         "2",
         "112",
         "4"
        ],
        [
         "Aaron Chavez",
         "2022-12-06 16:46:48",
         "8",
         "2116",
         "3",
         "4",
         "4",
         "344",
         "11"
        ],
        [
         "Aaron Chung",
         "2023-03-24 11:07:42",
         "4",
         "951",
         "3",
         "1",
         "2",
         "312",
         "6"
        ],
        [
         "Aaron Clark",
         "2023-02-03 03:19:07",
         "4",
         "741",
         "3",
         "1",
         "1",
         "311",
         "5"
        ],
        [
         "Aaron Cole",
         "2023-07-21 12:46:26",
         "6",
         "1664",
         "1",
         "3",
         "3",
         "133",
         "7"
        ],
        [
         "Aaron Cook",
         "2023-09-11 18:48:26",
         "6",
         "1633",
         "1",
         "3",
         "3",
         "133",
         "7"
        ],
        [
         "Aaron Copeland",
         "2022-07-13 06:12:09",
         "2",
         "470",
         "4",
         "1",
         "1",
         "411",
         "6"
        ],
        [
         "Aaron Cross",
         "2023-04-14 16:27:38",
         "3",
         "1002",
         "2",
         "1",
         "2",
         "212",
         "5"
        ],
        [
         "Aaron Davenport",
         "2022-02-08 23:00:00",
         "3",
         "546",
         "4",
         "1",
         "1",
         "411",
         "6"
        ],
        [
         "Aaron David",
         "2023-08-03 17:18:58",
         "6",
         "1294",
         "1",
         "3",
         "2",
         "132",
         "6"
        ],
        [
         "Aaron Davis",
         "2022-04-24 15:09:01",
         "3",
         "263",
         "4",
         "1",
         "1",
         "411",
         "6"
        ],
        [
         "Aaron Day",
         "2022-06-24 09:21:35",
         "4",
         "927",
         "4",
         "1",
         "2",
         "412",
         "7"
        ],
        [
         "Aaron Dean",
         "2023-04-29 04:14:14",
         "8",
         "2200",
         "2",
         "4",
         "4",
         "244",
         "10"
        ],
        [
         "Aaron Deleon",
         "2022-12-09 18:03:21",
         "4",
         "1016",
         "3",
         "1",
         "2",
         "312",
         "6"
        ],
        [
         "Aaron Dunlap",
         "2023-03-24 06:02:08",
         "6",
         "1864",
         "3",
         "3",
         "3",
         "333",
         "9"
        ],
        [
         "Aaron Ellis",
         "2023-03-16 22:48:41",
         "9",
         "2144",
         "3",
         "4",
         "4",
         "344",
         "11"
        ],
        [
         "Aaron Evans",
         "2023-03-31 21:06:36",
         "7",
         "1573",
         "3",
         "3",
         "3",
         "333",
         "9"
        ],
        [
         "Aaron Ferguson",
         "2022-06-10 11:03:36",
         "3",
         "564",
         "4",
         "1",
         "1",
         "411",
         "6"
        ],
        [
         "Aaron Fernandez",
         "2023-05-16 05:54:08",
         "10",
         "1775",
         "2",
         "4",
         "3",
         "243",
         "9"
        ],
        [
         "Aaron Flores",
         "2022-12-13 07:00:35",
         "7",
         "1486",
         "3",
         "3",
         "3",
         "333",
         "9"
        ],
        [
         "Aaron Ford",
         "2023-07-19 13:48:15",
         "8",
         "2267",
         "1",
         "4",
         "4",
         "144",
         "9"
        ],
        [
         "Aaron Fuller",
         "2023-05-01 07:46:47",
         "7",
         "1818",
         "2",
         "3",
         "3",
         "233",
         "8"
        ],
        [
         "Aaron Gaines",
         "2022-06-06 20:29:39",
         "1",
         "394",
         "4",
         "1",
         "1",
         "411",
         "6"
        ],
        [
         "Aaron Garcia",
         "2023-07-11 08:29:52",
         "12",
         "2462",
         "1",
         "4",
         "4",
         "144",
         "9"
        ],
        [
         "Aaron Gates",
         "2023-06-24 11:50:43",
         "11",
         "3564",
         "2",
         "4",
         "4",
         "244",
         "10"
        ],
        [
         "Aaron Gentry",
         "2022-09-26 05:26:30",
         "4",
         "1152",
         "4",
         "1",
         "2",
         "412",
         "7"
        ],
        [
         "Aaron George",
         "2022-12-19 20:21:48",
         "9",
         "2805",
         "3",
         "4",
         "4",
         "344",
         "11"
        ],
        [
         "Aaron Good",
         "2023-06-05 20:32:30",
         "3",
         "838",
         "2",
         "1",
         "1",
         "211",
         "4"
        ],
        [
         "Aaron Gray",
         "2022-10-21 13:42:00",
         "6",
         "1522",
         "3",
         "3",
         "3",
         "333",
         "9"
        ],
        [
         "Aaron Green",
         "2023-05-17 07:33:49",
         "4",
         "1125",
         "2",
         "1",
         "2",
         "212",
         "5"
        ],
        [
         "Aaron Griffith",
         "2022-10-26 19:11:06",
         "10",
         "3528",
         "3",
         "4",
         "4",
         "344",
         "11"
        ]
       ],
       "shape": {
        "columns": 8,
        "rows": 39878
       }
      },
      "text/html": [
       "<div>\n",
       "<style scoped>\n",
       "    .dataframe tbody tr th:only-of-type {\n",
       "        vertical-align: middle;\n",
       "    }\n",
       "\n",
       "    .dataframe tbody tr th {\n",
       "        vertical-align: top;\n",
       "    }\n",
       "\n",
       "    .dataframe thead th {\n",
       "        text-align: right;\n",
       "    }\n",
       "</style>\n",
       "<table border=\"1\" class=\"dataframe\">\n",
       "  <thead>\n",
       "    <tr style=\"text-align: right;\">\n",
       "      <th></th>\n",
       "      <th>r</th>\n",
       "      <th>f</th>\n",
       "      <th>m</th>\n",
       "      <th>R_Score</th>\n",
       "      <th>F_Score</th>\n",
       "      <th>M_Score</th>\n",
       "      <th>rfm_score</th>\n",
       "      <th>rfm_total</th>\n",
       "    </tr>\n",
       "    <tr>\n",
       "      <th>Customer Name</th>\n",
       "      <th></th>\n",
       "      <th></th>\n",
       "      <th></th>\n",
       "      <th></th>\n",
       "      <th></th>\n",
       "      <th></th>\n",
       "      <th></th>\n",
       "      <th></th>\n",
       "    </tr>\n",
       "  </thead>\n",
       "  <tbody>\n",
       "    <tr>\n",
       "      <th>Aaron Alexander</th>\n",
       "      <td>2023-01-08 20:32:57</td>\n",
       "      <td>5</td>\n",
       "      <td>752</td>\n",
       "      <td>3</td>\n",
       "      <td>2</td>\n",
       "      <td>1</td>\n",
       "      <td>321</td>\n",
       "      <td>6</td>\n",
       "    </tr>\n",
       "    <tr>\n",
       "      <th>Aaron Archer</th>\n",
       "      <td>2022-10-16 20:06:59</td>\n",
       "      <td>4</td>\n",
       "      <td>797</td>\n",
       "      <td>3</td>\n",
       "      <td>1</td>\n",
       "      <td>1</td>\n",
       "      <td>311</td>\n",
       "      <td>5</td>\n",
       "    </tr>\n",
       "    <tr>\n",
       "      <th>Aaron Armstrong</th>\n",
       "      <td>2023-02-17 07:43:56</td>\n",
       "      <td>3</td>\n",
       "      <td>918</td>\n",
       "      <td>3</td>\n",
       "      <td>1</td>\n",
       "      <td>2</td>\n",
       "      <td>312</td>\n",
       "      <td>6</td>\n",
       "    </tr>\n",
       "    <tr>\n",
       "      <th>Aaron Avery</th>\n",
       "      <td>2023-05-03 03:45:14</td>\n",
       "      <td>6</td>\n",
       "      <td>1866</td>\n",
       "      <td>2</td>\n",
       "      <td>3</td>\n",
       "      <td>3</td>\n",
       "      <td>233</td>\n",
       "      <td>8</td>\n",
       "    </tr>\n",
       "    <tr>\n",
       "      <th>Aaron Avila</th>\n",
       "      <td>2023-08-28 18:51:46</td>\n",
       "      <td>7</td>\n",
       "      <td>1399</td>\n",
       "      <td>1</td>\n",
       "      <td>3</td>\n",
       "      <td>3</td>\n",
       "      <td>133</td>\n",
       "      <td>7</td>\n",
       "    </tr>\n",
       "    <tr>\n",
       "      <th>...</th>\n",
       "      <td>...</td>\n",
       "      <td>...</td>\n",
       "      <td>...</td>\n",
       "      <td>...</td>\n",
       "      <td>...</td>\n",
       "      <td>...</td>\n",
       "      <td>...</td>\n",
       "      <td>...</td>\n",
       "    </tr>\n",
       "    <tr>\n",
       "      <th>Zoe Myers</th>\n",
       "      <td>2023-08-02 05:16:20</td>\n",
       "      <td>6</td>\n",
       "      <td>1802</td>\n",
       "      <td>1</td>\n",
       "      <td>3</td>\n",
       "      <td>3</td>\n",
       "      <td>133</td>\n",
       "      <td>7</td>\n",
       "    </tr>\n",
       "    <tr>\n",
       "      <th>Zoe Torres</th>\n",
       "      <td>2021-04-22 05:55:27</td>\n",
       "      <td>1</td>\n",
       "      <td>156</td>\n",
       "      <td>4</td>\n",
       "      <td>1</td>\n",
       "      <td>1</td>\n",
       "      <td>411</td>\n",
       "      <td>6</td>\n",
       "    </tr>\n",
       "    <tr>\n",
       "      <th>Zoe Walker</th>\n",
       "      <td>2021-11-14 20:27:43</td>\n",
       "      <td>2</td>\n",
       "      <td>644</td>\n",
       "      <td>4</td>\n",
       "      <td>1</td>\n",
       "      <td>1</td>\n",
       "      <td>411</td>\n",
       "      <td>6</td>\n",
       "    </tr>\n",
       "    <tr>\n",
       "      <th>Zoe Watson</th>\n",
       "      <td>2022-10-30 22:51:39</td>\n",
       "      <td>2</td>\n",
       "      <td>442</td>\n",
       "      <td>3</td>\n",
       "      <td>1</td>\n",
       "      <td>1</td>\n",
       "      <td>311</td>\n",
       "      <td>5</td>\n",
       "    </tr>\n",
       "    <tr>\n",
       "      <th>Zoe Young</th>\n",
       "      <td>2020-12-25 04:33:36</td>\n",
       "      <td>1</td>\n",
       "      <td>156</td>\n",
       "      <td>4</td>\n",
       "      <td>1</td>\n",
       "      <td>1</td>\n",
       "      <td>411</td>\n",
       "      <td>6</td>\n",
       "    </tr>\n",
       "  </tbody>\n",
       "</table>\n",
       "<p>39878 rows × 8 columns</p>\n",
       "</div>"
      ],
      "text/plain": [
       "                                  r  f     m R_Score F_Score M_Score  \\\n",
       "Customer Name                                                          \n",
       "Aaron Alexander 2023-01-08 20:32:57  5   752       3       2       1   \n",
       "Aaron Archer    2022-10-16 20:06:59  4   797       3       1       1   \n",
       "Aaron Armstrong 2023-02-17 07:43:56  3   918       3       1       2   \n",
       "Aaron Avery     2023-05-03 03:45:14  6  1866       2       3       3   \n",
       "Aaron Avila     2023-08-28 18:51:46  7  1399       1       3       3   \n",
       "...                             ... ..   ...     ...     ...     ...   \n",
       "Zoe Myers       2023-08-02 05:16:20  6  1802       1       3       3   \n",
       "Zoe Torres      2021-04-22 05:55:27  1   156       4       1       1   \n",
       "Zoe Walker      2021-11-14 20:27:43  2   644       4       1       1   \n",
       "Zoe Watson      2022-10-30 22:51:39  2   442       3       1       1   \n",
       "Zoe Young       2020-12-25 04:33:36  1   156       4       1       1   \n",
       "\n",
       "                rfm_score  rfm_total  \n",
       "Customer Name                         \n",
       "Aaron Alexander       321          6  \n",
       "Aaron Archer          311          5  \n",
       "Aaron Armstrong       312          6  \n",
       "Aaron Avery           233          8  \n",
       "Aaron Avila           133          7  \n",
       "...                   ...        ...  \n",
       "Zoe Myers             133          7  \n",
       "Zoe Torres            411          6  \n",
       "Zoe Walker            411          6  \n",
       "Zoe Watson            311          5  \n",
       "Zoe Young             411          6  \n",
       "\n",
       "[39878 rows x 8 columns]"
      ]
     },
     "execution_count": 37,
     "metadata": {},
     "output_type": "execute_result"
    }
   ],
   "source": [
    "rfm"
   ]
  },
  {
   "cell_type": "code",
   "execution_count": 38,
   "id": "11d40f3e",
   "metadata": {},
   "outputs": [],
   "source": [
    "def segments(i):\n",
    "    if i >=10:\n",
    "        return \"Champions\"\n",
    "    elif i >= 7:\n",
    "        return 'Loyal Customers'\n",
    "    elif i >= 4:\n",
    "        return 'At Risk'\n",
    "    else:\n",
    "        return 'Lost'\n"
   ]
  },
  {
   "cell_type": "code",
   "execution_count": 39,
   "id": "05282276",
   "metadata": {},
   "outputs": [],
   "source": [
    "rfm[\"segment\"] = rfm[\"rfm_total\"].apply(segments)"
   ]
  },
  {
   "cell_type": "code",
   "execution_count": 40,
   "id": "873c2b50",
   "metadata": {},
   "outputs": [
    {
     "data": {
      "application/vnd.microsoft.datawrangler.viewer.v0+json": {
       "columns": [
        {
         "name": "Customer Name",
         "rawType": "object",
         "type": "string"
        },
        {
         "name": "r",
         "rawType": "datetime64[ns]",
         "type": "datetime"
        },
        {
         "name": "f",
         "rawType": "int64",
         "type": "integer"
        },
        {
         "name": "m",
         "rawType": "int64",
         "type": "integer"
        },
        {
         "name": "R_Score",
         "rawType": "category",
         "type": "unknown"
        },
        {
         "name": "F_Score",
         "rawType": "category",
         "type": "unknown"
        },
        {
         "name": "M_Score",
         "rawType": "category",
         "type": "unknown"
        },
        {
         "name": "rfm_score",
         "rawType": "object",
         "type": "string"
        },
        {
         "name": "rfm_total",
         "rawType": "int64",
         "type": "integer"
        },
        {
         "name": "segment",
         "rawType": "object",
         "type": "string"
        }
       ],
       "ref": "8f57db5f-a612-49b0-923a-6a4f961b2dba",
       "rows": [
        [
         "Aaron Alexander",
         "2023-01-08 20:32:57",
         "5",
         "752",
         "3",
         "2",
         "1",
         "321",
         "6",
         "At Risk"
        ],
        [
         "Aaron Archer",
         "2022-10-16 20:06:59",
         "4",
         "797",
         "3",
         "1",
         "1",
         "311",
         "5",
         "At Risk"
        ],
        [
         "Aaron Armstrong",
         "2023-02-17 07:43:56",
         "3",
         "918",
         "3",
         "1",
         "2",
         "312",
         "6",
         "At Risk"
        ],
        [
         "Aaron Avery",
         "2023-05-03 03:45:14",
         "6",
         "1866",
         "2",
         "3",
         "3",
         "233",
         "8",
         "Loyal Customers"
        ],
        [
         "Aaron Avila",
         "2023-08-28 18:51:46",
         "7",
         "1399",
         "1",
         "3",
         "3",
         "133",
         "7",
         "Loyal Customers"
        ],
        [
         "Aaron Ayala",
         "2023-02-02 00:59:28",
         "5",
         "920",
         "3",
         "2",
         "2",
         "322",
         "7",
         "Loyal Customers"
        ],
        [
         "Aaron Baker",
         "2023-03-31 13:48:39",
         "7",
         "1703",
         "3",
         "3",
         "3",
         "333",
         "9",
         "Loyal Customers"
        ],
        [
         "Aaron Bennett",
         "2023-09-01 11:41:53",
         "1",
         "299",
         "1",
         "1",
         "1",
         "111",
         "3",
         "Lost"
        ],
        [
         "Aaron Best",
         "2023-05-07 14:37:22",
         "5",
         "2138",
         "2",
         "2",
         "4",
         "224",
         "8",
         "Loyal Customers"
        ],
        [
         "Aaron Boone",
         "2023-09-11 08:02:34",
         "11",
         "3344",
         "1",
         "4",
         "4",
         "144",
         "9",
         "Loyal Customers"
        ],
        [
         "Aaron Boyer",
         "2023-05-06 16:25:45",
         "5",
         "963",
         "2",
         "2",
         "2",
         "222",
         "6",
         "At Risk"
        ],
        [
         "Aaron Bradley",
         "2023-05-10 06:43:09",
         "7",
         "1366",
         "2",
         "3",
         "3",
         "233",
         "8",
         "Loyal Customers"
        ],
        [
         "Aaron Brown",
         "2022-06-21 09:30:55",
         "10",
         "3068",
         "4",
         "4",
         "4",
         "444",
         "12",
         "Champions"
        ],
        [
         "Aaron Burns",
         "2023-07-15 18:48:29",
         "2",
         "213",
         "1",
         "1",
         "1",
         "111",
         "3",
         "Lost"
        ],
        [
         "Aaron Butler",
         "2022-03-09 09:20:42",
         "7",
         "2062",
         "4",
         "3",
         "4",
         "434",
         "11",
         "Champions"
        ],
        [
         "Aaron Calhoun",
         "2021-02-24 20:48:59",
         "7",
         "1790",
         "4",
         "3",
         "3",
         "433",
         "10",
         "Champions"
        ],
        [
         "Aaron Carroll",
         "2023-02-12 06:26:00",
         "2",
         "60",
         "3",
         "1",
         "1",
         "311",
         "5",
         "At Risk"
        ],
        [
         "Aaron Carson",
         "2023-08-23 06:30:17",
         "6",
         "1797",
         "1",
         "3",
         "3",
         "133",
         "7",
         "Loyal Customers"
        ],
        [
         "Aaron Castillo",
         "2022-12-11 11:00:56",
         "5",
         "1901",
         "3",
         "2",
         "3",
         "323",
         "8",
         "Loyal Customers"
        ],
        [
         "Aaron Chapman",
         "2023-09-02 09:29:48",
         "4",
         "1143",
         "1",
         "1",
         "2",
         "112",
         "4",
         "At Risk"
        ],
        [
         "Aaron Chavez",
         "2022-12-06 16:46:48",
         "8",
         "2116",
         "3",
         "4",
         "4",
         "344",
         "11",
         "Champions"
        ],
        [
         "Aaron Chung",
         "2023-03-24 11:07:42",
         "4",
         "951",
         "3",
         "1",
         "2",
         "312",
         "6",
         "At Risk"
        ],
        [
         "Aaron Clark",
         "2023-02-03 03:19:07",
         "4",
         "741",
         "3",
         "1",
         "1",
         "311",
         "5",
         "At Risk"
        ],
        [
         "Aaron Cole",
         "2023-07-21 12:46:26",
         "6",
         "1664",
         "1",
         "3",
         "3",
         "133",
         "7",
         "Loyal Customers"
        ],
        [
         "Aaron Cook",
         "2023-09-11 18:48:26",
         "6",
         "1633",
         "1",
         "3",
         "3",
         "133",
         "7",
         "Loyal Customers"
        ],
        [
         "Aaron Copeland",
         "2022-07-13 06:12:09",
         "2",
         "470",
         "4",
         "1",
         "1",
         "411",
         "6",
         "At Risk"
        ],
        [
         "Aaron Cross",
         "2023-04-14 16:27:38",
         "3",
         "1002",
         "2",
         "1",
         "2",
         "212",
         "5",
         "At Risk"
        ],
        [
         "Aaron Davenport",
         "2022-02-08 23:00:00",
         "3",
         "546",
         "4",
         "1",
         "1",
         "411",
         "6",
         "At Risk"
        ],
        [
         "Aaron David",
         "2023-08-03 17:18:58",
         "6",
         "1294",
         "1",
         "3",
         "2",
         "132",
         "6",
         "At Risk"
        ],
        [
         "Aaron Davis",
         "2022-04-24 15:09:01",
         "3",
         "263",
         "4",
         "1",
         "1",
         "411",
         "6",
         "At Risk"
        ],
        [
         "Aaron Day",
         "2022-06-24 09:21:35",
         "4",
         "927",
         "4",
         "1",
         "2",
         "412",
         "7",
         "Loyal Customers"
        ],
        [
         "Aaron Dean",
         "2023-04-29 04:14:14",
         "8",
         "2200",
         "2",
         "4",
         "4",
         "244",
         "10",
         "Champions"
        ],
        [
         "Aaron Deleon",
         "2022-12-09 18:03:21",
         "4",
         "1016",
         "3",
         "1",
         "2",
         "312",
         "6",
         "At Risk"
        ],
        [
         "Aaron Dunlap",
         "2023-03-24 06:02:08",
         "6",
         "1864",
         "3",
         "3",
         "3",
         "333",
         "9",
         "Loyal Customers"
        ],
        [
         "Aaron Ellis",
         "2023-03-16 22:48:41",
         "9",
         "2144",
         "3",
         "4",
         "4",
         "344",
         "11",
         "Champions"
        ],
        [
         "Aaron Evans",
         "2023-03-31 21:06:36",
         "7",
         "1573",
         "3",
         "3",
         "3",
         "333",
         "9",
         "Loyal Customers"
        ],
        [
         "Aaron Ferguson",
         "2022-06-10 11:03:36",
         "3",
         "564",
         "4",
         "1",
         "1",
         "411",
         "6",
         "At Risk"
        ],
        [
         "Aaron Fernandez",
         "2023-05-16 05:54:08",
         "10",
         "1775",
         "2",
         "4",
         "3",
         "243",
         "9",
         "Loyal Customers"
        ],
        [
         "Aaron Flores",
         "2022-12-13 07:00:35",
         "7",
         "1486",
         "3",
         "3",
         "3",
         "333",
         "9",
         "Loyal Customers"
        ],
        [
         "Aaron Ford",
         "2023-07-19 13:48:15",
         "8",
         "2267",
         "1",
         "4",
         "4",
         "144",
         "9",
         "Loyal Customers"
        ],
        [
         "Aaron Fuller",
         "2023-05-01 07:46:47",
         "7",
         "1818",
         "2",
         "3",
         "3",
         "233",
         "8",
         "Loyal Customers"
        ],
        [
         "Aaron Gaines",
         "2022-06-06 20:29:39",
         "1",
         "394",
         "4",
         "1",
         "1",
         "411",
         "6",
         "At Risk"
        ],
        [
         "Aaron Garcia",
         "2023-07-11 08:29:52",
         "12",
         "2462",
         "1",
         "4",
         "4",
         "144",
         "9",
         "Loyal Customers"
        ],
        [
         "Aaron Gates",
         "2023-06-24 11:50:43",
         "11",
         "3564",
         "2",
         "4",
         "4",
         "244",
         "10",
         "Champions"
        ],
        [
         "Aaron Gentry",
         "2022-09-26 05:26:30",
         "4",
         "1152",
         "4",
         "1",
         "2",
         "412",
         "7",
         "Loyal Customers"
        ],
        [
         "Aaron George",
         "2022-12-19 20:21:48",
         "9",
         "2805",
         "3",
         "4",
         "4",
         "344",
         "11",
         "Champions"
        ],
        [
         "Aaron Good",
         "2023-06-05 20:32:30",
         "3",
         "838",
         "2",
         "1",
         "1",
         "211",
         "4",
         "At Risk"
        ],
        [
         "Aaron Gray",
         "2022-10-21 13:42:00",
         "6",
         "1522",
         "3",
         "3",
         "3",
         "333",
         "9",
         "Loyal Customers"
        ],
        [
         "Aaron Green",
         "2023-05-17 07:33:49",
         "4",
         "1125",
         "2",
         "1",
         "2",
         "212",
         "5",
         "At Risk"
        ],
        [
         "Aaron Griffith",
         "2022-10-26 19:11:06",
         "10",
         "3528",
         "3",
         "4",
         "4",
         "344",
         "11",
         "Champions"
        ]
       ],
       "shape": {
        "columns": 9,
        "rows": 39878
       }
      },
      "text/html": [
       "<div>\n",
       "<style scoped>\n",
       "    .dataframe tbody tr th:only-of-type {\n",
       "        vertical-align: middle;\n",
       "    }\n",
       "\n",
       "    .dataframe tbody tr th {\n",
       "        vertical-align: top;\n",
       "    }\n",
       "\n",
       "    .dataframe thead th {\n",
       "        text-align: right;\n",
       "    }\n",
       "</style>\n",
       "<table border=\"1\" class=\"dataframe\">\n",
       "  <thead>\n",
       "    <tr style=\"text-align: right;\">\n",
       "      <th></th>\n",
       "      <th>r</th>\n",
       "      <th>f</th>\n",
       "      <th>m</th>\n",
       "      <th>R_Score</th>\n",
       "      <th>F_Score</th>\n",
       "      <th>M_Score</th>\n",
       "      <th>rfm_score</th>\n",
       "      <th>rfm_total</th>\n",
       "      <th>segment</th>\n",
       "    </tr>\n",
       "    <tr>\n",
       "      <th>Customer Name</th>\n",
       "      <th></th>\n",
       "      <th></th>\n",
       "      <th></th>\n",
       "      <th></th>\n",
       "      <th></th>\n",
       "      <th></th>\n",
       "      <th></th>\n",
       "      <th></th>\n",
       "      <th></th>\n",
       "    </tr>\n",
       "  </thead>\n",
       "  <tbody>\n",
       "    <tr>\n",
       "      <th>Aaron Alexander</th>\n",
       "      <td>2023-01-08 20:32:57</td>\n",
       "      <td>5</td>\n",
       "      <td>752</td>\n",
       "      <td>3</td>\n",
       "      <td>2</td>\n",
       "      <td>1</td>\n",
       "      <td>321</td>\n",
       "      <td>6</td>\n",
       "      <td>At Risk</td>\n",
       "    </tr>\n",
       "    <tr>\n",
       "      <th>Aaron Archer</th>\n",
       "      <td>2022-10-16 20:06:59</td>\n",
       "      <td>4</td>\n",
       "      <td>797</td>\n",
       "      <td>3</td>\n",
       "      <td>1</td>\n",
       "      <td>1</td>\n",
       "      <td>311</td>\n",
       "      <td>5</td>\n",
       "      <td>At Risk</td>\n",
       "    </tr>\n",
       "    <tr>\n",
       "      <th>Aaron Armstrong</th>\n",
       "      <td>2023-02-17 07:43:56</td>\n",
       "      <td>3</td>\n",
       "      <td>918</td>\n",
       "      <td>3</td>\n",
       "      <td>1</td>\n",
       "      <td>2</td>\n",
       "      <td>312</td>\n",
       "      <td>6</td>\n",
       "      <td>At Risk</td>\n",
       "    </tr>\n",
       "    <tr>\n",
       "      <th>Aaron Avery</th>\n",
       "      <td>2023-05-03 03:45:14</td>\n",
       "      <td>6</td>\n",
       "      <td>1866</td>\n",
       "      <td>2</td>\n",
       "      <td>3</td>\n",
       "      <td>3</td>\n",
       "      <td>233</td>\n",
       "      <td>8</td>\n",
       "      <td>Loyal Customers</td>\n",
       "    </tr>\n",
       "    <tr>\n",
       "      <th>Aaron Avila</th>\n",
       "      <td>2023-08-28 18:51:46</td>\n",
       "      <td>7</td>\n",
       "      <td>1399</td>\n",
       "      <td>1</td>\n",
       "      <td>3</td>\n",
       "      <td>3</td>\n",
       "      <td>133</td>\n",
       "      <td>7</td>\n",
       "      <td>Loyal Customers</td>\n",
       "    </tr>\n",
       "    <tr>\n",
       "      <th>...</th>\n",
       "      <td>...</td>\n",
       "      <td>...</td>\n",
       "      <td>...</td>\n",
       "      <td>...</td>\n",
       "      <td>...</td>\n",
       "      <td>...</td>\n",
       "      <td>...</td>\n",
       "      <td>...</td>\n",
       "      <td>...</td>\n",
       "    </tr>\n",
       "    <tr>\n",
       "      <th>Zoe Myers</th>\n",
       "      <td>2023-08-02 05:16:20</td>\n",
       "      <td>6</td>\n",
       "      <td>1802</td>\n",
       "      <td>1</td>\n",
       "      <td>3</td>\n",
       "      <td>3</td>\n",
       "      <td>133</td>\n",
       "      <td>7</td>\n",
       "      <td>Loyal Customers</td>\n",
       "    </tr>\n",
       "    <tr>\n",
       "      <th>Zoe Torres</th>\n",
       "      <td>2021-04-22 05:55:27</td>\n",
       "      <td>1</td>\n",
       "      <td>156</td>\n",
       "      <td>4</td>\n",
       "      <td>1</td>\n",
       "      <td>1</td>\n",
       "      <td>411</td>\n",
       "      <td>6</td>\n",
       "      <td>At Risk</td>\n",
       "    </tr>\n",
       "    <tr>\n",
       "      <th>Zoe Walker</th>\n",
       "      <td>2021-11-14 20:27:43</td>\n",
       "      <td>2</td>\n",
       "      <td>644</td>\n",
       "      <td>4</td>\n",
       "      <td>1</td>\n",
       "      <td>1</td>\n",
       "      <td>411</td>\n",
       "      <td>6</td>\n",
       "      <td>At Risk</td>\n",
       "    </tr>\n",
       "    <tr>\n",
       "      <th>Zoe Watson</th>\n",
       "      <td>2022-10-30 22:51:39</td>\n",
       "      <td>2</td>\n",
       "      <td>442</td>\n",
       "      <td>3</td>\n",
       "      <td>1</td>\n",
       "      <td>1</td>\n",
       "      <td>311</td>\n",
       "      <td>5</td>\n",
       "      <td>At Risk</td>\n",
       "    </tr>\n",
       "    <tr>\n",
       "      <th>Zoe Young</th>\n",
       "      <td>2020-12-25 04:33:36</td>\n",
       "      <td>1</td>\n",
       "      <td>156</td>\n",
       "      <td>4</td>\n",
       "      <td>1</td>\n",
       "      <td>1</td>\n",
       "      <td>411</td>\n",
       "      <td>6</td>\n",
       "      <td>At Risk</td>\n",
       "    </tr>\n",
       "  </tbody>\n",
       "</table>\n",
       "<p>39878 rows × 9 columns</p>\n",
       "</div>"
      ],
      "text/plain": [
       "                                  r  f     m R_Score F_Score M_Score  \\\n",
       "Customer Name                                                          \n",
       "Aaron Alexander 2023-01-08 20:32:57  5   752       3       2       1   \n",
       "Aaron Archer    2022-10-16 20:06:59  4   797       3       1       1   \n",
       "Aaron Armstrong 2023-02-17 07:43:56  3   918       3       1       2   \n",
       "Aaron Avery     2023-05-03 03:45:14  6  1866       2       3       3   \n",
       "Aaron Avila     2023-08-28 18:51:46  7  1399       1       3       3   \n",
       "...                             ... ..   ...     ...     ...     ...   \n",
       "Zoe Myers       2023-08-02 05:16:20  6  1802       1       3       3   \n",
       "Zoe Torres      2021-04-22 05:55:27  1   156       4       1       1   \n",
       "Zoe Walker      2021-11-14 20:27:43  2   644       4       1       1   \n",
       "Zoe Watson      2022-10-30 22:51:39  2   442       3       1       1   \n",
       "Zoe Young       2020-12-25 04:33:36  1   156       4       1       1   \n",
       "\n",
       "                rfm_score  rfm_total          segment  \n",
       "Customer Name                                          \n",
       "Aaron Alexander       321          6          At Risk  \n",
       "Aaron Archer          311          5          At Risk  \n",
       "Aaron Armstrong       312          6          At Risk  \n",
       "Aaron Avery           233          8  Loyal Customers  \n",
       "Aaron Avila           133          7  Loyal Customers  \n",
       "...                   ...        ...              ...  \n",
       "Zoe Myers             133          7  Loyal Customers  \n",
       "Zoe Torres            411          6          At Risk  \n",
       "Zoe Walker            411          6          At Risk  \n",
       "Zoe Watson            311          5          At Risk  \n",
       "Zoe Young             411          6          At Risk  \n",
       "\n",
       "[39878 rows x 9 columns]"
      ]
     },
     "execution_count": 40,
     "metadata": {},
     "output_type": "execute_result"
    }
   ],
   "source": [
    "rfm"
   ]
  },
  {
   "cell_type": "code",
   "execution_count": 41,
   "id": "b8e2a921",
   "metadata": {},
   "outputs": [
    {
     "data": {
      "text/plain": [
       "Text(0.5, 0, 'Customer Segment')"
      ]
     },
     "execution_count": 41,
     "metadata": {},
     "output_type": "execute_result"
    },
    {
     "data": {
      "image/png": "[encoded data removed]",
      "text/plain": [
       "<Figure size 1000x600 with 1 Axes>"
      ]
     },
     "metadata": {},
     "output_type": "display_data"
    }
   ],
   "source": [
    "sns.countplot(data=rfm, x=\"segment\", color=\"skyblue\")\n",
    "plt.title(\"Customer Segments Distribution\")\n",
    "plt.ylabel(\"Number of Customers\")\n",
    "plt.xlabel(\"Customer Segment\")"
   ]
  },
  {
   "cell_type": "code",
   "execution_count": 42,
   "id": "4b51b07a",
   "metadata": {},
   "outputs": [
    {
     "data": {
      "text/plain": [
       "39878"
      ]
     },
     "execution_count": 42,
     "metadata": {},
     "output_type": "execute_result"
    }
   ],
   "source": [
    "rfm.shape[0]"
   ]
  },
  {
   "cell_type": "code",
   "execution_count": 43,
   "id": "9d431d11",
   "metadata": {},
   "outputs": [
    {
     "data": {
      "application/vnd.microsoft.datawrangler.viewer.v0+json": {
       "columns": [
        {
         "name": "index",
         "rawType": "object",
         "type": "string"
        },
        {
         "name": "0",
         "rawType": "float64",
         "type": "float"
        }
       ],
       "ref": "d6e3603b-1fd7-4dbc-ba67-e5d53015f110",
       "rows": [
        [
         "r",
         "43.74090977481318"
        ],
        [
         "f",
         "43.74090977481318"
        ],
        [
         "m",
         "43.74090977481318"
        ],
        [
         "R_Score",
         "43.74090977481318"
        ],
        [
         "F_Score",
         "43.74090977481318"
        ],
        [
         "M_Score",
         "43.74090977481318"
        ],
        [
         "rfm_score",
         "43.74090977481318"
        ],
        [
         "rfm_total",
         "43.74090977481318"
        ],
        [
         "segment",
         "43.74090977481318"
        ]
       ],
       "shape": {
        "columns": 1,
        "rows": 9
       }
      },
      "text/plain": [
       "r            43.74091\n",
       "f            43.74091\n",
       "m            43.74091\n",
       "R_Score      43.74091\n",
       "F_Score      43.74091\n",
       "M_Score      43.74091\n",
       "rfm_score    43.74091\n",
       "rfm_total    43.74091\n",
       "segment      43.74091\n",
       "dtype: float64"
      ]
     },
     "execution_count": 43,
     "metadata": {},
     "output_type": "execute_result"
    }
   ],
   "source": [
    "rfm[rfm[\"segment\"]==\"Loyal Customers\"].count()/ rfm.shape[0] * 100"
   ]
  },
  {
   "cell_type": "markdown",
   "id": "17529efd",
   "metadata": {},
   "source": [
    "## 7. Cohort Analysis"
   ]
  },
  {
   "cell_type": "code",
   "execution_count": 44,
   "id": "deb89b86",
   "metadata": {},
   "outputs": [
    {
     "data": {
      "text/plain": [
       "Index(['Purchase Date', 'Product Category', 'Product Price', 'Quantity',\n",
       "       'Total Purchase Amount', 'Payment Method', 'Customer Age', 'Returns',\n",
       "       'Customer Name', 'Gender', 'Churn', 'Year', 'Month',\n",
       "       'Synthetic Order ID'],\n",
       "      dtype='object')"
      ]
     },
     "execution_count": 44,
     "metadata": {},
     "output_type": "execute_result"
    }
   ],
   "source": [
    "df.columns"
   ]
  },
  {
   "cell_type": "code",
   "execution_count": 45,
   "id": "69eccc8f",
   "metadata": {},
   "outputs": [
    {
     "data": {
      "application/vnd.microsoft.datawrangler.viewer.v0+json": {
       "columns": [
        {
         "name": "Customer Name",
         "rawType": "object",
         "type": "string"
        },
        {
         "name": "r",
         "rawType": "datetime64[ns]",
         "type": "datetime"
        },
        {
         "name": "f",
         "rawType": "int64",
         "type": "integer"
        },
        {
         "name": "m",
         "rawType": "int64",
         "type": "integer"
        },
        {
         "name": "R_Score",
         "rawType": "category",
         "type": "unknown"
        },
        {
         "name": "F_Score",
         "rawType": "category",
         "type": "unknown"
        },
        {
         "name": "M_Score",
         "rawType": "category",
         "type": "unknown"
        },
        {
         "name": "rfm_score",
         "rawType": "object",
         "type": "string"
        },
        {
         "name": "rfm_total",
         "rawType": "int64",
         "type": "integer"
        },
        {
         "name": "segment",
         "rawType": "object",
         "type": "string"
        }
       ],
       "ref": "498a3f6a-7e44-4c8c-9e6b-fe5a2c129e38",
       "rows": [
        [
         "Aaron Alexander",
         "2023-01-08 20:32:57",
         "5",
         "752",
         "3",
         "2",
         "1",
         "321",
         "6",
         "At Risk"
        ],
        [
         "Aaron Archer",
         "2022-10-16 20:06:59",
         "4",
         "797",
         "3",
         "1",
         "1",
         "311",
         "5",
         "At Risk"
        ],
        [
         "Aaron Armstrong",
         "2023-02-17 07:43:56",
         "3",
         "918",
         "3",
         "1",
         "2",
         "312",
         "6",
         "At Risk"
        ],
        [
         "Aaron Avery",
         "2023-05-03 03:45:14",
         "6",
         "1866",
         "2",
         "3",
         "3",
         "233",
         "8",
         "Loyal Customers"
        ],
        [
         "Aaron Avila",
         "2023-08-28 18:51:46",
         "7",
         "1399",
         "1",
         "3",
         "3",
         "133",
         "7",
         "Loyal Customers"
        ],
        [
         "Aaron Ayala",
         "2023-02-02 00:59:28",
         "5",
         "920",
         "3",
         "2",
         "2",
         "322",
         "7",
         "Loyal Customers"
        ],
        [
         "Aaron Baker",
         "2023-03-31 13:48:39",
         "7",
         "1703",
         "3",
         "3",
         "3",
         "333",
         "9",
         "Loyal Customers"
        ],
        [
         "Aaron Bennett",
         "2023-09-01 11:41:53",
         "1",
         "299",
         "1",
         "1",
         "1",
         "111",
         "3",
         "Lost"
        ],
        [
         "Aaron Best",
         "2023-05-07 14:37:22",
         "5",
         "2138",
         "2",
         "2",
         "4",
         "224",
         "8",
         "Loyal Customers"
        ],
        [
         "Aaron Boone",
         "2023-09-11 08:02:34",
         "11",
         "3344",
         "1",
         "4",
         "4",
         "144",
         "9",
         "Loyal Customers"
        ],
        [
         "Aaron Boyer",
         "2023-05-06 16:25:45",
         "5",
         "963",
         "2",
         "2",
         "2",
         "222",
         "6",
         "At Risk"
        ],
        [
         "Aaron Bradley",
         "2023-05-10 06:43:09",
         "7",
         "1366",
         "2",
         "3",
         "3",
         "233",
         "8",
         "Loyal Customers"
        ],
        [
         "Aaron Brown",
         "2022-06-21 09:30:55",
         "10",
         "3068",
         "4",
         "4",
         "4",
         "444",
         "12",
         "Champions"
        ],
        [
         "Aaron Burns",
         "2023-07-15 18:48:29",
         "2",
         "213",
         "1",
         "1",
         "1",
         "111",
         "3",
         "Lost"
        ],
        [
         "Aaron Butler",
         "2022-03-09 09:20:42",
         "7",
         "2062",
         "4",
         "3",
         "4",
         "434",
         "11",
         "Champions"
        ],
        [
         "Aaron Calhoun",
         "2021-02-24 20:48:59",
         "7",
         "1790",
         "4",
         "3",
         "3",
         "433",
         "10",
         "Champions"
        ],
        [
         "Aaron Carroll",
         "2023-02-12 06:26:00",
         "2",
         "60",
         "3",
         "1",
         "1",
         "311",
         "5",
         "At Risk"
        ],
        [
         "Aaron Carson",
         "2023-08-23 06:30:17",
         "6",
         "1797",
         "1",
         "3",
         "3",
         "133",
         "7",
         "Loyal Customers"
        ],
        [
         "Aaron Castillo",
         "2022-12-11 11:00:56",
         "5",
         "1901",
         "3",
         "2",
         "3",
         "323",
         "8",
         "Loyal Customers"
        ],
        [
         "Aaron Chapman",
         "2023-09-02 09:29:48",
         "4",
         "1143",
         "1",
         "1",
         "2",
         "112",
         "4",
         "At Risk"
        ],
        [
         "Aaron Chavez",
         "2022-12-06 16:46:48",
         "8",
         "2116",
         "3",
         "4",
         "4",
         "344",
         "11",
         "Champions"
        ],
        [
         "Aaron Chung",
         "2023-03-24 11:07:42",
         "4",
         "951",
         "3",
         "1",
         "2",
         "312",
         "6",
         "At Risk"
        ],
        [
         "Aaron Clark",
         "2023-02-03 03:19:07",
         "4",
         "741",
         "3",
         "1",
         "1",
         "311",
         "5",
         "At Risk"
        ],
        [
         "Aaron Cole",
         "2023-07-21 12:46:26",
         "6",
         "1664",
         "1",
         "3",
         "3",
         "133",
         "7",
         "Loyal Customers"
        ],
        [
         "Aaron Cook",
         "2023-09-11 18:48:26",
         "6",
         "1633",
         "1",
         "3",
         "3",
         "133",
         "7",
         "Loyal Customers"
        ],
        [
         "Aaron Copeland",
         "2022-07-13 06:12:09",
         "2",
         "470",
         "4",
         "1",
         "1",
         "411",
         "6",
         "At Risk"
        ],
        [
         "Aaron Cross",
         "2023-04-14 16:27:38",
         "3",
         "1002",
         "2",
         "1",
         "2",
         "212",
         "5",
         "At Risk"
        ],
        [
         "Aaron Davenport",
         "2022-02-08 23:00:00",
         "3",
         "546",
         "4",
         "1",
         "1",
         "411",
         "6",
         "At Risk"
        ],
        [
         "Aaron David",
         "2023-08-03 17:18:58",
         "6",
         "1294",
         "1",
         "3",
         "2",
         "132",
         "6",
         "At Risk"
        ],
        [
         "Aaron Davis",
         "2022-04-24 15:09:01",
         "3",
         "263",
         "4",
         "1",
         "1",
         "411",
         "6",
         "At Risk"
        ],
        [
         "Aaron Day",
         "2022-06-24 09:21:35",
         "4",
         "927",
         "4",
         "1",
         "2",
         "412",
         "7",
         "Loyal Customers"
        ],
        [
         "Aaron Dean",
         "2023-04-29 04:14:14",
         "8",
         "2200",
         "2",
         "4",
         "4",
         "244",
         "10",
         "Champions"
        ],
        [
         "Aaron Deleon",
         "2022-12-09 18:03:21",
         "4",
         "1016",
         "3",
         "1",
         "2",
         "312",
         "6",
         "At Risk"
        ],
        [
         "Aaron Dunlap",
         "2023-03-24 06:02:08",
         "6",
         "1864",
         "3",
         "3",
         "3",
         "333",
         "9",
         "Loyal Customers"
        ],
        [
         "Aaron Ellis",
         "2023-03-16 22:48:41",
         "9",
         "2144",
         "3",
         "4",
         "4",
         "344",
         "11",
         "Champions"
        ],
        [
         "Aaron Evans",
         "2023-03-31 21:06:36",
         "7",
         "1573",
         "3",
         "3",
         "3",
         "333",
         "9",
         "Loyal Customers"
        ],
        [
         "Aaron Ferguson",
         "2022-06-10 11:03:36",
         "3",
         "564",
         "4",
         "1",
         "1",
         "411",
         "6",
         "At Risk"
        ],
        [
         "Aaron Fernandez",
         "2023-05-16 05:54:08",
         "10",
         "1775",
         "2",
         "4",
         "3",
         "243",
         "9",
         "Loyal Customers"
        ],
        [
         "Aaron Flores",
         "2022-12-13 07:00:35",
         "7",
         "1486",
         "3",
         "3",
         "3",
         "333",
         "9",
         "Loyal Customers"
        ],
        [
         "Aaron Ford",
         "2023-07-19 13:48:15",
         "8",
         "2267",
         "1",
         "4",
         "4",
         "144",
         "9",
         "Loyal Customers"
        ],
        [
         "Aaron Fuller",
         "2023-05-01 07:46:47",
         "7",
         "1818",
         "2",
         "3",
         "3",
         "233",
         "8",
         "Loyal Customers"
        ],
        [
         "Aaron Gaines",
         "2022-06-06 20:29:39",
         "1",
         "394",
         "4",
         "1",
         "1",
         "411",
         "6",
         "At Risk"
        ],
        [
         "Aaron Garcia",
         "2023-07-11 08:29:52",
         "12",
         "2462",
         "1",
         "4",
         "4",
         "144",
         "9",
         "Loyal Customers"
        ],
        [
         "Aaron Gates",
         "2023-06-24 11:50:43",
         "11",
         "3564",
         "2",
         "4",
         "4",
         "244",
         "10",
         "Champions"
        ],
        [
         "Aaron Gentry",
         "2022-09-26 05:26:30",
         "4",
         "1152",
         "4",
         "1",
         "2",
         "412",
         "7",
         "Loyal Customers"
        ],
        [
         "Aaron George",
         "2022-12-19 20:21:48",
         "9",
         "2805",
         "3",
         "4",
         "4",
         "344",
         "11",
         "Champions"
        ],
        [
         "Aaron Good",
         "2023-06-05 20:32:30",
         "3",
         "838",
         "2",
         "1",
         "1",
         "211",
         "4",
         "At Risk"
        ],
        [
         "Aaron Gray",
         "2022-10-21 13:42:00",
         "6",
         "1522",
         "3",
         "3",
         "3",
         "333",
         "9",
         "Loyal Customers"
        ],
        [
         "Aaron Green",
         "2023-05-17 07:33:49",
         "4",
         "1125",
         "2",
         "1",
         "2",
         "212",
         "5",
         "At Risk"
        ],
        [
         "Aaron Griffith",
         "2022-10-26 19:11:06",
         "10",
         "3528",
         "3",
         "4",
         "4",
         "344",
         "11",
         "Champions"
        ]
       ],
       "shape": {
        "columns": 9,
        "rows": 39878
       }
      },
      "text/html": [
       "<div>\n",
       "<style scoped>\n",
       "    .dataframe tbody tr th:only-of-type {\n",
       "        vertical-align: middle;\n",
       "    }\n",
       "\n",
       "    .dataframe tbody tr th {\n",
       "        vertical-align: top;\n",
       "    }\n",
       "\n",
       "    .dataframe thead th {\n",
       "        text-align: right;\n",
       "    }\n",
       "</style>\n",
       "<table border=\"1\" class=\"dataframe\">\n",
       "  <thead>\n",
       "    <tr style=\"text-align: right;\">\n",
       "      <th></th>\n",
       "      <th>r</th>\n",
       "      <th>f</th>\n",
       "      <th>m</th>\n",
       "      <th>R_Score</th>\n",
       "      <th>F_Score</th>\n",
       "      <th>M_Score</th>\n",
       "      <th>rfm_score</th>\n",
       "      <th>rfm_total</th>\n",
       "      <th>segment</th>\n",
       "    </tr>\n",
       "    <tr>\n",
       "      <th>Customer Name</th>\n",
       "      <th></th>\n",
       "      <th></th>\n",
       "      <th></th>\n",
       "      <th></th>\n",
       "      <th></th>\n",
       "      <th></th>\n",
       "      <th></th>\n",
       "      <th></th>\n",
       "      <th></th>\n",
       "    </tr>\n",
       "  </thead>\n",
       "  <tbody>\n",
       "    <tr>\n",
       "      <th>Aaron Alexander</th>\n",
       "      <td>2023-01-08 20:32:57</td>\n",
       "      <td>5</td>\n",
       "      <td>752</td>\n",
       "      <td>3</td>\n",
       "      <td>2</td>\n",
       "      <td>1</td>\n",
       "      <td>321</td>\n",
       "      <td>6</td>\n",
       "      <td>At Risk</td>\n",
       "    </tr>\n",
       "    <tr>\n",
       "      <th>Aaron Archer</th>\n",
       "      <td>2022-10-16 20:06:59</td>\n",
       "      <td>4</td>\n",
       "      <td>797</td>\n",
       "      <td>3</td>\n",
       "      <td>1</td>\n",
       "      <td>1</td>\n",
       "      <td>311</td>\n",
       "      <td>5</td>\n",
       "      <td>At Risk</td>\n",
       "    </tr>\n",
       "    <tr>\n",
       "      <th>Aaron Armstrong</th>\n",
       "      <td>2023-02-17 07:43:56</td>\n",
       "      <td>3</td>\n",
       "      <td>918</td>\n",
       "      <td>3</td>\n",
       "      <td>1</td>\n",
       "      <td>2</td>\n",
       "      <td>312</td>\n",
       "      <td>6</td>\n",
       "      <td>At Risk</td>\n",
       "    </tr>\n",
       "    <tr>\n",
       "      <th>Aaron Avery</th>\n",
       "      <td>2023-05-03 03:45:14</td>\n",
       "      <td>6</td>\n",
       "      <td>1866</td>\n",
       "      <td>2</td>\n",
       "      <td>3</td>\n",
       "      <td>3</td>\n",
       "      <td>233</td>\n",
       "      <td>8</td>\n",
       "      <td>Loyal Customers</td>\n",
       "    </tr>\n",
       "    <tr>\n",
       "      <th>Aaron Avila</th>\n",
       "      <td>2023-08-28 18:51:46</td>\n",
       "      <td>7</td>\n",
       "      <td>1399</td>\n",
       "      <td>1</td>\n",
       "      <td>3</td>\n",
       "      <td>3</td>\n",
       "      <td>133</td>\n",
       "      <td>7</td>\n",
       "      <td>Loyal Customers</td>\n",
       "    </tr>\n",
       "    <tr>\n",
       "      <th>...</th>\n",
       "      <td>...</td>\n",
       "      <td>...</td>\n",
       "      <td>...</td>\n",
       "      <td>...</td>\n",
       "      <td>...</td>\n",
       "      <td>...</td>\n",
       "      <td>...</td>\n",
       "      <td>...</td>\n",
       "      <td>...</td>\n",
       "    </tr>\n",
       "    <tr>\n",
       "      <th>Zoe Myers</th>\n",
       "      <td>2023-08-02 05:16:20</td>\n",
       "      <td>6</td>\n",
       "      <td>1802</td>\n",
       "      <td>1</td>\n",
       "      <td>3</td>\n",
       "      <td>3</td>\n",
       "      <td>133</td>\n",
       "      <td>7</td>\n",
       "      <td>Loyal Customers</td>\n",
       "    </tr>\n",
       "    <tr>\n",
       "      <th>Zoe Torres</th>\n",
       "      <td>2021-04-22 05:55:27</td>\n",
       "      <td>1</td>\n",
       "      <td>156</td>\n",
       "      <td>4</td>\n",
       "      <td>1</td>\n",
       "      <td>1</td>\n",
       "      <td>411</td>\n",
       "      <td>6</td>\n",
       "      <td>At Risk</td>\n",
       "    </tr>\n",
       "    <tr>\n",
       "      <th>Zoe Walker</th>\n",
       "      <td>2021-11-14 20:27:43</td>\n",
       "      <td>2</td>\n",
       "      <td>644</td>\n",
       "      <td>4</td>\n",
       "      <td>1</td>\n",
       "      <td>1</td>\n",
       "      <td>411</td>\n",
       "      <td>6</td>\n",
       "      <td>At Risk</td>\n",
       "    </tr>\n",
       "    <tr>\n",
       "      <th>Zoe Watson</th>\n",
       "      <td>2022-10-30 22:51:39</td>\n",
       "      <td>2</td>\n",
       "      <td>442</td>\n",
       "      <td>3</td>\n",
       "      <td>1</td>\n",
       "      <td>1</td>\n",
       "      <td>311</td>\n",
       "      <td>5</td>\n",
       "      <td>At Risk</td>\n",
       "    </tr>\n",
       "    <tr>\n",
       "      <th>Zoe Young</th>\n",
       "      <td>2020-12-25 04:33:36</td>\n",
       "      <td>1</td>\n",
       "      <td>156</td>\n",
       "      <td>4</td>\n",
       "      <td>1</td>\n",
       "      <td>1</td>\n",
       "      <td>411</td>\n",
       "      <td>6</td>\n",
       "      <td>At Risk</td>\n",
       "    </tr>\n",
       "  </tbody>\n",
       "</table>\n",
       "<p>39878 rows × 9 columns</p>\n",
       "</div>"
      ],
      "text/plain": [
       "                                  r  f     m R_Score F_Score M_Score  \\\n",
       "Customer Name                                                          \n",
       "Aaron Alexander 2023-01-08 20:32:57  5   752       3       2       1   \n",
       "Aaron Archer    2022-10-16 20:06:59  4   797       3       1       1   \n",
       "Aaron Armstrong 2023-02-17 07:43:56  3   918       3       1       2   \n",
       "Aaron Avery     2023-05-03 03:45:14  6  1866       2       3       3   \n",
       "Aaron Avila     2023-08-28 18:51:46  7  1399       1       3       3   \n",
       "...                             ... ..   ...     ...     ...     ...   \n",
       "Zoe Myers       2023-08-02 05:16:20  6  1802       1       3       3   \n",
       "Zoe Torres      2021-04-22 05:55:27  1   156       4       1       1   \n",
       "Zoe Walker      2021-11-14 20:27:43  2   644       4       1       1   \n",
       "Zoe Watson      2022-10-30 22:51:39  2   442       3       1       1   \n",
       "Zoe Young       2020-12-25 04:33:36  1   156       4       1       1   \n",
       "\n",
       "                rfm_score  rfm_total          segment  \n",
       "Customer Name                                          \n",
       "Aaron Alexander       321          6          At Risk  \n",
       "Aaron Archer          311          5          At Risk  \n",
       "Aaron Armstrong       312          6          At Risk  \n",
       "Aaron Avery           233          8  Loyal Customers  \n",
       "Aaron Avila           133          7  Loyal Customers  \n",
       "...                   ...        ...              ...  \n",
       "Zoe Myers             133          7  Loyal Customers  \n",
       "Zoe Torres            411          6          At Risk  \n",
       "Zoe Walker            411          6          At Risk  \n",
       "Zoe Watson            311          5          At Risk  \n",
       "Zoe Young             411          6          At Risk  \n",
       "\n",
       "[39878 rows x 9 columns]"
      ]
     },
     "execution_count": 45,
     "metadata": {},
     "output_type": "execute_result"
    }
   ],
   "source": [
    "rfm"
   ]
  },
  {
   "cell_type": "code",
   "execution_count": 46,
   "id": "7fe09963",
   "metadata": {},
   "outputs": [
    {
     "data": {
      "application/vnd.microsoft.datawrangler.viewer.v0+json": {
       "columns": [
        {
         "name": "index",
         "rawType": "int64",
         "type": "integer"
        },
        {
         "name": "Purchase Date",
         "rawType": "datetime64[ns]",
         "type": "datetime"
        },
        {
         "name": "Product Category",
         "rawType": "object",
         "type": "string"
        },
        {
         "name": "Product Price",
         "rawType": "int64",
         "type": "integer"
        },
        {
         "name": "Quantity",
         "rawType": "int64",
         "type": "integer"
        },
        {
         "name": "Total Purchase Amount",
         "rawType": "int64",
         "type": "integer"
        },
        {
         "name": "Payment Method",
         "rawType": "object",
         "type": "string"
        },
        {
         "name": "Customer Age",
         "rawType": "int64",
         "type": "integer"
        },
        {
         "name": "Returns",
         "rawType": "int32",
         "type": "integer"
        },
        {
         "name": "Customer Name",
         "rawType": "object",
         "type": "string"
        },
        {
         "name": "Gender",
         "rawType": "object",
         "type": "string"
        },
        {
         "name": "Churn",
         "rawType": "int32",
         "type": "integer"
        },
        {
         "name": "Year",
         "rawType": "datetime64[ns]",
         "type": "datetime"
        },
        {
         "name": "Month",
         "rawType": "int32",
         "type": "integer"
        },
        {
         "name": "Synthetic Order ID",
         "rawType": "object",
         "type": "string"
        }
       ],
       "ref": "a664383d-f590-4279-b5a8-c2267062442d",
       "rows": [
        [
         "0",
         "2023-05-03 21:30:02",
         "Home",
         "177",
         "1",
         "2427",
         "PayPal",
         "31",
         "1",
         "John Rivera",
         "Female",
         "0",
         "2023-01-01 00:00:00",
         "5",
         "John Rivera_2023-05-03 21:30:02"
        ],
        [
         "1",
         "2021-05-16 13:57:44",
         "Electronics",
         "174",
         "3",
         "2448",
         "PayPal",
         "31",
         "1",
         "John Rivera",
         "Female",
         "0",
         "2021-01-01 00:00:00",
         "5",
         "John Rivera_2021-05-16 13:57:44"
        ],
        [
         "2",
         "2020-07-13 06:16:57",
         "Books",
         "413",
         "1",
         "2345",
         "Credit Card",
         "31",
         "1",
         "John Rivera",
         "Female",
         "0",
         "2020-01-01 00:00:00",
         "7",
         "John Rivera_2020-07-13 06:16:57"
        ],
        [
         "3",
         "2023-01-17 13:14:36",
         "Electronics",
         "396",
         "3",
         "937",
         "Cash",
         "31",
         "0",
         "John Rivera",
         "Female",
         "0",
         "2023-01-01 00:00:00",
         "1",
         "John Rivera_2023-01-17 13:14:36"
        ],
        [
         "4",
         "2021-05-01 11:29:27",
         "Books",
         "259",
         "4",
         "2598",
         "PayPal",
         "31",
         "1",
         "John Rivera",
         "Female",
         "0",
         "2021-01-01 00:00:00",
         "5",
         "John Rivera_2021-05-01 11:29:27"
        ],
        [
         "5",
         "2022-08-25 06:48:33",
         "Home",
         "191",
         "3",
         "3722",
         "Credit Card",
         "27",
         "1",
         "Lauren Johnson",
         "Female",
         "0",
         "2022-01-01 00:00:00",
         "8",
         "Lauren Johnson_2022-08-25 06:48:33"
        ],
        [
         "6",
         "2023-07-25 05:17:24",
         "Electronics",
         "205",
         "1",
         "2773",
         "Credit Card",
         "27",
         "0",
         "Lauren Johnson",
         "Female",
         "0",
         "2023-01-01 00:00:00",
         "7",
         "Lauren Johnson_2023-07-25 05:17:24"
        ],
        [
         "7",
         "2023-02-05 19:31:48",
         "Books",
         "370",
         "5",
         "1486",
         "Cash",
         "27",
         "1",
         "Lauren Johnson",
         "Female",
         "0",
         "2023-01-01 00:00:00",
         "2",
         "Lauren Johnson_2023-02-05 19:31:48"
        ],
        [
         "8",
         "2021-12-21 03:29:05",
         "Home",
         "12",
         "2",
         "2175",
         "Cash",
         "27",
         "0",
         "Lauren Johnson",
         "Female",
         "0",
         "2021-01-01 00:00:00",
         "12",
         "Lauren Johnson_2021-12-21 03:29:05"
        ],
        [
         "9",
         "2023-02-09 00:53:14",
         "Electronics",
         "40",
         "4",
         "4327",
         "Cash",
         "27",
         "0",
         "Lauren Johnson",
         "Female",
         "0",
         "2023-01-01 00:00:00",
         "2",
         "Lauren Johnson_2023-02-09 00:53:14"
        ],
        [
         "10",
         "2023-02-28 19:58:23",
         "Clothing",
         "410",
         "3",
         "5018",
         "Credit Card",
         "27",
         "0",
         "Carol Allen",
         "Male",
         "0",
         "2023-01-01 00:00:00",
         "2",
         "Carol Allen_2023-02-28 19:58:23"
        ],
        [
         "11",
         "2023-01-05 11:15:27",
         "Home",
         "304",
         "1",
         "3883",
         "PayPal",
         "27",
         "1",
         "Carol Allen",
         "Male",
         "0",
         "2023-01-01 00:00:00",
         "1",
         "Carol Allen_2023-01-05 11:15:27"
        ],
        [
         "12",
         "2023-07-18 23:36:50",
         "Books",
         "54",
         "2",
         "4187",
         "PayPal",
         "27",
         "0",
         "Carol Allen",
         "Male",
         "0",
         "2023-01-01 00:00:00",
         "7",
         "Carol Allen_2023-07-18 23:36:50"
        ],
        [
         "13",
         "2021-12-20 23:44:57",
         "Electronics",
         "428",
         "4",
         "2289",
         "Cash",
         "27",
         "0",
         "Carol Allen",
         "Male",
         "0",
         "2021-01-01 00:00:00",
         "12",
         "Carol Allen_2021-12-20 23:44:57"
        ],
        [
         "14",
         "2020-03-07 21:31:35",
         "Books",
         "281",
         "1",
         "3810",
         "Cash",
         "27",
         "0",
         "Carol Allen",
         "Male",
         "0",
         "2020-01-01 00:00:00",
         "3",
         "Carol Allen_2020-03-07 21:31:35"
        ],
        [
         "15",
         "2022-07-21 04:25:44",
         "Home",
         "193",
         "2",
         "3198",
         "Credit Card",
         "27",
         "0",
         "Carol Allen",
         "Male",
         "0",
         "2022-01-01 00:00:00",
         "7",
         "Carol Allen_2022-07-21 04:25:44"
        ],
        [
         "16",
         "2023-07-05 15:01:04",
         "Clothing",
         "473",
         "3",
         "2881",
         "Credit Card",
         "27",
         "1",
         "Carol Allen",
         "Male",
         "0",
         "2023-01-01 00:00:00",
         "7",
         "Carol Allen_2023-07-05 15:01:04"
        ],
        [
         "17",
         "2020-10-18 23:38:52",
         "Books",
         "127",
         "5",
         "3347",
         "Cash",
         "20",
         "0",
         "Curtis Smith",
         "Female",
         "0",
         "2020-01-01 00:00:00",
         "10",
         "Curtis Smith_2020-10-18 23:38:52"
        ],
        [
         "18",
         "2020-05-17 17:02:36",
         "Home",
         "284",
         "2",
         "3531",
         "Credit Card",
         "20",
         "1",
         "Curtis Smith",
         "Female",
         "0",
         "2020-01-01 00:00:00",
         "5",
         "Curtis Smith_2020-05-17 17:02:36"
        ],
        [
         "19",
         "2022-03-18 13:52:08",
         "Electronics",
         "256",
         "2",
         "3548",
         "Credit Card",
         "20",
         "0",
         "Curtis Smith",
         "Female",
         "0",
         "2022-01-01 00:00:00",
         "3",
         "Curtis Smith_2022-03-18 13:52:08"
        ],
        [
         "20",
         "2021-04-21 07:58:37",
         "Clothing",
         "252",
         "2",
         "1775",
         "Credit Card",
         "20",
         "1",
         "Curtis Smith",
         "Female",
         "0",
         "2021-01-01 00:00:00",
         "4",
         "Curtis Smith_2021-04-21 07:58:37"
        ],
        [
         "21",
         "2022-01-26 12:50:30",
         "Electronics",
         "105",
         "2",
         "3721",
         "Credit Card",
         "20",
         "0",
         "Curtis Smith",
         "Female",
         "0",
         "2022-01-01 00:00:00",
         "1",
         "Curtis Smith_2022-01-26 12:50:30"
        ],
        [
         "22",
         "2020-11-11 07:19:18",
         "Electronics",
         "193",
         "2",
         "3266",
         "PayPal",
         "20",
         "1",
         "Curtis Smith",
         "Female",
         "0",
         "2020-01-01 00:00:00",
         "11",
         "Curtis Smith_2020-11-11 07:19:18"
        ],
        [
         "23",
         "2023-04-29 23:31:47",
         "Home",
         "43",
         "1",
         "2312",
         "Cash",
         "20",
         "0",
         "Curtis Smith",
         "Female",
         "0",
         "2023-01-01 00:00:00",
         "4",
         "Curtis Smith_2023-04-29 23:31:47"
        ],
        [
         "24",
         "2022-07-04 16:04:01",
         "Home",
         "30",
         "5",
         "642",
         "PayPal",
         "20",
         "1",
         "Curtis Smith",
         "Female",
         "0",
         "2022-01-01 00:00:00",
         "7",
         "Curtis Smith_2022-07-04 16:04:01"
        ],
        [
         "25",
         "2021-08-01 05:27:13",
         "Electronics",
         "30",
         "3",
         "5024",
         "Credit Card",
         "20",
         "1",
         "Curtis Smith",
         "Female",
         "0",
         "2021-01-01 00:00:00",
         "8",
         "Curtis Smith_2021-08-01 05:27:13"
        ],
        [
         "26",
         "2020-05-24 06:45:48",
         "Electronics",
         "307",
         "3",
         "973",
         "PayPal",
         "20",
         "0",
         "Curtis Smith",
         "Female",
         "0",
         "2020-01-01 00:00:00",
         "5",
         "Curtis Smith_2020-05-24 06:45:48"
        ],
        [
         "27",
         "2022-03-24 00:05:26",
         "Electronics",
         "254",
         "1",
         "3865",
         "PayPal",
         "20",
         "0",
         "Curtis Smith",
         "Female",
         "0",
         "2022-01-01 00:00:00",
         "3",
         "Curtis Smith_2022-03-24 00:05:26"
        ],
        [
         "28",
         "2022-09-02 04:00:49",
         "Books",
         "12",
         "3",
         "3112",
         "Cash",
         "20",
         "1",
         "Curtis Smith",
         "Female",
         "0",
         "2022-01-01 00:00:00",
         "9",
         "Curtis Smith_2022-09-02 04:00:49"
        ],
        [
         "29",
         "2021-11-14 10:23:14",
         "Books",
         "66",
         "3",
         "250",
         "PayPal",
         "20",
         "1",
         "Curtis Smith",
         "Female",
         "0",
         "2021-01-01 00:00:00",
         "11",
         "Curtis Smith_2021-11-14 10:23:14"
        ],
        [
         "30",
         "2020-11-17 13:14:27",
         "Electronics",
         "102",
         "2",
         "5206",
         "Credit Card",
         "53",
         "1",
         "Jose Green",
         "Male",
         "0",
         "2020-01-01 00:00:00",
         "11",
         "Jose Green_2020-11-17 13:14:27"
        ],
        [
         "31",
         "2021-05-07 09:54:22",
         "Books",
         "187",
         "5",
         "629",
         "PayPal",
         "53",
         "1",
         "Jose Green",
         "Male",
         "0",
         "2021-01-01 00:00:00",
         "5",
         "Jose Green_2021-05-07 09:54:22"
        ],
        [
         "32",
         "2022-09-07 05:06:52",
         "Books",
         "86",
         "1",
         "843",
         "Credit Card",
         "53",
         "1",
         "Jose Green",
         "Male",
         "0",
         "2022-01-01 00:00:00",
         "9",
         "Jose Green_2022-09-07 05:06:52"
        ],
        [
         "33",
         "2020-07-05 06:30:39",
         "Electronics",
         "364",
         "3",
         "1008",
         "Credit Card",
         "53",
         "0",
         "Jose Green",
         "Male",
         "0",
         "2020-01-01 00:00:00",
         "7",
         "Jose Green_2020-07-05 06:30:39"
        ],
        [
         "34",
         "2022-01-11 10:56:31",
         "Books",
         "210",
         "2",
         "4567",
         "Credit Card",
         "53",
         "0",
         "Jose Green",
         "Male",
         "0",
         "2022-01-01 00:00:00",
         "1",
         "Jose Green_2022-01-11 10:56:31"
        ],
        [
         "35",
         "2022-01-12 22:49:28",
         "Clothing",
         "304",
         "3",
         "4869",
         "PayPal",
         "57",
         "1",
         "Linda Lee",
         "Male",
         "0",
         "2022-01-01 00:00:00",
         "1",
         "Linda Lee_2022-01-12 22:49:28"
        ],
        [
         "36",
         "2021-06-26 23:49:18",
         "Electronics",
         "329",
         "1",
         "3391",
         "Cash",
         "57",
         "1",
         "Linda Lee",
         "Male",
         "0",
         "2021-01-01 00:00:00",
         "6",
         "Linda Lee_2021-06-26 23:49:18"
        ],
        [
         "37",
         "2022-06-30 06:11:14",
         "Clothing",
         "306",
         "4",
         "1712",
         "Credit Card",
         "57",
         "1",
         "Linda Lee",
         "Male",
         "0",
         "2022-01-01 00:00:00",
         "6",
         "Linda Lee_2022-06-30 06:11:14"
        ],
        [
         "38",
         "2020-04-20 14:08:25",
         "Electronics",
         "165",
         "5",
         "603",
         "Credit Card",
         "57",
         "0",
         "Linda Lee",
         "Male",
         "0",
         "2020-01-01 00:00:00",
         "4",
         "Linda Lee_2020-04-20 14:08:25"
        ],
        [
         "39",
         "2021-03-23 17:36:30",
         "Electronics",
         "218",
         "4",
         "2866",
         "PayPal",
         "57",
         "0",
         "Linda Lee",
         "Male",
         "0",
         "2021-01-01 00:00:00",
         "3",
         "Linda Lee_2021-03-23 17:36:30"
        ],
        [
         "40",
         "2023-05-16 01:34:44",
         "Clothing",
         "392",
         "3",
         "1378",
         "Credit Card",
         "34",
         "0",
         "Joshua Davis",
         "Male",
         "1",
         "2023-01-01 00:00:00",
         "5",
         "Joshua Davis_2023-05-16 01:34:44"
        ],
        [
         "41",
         "2021-10-27 16:25:14",
         "Clothing",
         "238",
         "3",
         "1760",
         "Credit Card",
         "34",
         "0",
         "Joshua Davis",
         "Male",
         "1",
         "2021-01-01 00:00:00",
         "10",
         "Joshua Davis_2021-10-27 16:25:14"
        ],
        [
         "42",
         "2021-12-09 07:43:45",
         "Books",
         "174",
         "5",
         "4517",
         "Credit Card",
         "34",
         "0",
         "Joshua Davis",
         "Male",
         "1",
         "2021-01-01 00:00:00",
         "12",
         "Joshua Davis_2021-12-09 07:43:45"
        ],
        [
         "43",
         "2022-10-18 22:58:32",
         "Electronics",
         "41",
         "2",
         "743",
         "Cash",
         "34",
         "0",
         "Joshua Davis",
         "Male",
         "1",
         "2022-01-01 00:00:00",
         "10",
         "Joshua Davis_2022-10-18 22:58:32"
        ],
        [
         "44",
         "2021-08-20 23:25:47",
         "Books",
         "118",
         "2",
         "3672",
         "Cash",
         "45",
         "0",
         "Ellen Kent",
         "Male",
         "0",
         "2021-01-01 00:00:00",
         "8",
         "Ellen Kent_2021-08-20 23:25:47"
        ],
        [
         "45",
         "2020-02-14 04:47:32",
         "Clothing",
         "14",
         "4",
         "2733",
         "PayPal",
         "45",
         "0",
         "Ellen Kent",
         "Male",
         "0",
         "2020-01-01 00:00:00",
         "2",
         "Ellen Kent_2020-02-14 04:47:32"
        ],
        [
         "46",
         "2021-11-28 19:39:49",
         "Home",
         "424",
         "1",
         "631",
         "Cash",
         "45",
         "0",
         "Ellen Kent",
         "Male",
         "0",
         "2021-01-01 00:00:00",
         "11",
         "Ellen Kent_2021-11-28 19:39:49"
        ],
        [
         "47",
         "2020-10-30 10:38:20",
         "Clothing",
         "351",
         "5",
         "716",
         "PayPal",
         "45",
         "0",
         "Ellen Kent",
         "Male",
         "0",
         "2020-01-01 00:00:00",
         "10",
         "Ellen Kent_2020-10-30 10:38:20"
        ],
        [
         "48",
         "2020-11-25 09:05:42",
         "Clothing",
         "89",
         "1",
         "3577",
         "PayPal",
         "45",
         "1",
         "Ellen Kent",
         "Male",
         "0",
         "2020-01-01 00:00:00",
         "11",
         "Ellen Kent_2020-11-25 09:05:42"
        ],
        [
         "49",
         "2020-09-13 15:30:54",
         "Home",
         "287",
         "3",
         "3908",
         "Cash",
         "45",
         "0",
         "Ellen Kent",
         "Male",
         "0",
         "2020-01-01 00:00:00",
         "9",
         "Ellen Kent_2020-09-13 15:30:54"
        ]
       ],
       "shape": {
        "columns": 14,
        "rows": 250000
       }
      },
      "text/html": [
       "<div>\n",
       "<style scoped>\n",
       "    .dataframe tbody tr th:only-of-type {\n",
       "        vertical-align: middle;\n",
       "    }\n",
       "\n",
       "    .dataframe tbody tr th {\n",
       "        vertical-align: top;\n",
       "    }\n",
       "\n",
       "    .dataframe thead th {\n",
       "        text-align: right;\n",
       "    }\n",
       "</style>\n",
       "<table border=\"1\" class=\"dataframe\">\n",
       "  <thead>\n",
       "    <tr style=\"text-align: right;\">\n",
       "      <th></th>\n",
       "      <th>Purchase Date</th>\n",
       "      <th>Product Category</th>\n",
       "      <th>Product Price</th>\n",
       "      <th>Quantity</th>\n",
       "      <th>Total Purchase Amount</th>\n",
       "      <th>Payment Method</th>\n",
       "      <th>Customer Age</th>\n",
       "      <th>Returns</th>\n",
       "      <th>Customer Name</th>\n",
       "      <th>Gender</th>\n",
       "      <th>Churn</th>\n",
       "      <th>Year</th>\n",
       "      <th>Month</th>\n",
       "      <th>Synthetic Order ID</th>\n",
       "    </tr>\n",
       "  </thead>\n",
       "  <tbody>\n",
       "    <tr>\n",
       "      <th>0</th>\n",
       "      <td>2023-05-03 21:30:02</td>\n",
       "      <td>Home</td>\n",
       "      <td>177</td>\n",
       "      <td>1</td>\n",
       "      <td>2427</td>\n",
       "      <td>PayPal</td>\n",
       "      <td>31</td>\n",
       "      <td>1</td>\n",
       "      <td>John Rivera</td>\n",
       "      <td>Female</td>\n",
       "      <td>0</td>\n",
       "      <td>2023-01-01</td>\n",
       "      <td>5</td>\n",
       "      <td>John Rivera_2023-05-03 21:30:02</td>\n",
       "    </tr>\n",
       "    <tr>\n",
       "      <th>1</th>\n",
       "      <td>2021-05-16 13:57:44</td>\n",
       "      <td>Electronics</td>\n",
       "      <td>174</td>\n",
       "      <td>3</td>\n",
       "      <td>2448</td>\n",
       "      <td>PayPal</td>\n",
       "      <td>31</td>\n",
       "      <td>1</td>\n",
       "      <td>John Rivera</td>\n",
       "      <td>Female</td>\n",
       "      <td>0</td>\n",
       "      <td>2021-01-01</td>\n",
       "      <td>5</td>\n",
       "      <td>John Rivera_2021-05-16 13:57:44</td>\n",
       "    </tr>\n",
       "    <tr>\n",
       "      <th>2</th>\n",
       "      <td>2020-07-13 06:16:57</td>\n",
       "      <td>Books</td>\n",
       "      <td>413</td>\n",
       "      <td>1</td>\n",
       "      <td>2345</td>\n",
       "      <td>Credit Card</td>\n",
       "      <td>31</td>\n",
       "      <td>1</td>\n",
       "      <td>John Rivera</td>\n",
       "      <td>Female</td>\n",
       "      <td>0</td>\n",
       "      <td>2020-01-01</td>\n",
       "      <td>7</td>\n",
       "      <td>John Rivera_2020-07-13 06:16:57</td>\n",
       "    </tr>\n",
       "    <tr>\n",
       "      <th>3</th>\n",
       "      <td>2023-01-17 13:14:36</td>\n",
       "      <td>Electronics</td>\n",
       "      <td>396</td>\n",
       "      <td>3</td>\n",
       "      <td>937</td>\n",
       "      <td>Cash</td>\n",
       "      <td>31</td>\n",
       "      <td>0</td>\n",
       "      <td>John Rivera</td>\n",
       "      <td>Female</td>\n",
       "      <td>0</td>\n",
       "      <td>2023-01-01</td>\n",
       "      <td>1</td>\n",
       "      <td>John Rivera_2023-01-17 13:14:36</td>\n",
       "    </tr>\n",
       "    <tr>\n",
       "      <th>4</th>\n",
       "      <td>2021-05-01 11:29:27</td>\n",
       "      <td>Books</td>\n",
       "      <td>259</td>\n",
       "      <td>4</td>\n",
       "      <td>2598</td>\n",
       "      <td>PayPal</td>\n",
       "      <td>31</td>\n",
       "      <td>1</td>\n",
       "      <td>John Rivera</td>\n",
       "      <td>Female</td>\n",
       "      <td>0</td>\n",
       "      <td>2021-01-01</td>\n",
       "      <td>5</td>\n",
       "      <td>John Rivera_2021-05-01 11:29:27</td>\n",
       "    </tr>\n",
       "    <tr>\n",
       "      <th>...</th>\n",
       "      <td>...</td>\n",
       "      <td>...</td>\n",
       "      <td>...</td>\n",
       "      <td>...</td>\n",
       "      <td>...</td>\n",
       "      <td>...</td>\n",
       "      <td>...</td>\n",
       "      <td>...</td>\n",
       "      <td>...</td>\n",
       "      <td>...</td>\n",
       "      <td>...</td>\n",
       "      <td>...</td>\n",
       "      <td>...</td>\n",
       "      <td>...</td>\n",
       "    </tr>\n",
       "    <tr>\n",
       "      <th>249995</th>\n",
       "      <td>2023-01-24 12:32:18</td>\n",
       "      <td>Home</td>\n",
       "      <td>436</td>\n",
       "      <td>1</td>\n",
       "      <td>3664</td>\n",
       "      <td>Cash</td>\n",
       "      <td>63</td>\n",
       "      <td>0</td>\n",
       "      <td>Gabriel Williams</td>\n",
       "      <td>Male</td>\n",
       "      <td>0</td>\n",
       "      <td>2023-01-01</td>\n",
       "      <td>1</td>\n",
       "      <td>Gabriel Williams_2023-01-24 12:32:18</td>\n",
       "    </tr>\n",
       "    <tr>\n",
       "      <th>249996</th>\n",
       "      <td>2021-06-04 05:45:25</td>\n",
       "      <td>Electronics</td>\n",
       "      <td>233</td>\n",
       "      <td>1</td>\n",
       "      <td>4374</td>\n",
       "      <td>Credit Card</td>\n",
       "      <td>66</td>\n",
       "      <td>1</td>\n",
       "      <td>Barry Foster</td>\n",
       "      <td>Female</td>\n",
       "      <td>0</td>\n",
       "      <td>2021-01-01</td>\n",
       "      <td>6</td>\n",
       "      <td>Barry Foster_2021-06-04 05:45:25</td>\n",
       "    </tr>\n",
       "    <tr>\n",
       "      <th>249997</th>\n",
       "      <td>2022-11-10 17:11:57</td>\n",
       "      <td>Electronics</td>\n",
       "      <td>441</td>\n",
       "      <td>5</td>\n",
       "      <td>5296</td>\n",
       "      <td>Cash</td>\n",
       "      <td>63</td>\n",
       "      <td>0</td>\n",
       "      <td>Lisa Johnson</td>\n",
       "      <td>Female</td>\n",
       "      <td>0</td>\n",
       "      <td>2022-01-01</td>\n",
       "      <td>11</td>\n",
       "      <td>Lisa Johnson_2022-11-10 17:11:57</td>\n",
       "    </tr>\n",
       "    <tr>\n",
       "      <th>249998</th>\n",
       "      <td>2021-06-27 14:42:12</td>\n",
       "      <td>Electronics</td>\n",
       "      <td>44</td>\n",
       "      <td>2</td>\n",
       "      <td>2517</td>\n",
       "      <td>Cash</td>\n",
       "      <td>64</td>\n",
       "      <td>1</td>\n",
       "      <td>Melissa Fernandez</td>\n",
       "      <td>Male</td>\n",
       "      <td>0</td>\n",
       "      <td>2021-01-01</td>\n",
       "      <td>6</td>\n",
       "      <td>Melissa Fernandez_2021-06-27 14:42:12</td>\n",
       "    </tr>\n",
       "    <tr>\n",
       "      <th>249999</th>\n",
       "      <td>2020-09-07 05:12:19</td>\n",
       "      <td>Home</td>\n",
       "      <td>307</td>\n",
       "      <td>5</td>\n",
       "      <td>3634</td>\n",
       "      <td>Cash</td>\n",
       "      <td>32</td>\n",
       "      <td>0</td>\n",
       "      <td>Angela Norton</td>\n",
       "      <td>Male</td>\n",
       "      <td>0</td>\n",
       "      <td>2020-01-01</td>\n",
       "      <td>9</td>\n",
       "      <td>Angela Norton_2020-09-07 05:12:19</td>\n",
       "    </tr>\n",
       "  </tbody>\n",
       "</table>\n",
       "<p>250000 rows × 14 columns</p>\n",
       "</div>"
      ],
      "text/plain": [
       "             Purchase Date Product Category  Product Price  Quantity  \\\n",
       "0      2023-05-03 21:30:02             Home            177         1   \n",
       "1      2021-05-16 13:57:44      Electronics            174         3   \n",
       "2      2020-07-13 06:16:57            Books            413         1   \n",
       "3      2023-01-17 13:14:36      Electronics            396         3   \n",
       "4      2021-05-01 11:29:27            Books            259         4   \n",
       "...                    ...              ...            ...       ...   \n",
       "249995 2023-01-24 12:32:18             Home            436         1   \n",
       "249996 2021-06-04 05:45:25      Electronics            233         1   \n",
       "249997 2022-11-10 17:11:57      Electronics            441         5   \n",
       "249998 2021-06-27 14:42:12      Electronics             44         2   \n",
       "249999 2020-09-07 05:12:19             Home            307         5   \n",
       "\n",
       "        Total Purchase Amount Payment Method  Customer Age  Returns  \\\n",
       "0                        2427         PayPal            31        1   \n",
       "1                        2448         PayPal            31        1   \n",
       "2                        2345    Credit Card            31        1   \n",
       "3                         937           Cash            31        0   \n",
       "4                        2598         PayPal            31        1   \n",
       "...                       ...            ...           ...      ...   \n",
       "249995                   3664           Cash            63        0   \n",
       "249996                   4374    Credit Card            66        1   \n",
       "249997                   5296           Cash            63        0   \n",
       "249998                   2517           Cash            64        1   \n",
       "249999                   3634           Cash            32        0   \n",
       "\n",
       "            Customer Name  Gender  Churn       Year  Month  \\\n",
       "0             John Rivera  Female      0 2023-01-01      5   \n",
       "1             John Rivera  Female      0 2021-01-01      5   \n",
       "2             John Rivera  Female      0 2020-01-01      7   \n",
       "3             John Rivera  Female      0 2023-01-01      1   \n",
       "4             John Rivera  Female      0 2021-01-01      5   \n",
       "...                   ...     ...    ...        ...    ...   \n",
       "249995   Gabriel Williams    Male      0 2023-01-01      1   \n",
       "249996       Barry Foster  Female      0 2021-01-01      6   \n",
       "249997       Lisa Johnson  Female      0 2022-01-01     11   \n",
       "249998  Melissa Fernandez    Male      0 2021-01-01      6   \n",
       "249999      Angela Norton    Male      0 2020-01-01      9   \n",
       "\n",
       "                           Synthetic Order ID  \n",
       "0             John Rivera_2023-05-03 21:30:02  \n",
       "1             John Rivera_2021-05-16 13:57:44  \n",
       "2             John Rivera_2020-07-13 06:16:57  \n",
       "3             John Rivera_2023-01-17 13:14:36  \n",
       "4             John Rivera_2021-05-01 11:29:27  \n",
       "...                                       ...  \n",
       "249995   Gabriel Williams_2023-01-24 12:32:18  \n",
       "249996       Barry Foster_2021-06-04 05:45:25  \n",
       "249997       Lisa Johnson_2022-11-10 17:11:57  \n",
       "249998  Melissa Fernandez_2021-06-27 14:42:12  \n",
       "249999      Angela Norton_2020-09-07 05:12:19  \n",
       "\n",
       "[250000 rows x 14 columns]"
      ]
     },
     "execution_count": 46,
     "metadata": {},
     "output_type": "execute_result"
    }
   ],
   "source": [
    "df"
   ]
  },
  {
   "cell_type": "code",
   "execution_count": 47,
   "id": "efc7a74a",
   "metadata": {},
   "outputs": [],
   "source": [
    "cohort = df[[\"Customer Name\" , \"Customer Age\", \"Purchase Date\", \"Product Category\", \"Product Price\",\"Quantity\", \"Churn\"]].copy()"
   ]
  },
  {
   "cell_type": "code",
   "execution_count": 48,
   "id": "1386881d",
   "metadata": {},
   "outputs": [
    {
     "data": {
      "application/vnd.microsoft.datawrangler.viewer.v0+json": {
       "columns": [
        {
         "name": "index",
         "rawType": "int64",
         "type": "integer"
        },
        {
         "name": "Customer Name",
         "rawType": "object",
         "type": "string"
        },
        {
         "name": "Customer Age",
         "rawType": "int64",
         "type": "integer"
        },
        {
         "name": "Purchase Date",
         "rawType": "datetime64[ns]",
         "type": "datetime"
        },
        {
         "name": "Product Category",
         "rawType": "object",
         "type": "string"
        },
        {
         "name": "Product Price",
         "rawType": "int64",
         "type": "integer"
        },
        {
         "name": "Quantity",
         "rawType": "int64",
         "type": "integer"
        },
        {
         "name": "Churn",
         "rawType": "int32",
         "type": "integer"
        }
       ],
       "ref": "c1197b7d-8a44-43cc-8da2-112d00bb3b76",
       "rows": [
        [
         "0",
         "John Rivera",
         "31",
         "2023-05-03 21:30:02",
         "Home",
         "177",
         "1",
         "0"
        ],
        [
         "1",
         "John Rivera",
         "31",
         "2021-05-16 13:57:44",
         "Electronics",
         "174",
         "3",
         "0"
        ],
        [
         "2",
         "John Rivera",
         "31",
         "2020-07-13 06:16:57",
         "Books",
         "413",
         "1",
         "0"
        ],
        [
         "3",
         "John Rivera",
         "31",
         "2023-01-17 13:14:36",
         "Electronics",
         "396",
         "3",
         "0"
        ],
        [
         "4",
         "John Rivera",
         "31",
         "2021-05-01 11:29:27",
         "Books",
         "259",
         "4",
         "0"
        ],
        [
         "5",
         "Lauren Johnson",
         "27",
         "2022-08-25 06:48:33",
         "Home",
         "191",
         "3",
         "0"
        ],
        [
         "6",
         "Lauren Johnson",
         "27",
         "2023-07-25 05:17:24",
         "Electronics",
         "205",
         "1",
         "0"
        ],
        [
         "7",
         "Lauren Johnson",
         "27",
         "2023-02-05 19:31:48",
         "Books",
         "370",
         "5",
         "0"
        ],
        [
         "8",
         "Lauren Johnson",
         "27",
         "2021-12-21 03:29:05",
         "Home",
         "12",
         "2",
         "0"
        ],
        [
         "9",
         "Lauren Johnson",
         "27",
         "2023-02-09 00:53:14",
         "Electronics",
         "40",
         "4",
         "0"
        ],
        [
         "10",
         "Carol Allen",
         "27",
         "2023-02-28 19:58:23",
         "Clothing",
         "410",
         "3",
         "0"
        ],
        [
         "11",
         "Carol Allen",
         "27",
         "2023-01-05 11:15:27",
         "Home",
         "304",
         "1",
         "0"
        ],
        [
         "12",
         "Carol Allen",
         "27",
         "2023-07-18 23:36:50",
         "Books",
         "54",
         "2",
         "0"
        ],
        [
         "13",
         "Carol Allen",
         "27",
         "2021-12-20 23:44:57",
         "Electronics",
         "428",
         "4",
         "0"
        ],
        [
         "14",
         "Carol Allen",
         "27",
         "2020-03-07 21:31:35",
         "Books",
         "281",
         "1",
         "0"
        ],
        [
         "15",
         "Carol Allen",
         "27",
         "2022-07-21 04:25:44",
         "Home",
         "193",
         "2",
         "0"
        ],
        [
         "16",
         "Carol Allen",
         "27",
         "2023-07-05 15:01:04",
         "Clothing",
         "473",
         "3",
         "0"
        ],
        [
         "17",
         "Curtis Smith",
         "20",
         "2020-10-18 23:38:52",
         "Books",
         "127",
         "5",
         "0"
        ],
        [
         "18",
         "Curtis Smith",
         "20",
         "2020-05-17 17:02:36",
         "Home",
         "284",
         "2",
         "0"
        ],
        [
         "19",
         "Curtis Smith",
         "20",
         "2022-03-18 13:52:08",
         "Electronics",
         "256",
         "2",
         "0"
        ],
        [
         "20",
         "Curtis Smith",
         "20",
         "2021-04-21 07:58:37",
         "Clothing",
         "252",
         "2",
         "0"
        ],
        [
         "21",
         "Curtis Smith",
         "20",
         "2022-01-26 12:50:30",
         "Electronics",
         "105",
         "2",
         "0"
        ],
        [
         "22",
         "Curtis Smith",
         "20",
         "2020-11-11 07:19:18",
         "Electronics",
         "193",
         "2",
         "0"
        ],
        [
         "23",
         "Curtis Smith",
         "20",
         "2023-04-29 23:31:47",
         "Home",
         "43",
         "1",
         "0"
        ],
        [
         "24",
         "Curtis Smith",
         "20",
         "2022-07-04 16:04:01",
         "Home",
         "30",
         "5",
         "0"
        ],
        [
         "25",
         "Curtis Smith",
         "20",
         "2021-08-01 05:27:13",
         "Electronics",
         "30",
         "3",
         "0"
        ],
        [
         "26",
         "Curtis Smith",
         "20",
         "2020-05-24 06:45:48",
         "Electronics",
         "307",
         "3",
         "0"
        ],
        [
         "27",
         "Curtis Smith",
         "20",
         "2022-03-24 00:05:26",
         "Electronics",
         "254",
         "1",
         "0"
        ],
        [
         "28",
         "Curtis Smith",
         "20",
         "2022-09-02 04:00:49",
         "Books",
         "12",
         "3",
         "0"
        ],
        [
         "29",
         "Curtis Smith",
         "20",
         "2021-11-14 10:23:14",
         "Books",
         "66",
         "3",
         "0"
        ],
        [
         "30",
         "Jose Green",
         "53",
         "2020-11-17 13:14:27",
         "Electronics",
         "102",
         "2",
         "0"
        ],
        [
         "31",
         "Jose Green",
         "53",
         "2021-05-07 09:54:22",
         "Books",
         "187",
         "5",
         "0"
        ],
        [
         "32",
         "Jose Green",
         "53",
         "2022-09-07 05:06:52",
         "Books",
         "86",
         "1",
         "0"
        ],
        [
         "33",
         "Jose Green",
         "53",
         "2020-07-05 06:30:39",
         "Electronics",
         "364",
         "3",
         "0"
        ],
        [
         "34",
         "Jose Green",
         "53",
         "2022-01-11 10:56:31",
         "Books",
         "210",
         "2",
         "0"
        ],
        [
         "35",
         "Linda Lee",
         "57",
         "2022-01-12 22:49:28",
         "Clothing",
         "304",
         "3",
         "0"
        ],
        [
         "36",
         "Linda Lee",
         "57",
         "2021-06-26 23:49:18",
         "Electronics",
         "329",
         "1",
         "0"
        ],
        [
         "37",
         "Linda Lee",
         "57",
         "2022-06-30 06:11:14",
         "Clothing",
         "306",
         "4",
         "0"
        ],
        [
         "38",
         "Linda Lee",
         "57",
         "2020-04-20 14:08:25",
         "Electronics",
         "165",
         "5",
         "0"
        ],
        [
         "39",
         "Linda Lee",
         "57",
         "2021-03-23 17:36:30",
         "Electronics",
         "218",
         "4",
         "0"
        ],
        [
         "40",
         "Joshua Davis",
         "34",
         "2023-05-16 01:34:44",
         "Clothing",
         "392",
         "3",
         "1"
        ],
        [
         "41",
         "Joshua Davis",
         "34",
         "2021-10-27 16:25:14",
         "Clothing",
         "238",
         "3",
         "1"
        ],
        [
         "42",
         "Joshua Davis",
         "34",
         "2021-12-09 07:43:45",
         "Books",
         "174",
         "5",
         "1"
        ],
        [
         "43",
         "Joshua Davis",
         "34",
         "2022-10-18 22:58:32",
         "Electronics",
         "41",
         "2",
         "1"
        ],
        [
         "44",
         "Ellen Kent",
         "45",
         "2021-08-20 23:25:47",
         "Books",
         "118",
         "2",
         "0"
        ],
        [
         "45",
         "Ellen Kent",
         "45",
         "2020-02-14 04:47:32",
         "Clothing",
         "14",
         "4",
         "0"
        ],
        [
         "46",
         "Ellen Kent",
         "45",
         "2021-11-28 19:39:49",
         "Home",
         "424",
         "1",
         "0"
        ],
        [
         "47",
         "Ellen Kent",
         "45",
         "2020-10-30 10:38:20",
         "Clothing",
         "351",
         "5",
         "0"
        ],
        [
         "48",
         "Ellen Kent",
         "45",
         "2020-11-25 09:05:42",
         "Clothing",
         "89",
         "1",
         "0"
        ],
        [
         "49",
         "Ellen Kent",
         "45",
         "2020-09-13 15:30:54",
         "Home",
         "287",
         "3",
         "0"
        ]
       ],
       "shape": {
        "columns": 7,
        "rows": 250000
       }
      },
      "text/html": [
       "<div>\n",
       "<style scoped>\n",
       "    .dataframe tbody tr th:only-of-type {\n",
       "        vertical-align: middle;\n",
       "    }\n",
       "\n",
       "    .dataframe tbody tr th {\n",
       "        vertical-align: top;\n",
       "    }\n",
       "\n",
       "    .dataframe thead th {\n",
       "        text-align: right;\n",
       "    }\n",
       "</style>\n",
       "<table border=\"1\" class=\"dataframe\">\n",
       "  <thead>\n",
       "    <tr style=\"text-align: right;\">\n",
       "      <th></th>\n",
       "      <th>Customer Name</th>\n",
       "      <th>Customer Age</th>\n",
       "      <th>Purchase Date</th>\n",
       "      <th>Product Category</th>\n",
       "      <th>Product Price</th>\n",
       "      <th>Quantity</th>\n",
       "      <th>Churn</th>\n",
       "    </tr>\n",
       "  </thead>\n",
       "  <tbody>\n",
       "    <tr>\n",
       "      <th>0</th>\n",
       "      <td>John Rivera</td>\n",
       "      <td>31</td>\n",
       "      <td>2023-05-03 21:30:02</td>\n",
       "      <td>Home</td>\n",
       "      <td>177</td>\n",
       "      <td>1</td>\n",
       "      <td>0</td>\n",
       "    </tr>\n",
       "    <tr>\n",
       "      <th>1</th>\n",
       "      <td>John Rivera</td>\n",
       "      <td>31</td>\n",
       "      <td>2021-05-16 13:57:44</td>\n",
       "      <td>Electronics</td>\n",
       "      <td>174</td>\n",
       "      <td>3</td>\n",
       "      <td>0</td>\n",
       "    </tr>\n",
       "    <tr>\n",
       "      <th>2</th>\n",
       "      <td>John Rivera</td>\n",
       "      <td>31</td>\n",
       "      <td>2020-07-13 06:16:57</td>\n",
       "      <td>Books</td>\n",
       "      <td>413</td>\n",
       "      <td>1</td>\n",
       "      <td>0</td>\n",
       "    </tr>\n",
       "    <tr>\n",
       "      <th>3</th>\n",
       "      <td>John Rivera</td>\n",
       "      <td>31</td>\n",
       "      <td>2023-01-17 13:14:36</td>\n",
       "      <td>Electronics</td>\n",
       "      <td>396</td>\n",
       "      <td>3</td>\n",
       "      <td>0</td>\n",
       "    </tr>\n",
       "    <tr>\n",
       "      <th>4</th>\n",
       "      <td>John Rivera</td>\n",
       "      <td>31</td>\n",
       "      <td>2021-05-01 11:29:27</td>\n",
       "      <td>Books</td>\n",
       "      <td>259</td>\n",
       "      <td>4</td>\n",
       "      <td>0</td>\n",
       "    </tr>\n",
       "    <tr>\n",
       "      <th>...</th>\n",
       "      <td>...</td>\n",
       "      <td>...</td>\n",
       "      <td>...</td>\n",
       "      <td>...</td>\n",
       "      <td>...</td>\n",
       "      <td>...</td>\n",
       "      <td>...</td>\n",
       "    </tr>\n",
       "    <tr>\n",
       "      <th>249995</th>\n",
       "      <td>Gabriel Williams</td>\n",
       "      <td>63</td>\n",
       "      <td>2023-01-24 12:32:18</td>\n",
       "      <td>Home</td>\n",
       "      <td>436</td>\n",
       "      <td>1</td>\n",
       "      <td>0</td>\n",
       "    </tr>\n",
       "    <tr>\n",
       "      <th>249996</th>\n",
       "      <td>Barry Foster</td>\n",
       "      <td>66</td>\n",
       "      <td>2021-06-04 05:45:25</td>\n",
       "      <td>Electronics</td>\n",
       "      <td>233</td>\n",
       "      <td>1</td>\n",
       "      <td>0</td>\n",
       "    </tr>\n",
       "    <tr>\n",
       "      <th>249997</th>\n",
       "      <td>Lisa Johnson</td>\n",
       "      <td>63</td>\n",
       "      <td>2022-11-10 17:11:57</td>\n",
       "      <td>Electronics</td>\n",
       "      <td>441</td>\n",
       "      <td>5</td>\n",
       "      <td>0</td>\n",
       "    </tr>\n",
       "    <tr>\n",
       "      <th>249998</th>\n",
       "      <td>Melissa Fernandez</td>\n",
       "      <td>64</td>\n",
       "      <td>2021-06-27 14:42:12</td>\n",
       "      <td>Electronics</td>\n",
       "      <td>44</td>\n",
       "      <td>2</td>\n",
       "      <td>0</td>\n",
       "    </tr>\n",
       "    <tr>\n",
       "      <th>249999</th>\n",
       "      <td>Angela Norton</td>\n",
       "      <td>32</td>\n",
       "      <td>2020-09-07 05:12:19</td>\n",
       "      <td>Home</td>\n",
       "      <td>307</td>\n",
       "      <td>5</td>\n",
       "      <td>0</td>\n",
       "    </tr>\n",
       "  </tbody>\n",
       "</table>\n",
       "<p>250000 rows × 7 columns</p>\n",
       "</div>"
      ],
      "text/plain": [
       "            Customer Name  Customer Age       Purchase Date Product Category  \\\n",
       "0             John Rivera            31 2023-05-03 21:30:02             Home   \n",
       "1             John Rivera            31 2021-05-16 13:57:44      Electronics   \n",
       "2             John Rivera            31 2020-07-13 06:16:57            Books   \n",
       "3             John Rivera            31 2023-01-17 13:14:36      Electronics   \n",
       "4             John Rivera            31 2021-05-01 11:29:27            Books   \n",
       "...                   ...           ...                 ...              ...   \n",
       "249995   Gabriel Williams            63 2023-01-24 12:32:18             Home   \n",
       "249996       Barry Foster            66 2021-06-04 05:45:25      Electronics   \n",
       "249997       Lisa Johnson            63 2022-11-10 17:11:57      Electronics   \n",
       "249998  Melissa Fernandez            64 2021-06-27 14:42:12      Electronics   \n",
       "249999      Angela Norton            32 2020-09-07 05:12:19             Home   \n",
       "\n",
       "        Product Price  Quantity  Churn  \n",
       "0                 177         1      0  \n",
       "1                 174         3      0  \n",
       "2                 413         1      0  \n",
       "3                 396         3      0  \n",
       "4                 259         4      0  \n",
       "...               ...       ...    ...  \n",
       "249995            436         1      0  \n",
       "249996            233         1      0  \n",
       "249997            441         5      0  \n",
       "249998             44         2      0  \n",
       "249999            307         5      0  \n",
       "\n",
       "[250000 rows x 7 columns]"
      ]
     },
     "execution_count": 48,
     "metadata": {},
     "output_type": "execute_result"
    }
   ],
   "source": [
    "cohort"
   ]
  },
  {
   "cell_type": "code",
   "execution_count": 49,
   "id": "65dd6f0b",
   "metadata": {},
   "outputs": [
    {
     "data": {
      "application/vnd.microsoft.datawrangler.viewer.v0+json": {
       "columns": [
        {
         "name": "Customer Age",
         "rawType": "int64",
         "type": "integer"
        },
        {
         "name": "count",
         "rawType": "int64",
         "type": "integer"
        }
       ],
       "ref": "2644a833-aac7-4469-b138-de8809b7c715",
       "rows": [
        [
         "47",
         "5041"
        ],
        [
         "22",
         "5009"
        ],
        [
         "43",
         "4975"
        ],
        [
         "20",
         "4934"
        ],
        [
         "26",
         "4921"
        ],
        [
         "19",
         "4911"
        ],
        [
         "24",
         "4878"
        ],
        [
         "23",
         "4865"
        ],
        [
         "57",
         "4861"
        ],
        [
         "36",
         "4837"
        ],
        [
         "31",
         "4829"
        ],
        [
         "30",
         "4818"
        ],
        [
         "69",
         "4810"
        ],
        [
         "54",
         "4799"
        ],
        [
         "21",
         "4797"
        ],
        [
         "25",
         "4796"
        ],
        [
         "37",
         "4792"
        ],
        [
         "18",
         "4788"
        ],
        [
         "34",
         "4785"
        ],
        [
         "46",
         "4785"
        ],
        [
         "68",
         "4782"
        ],
        [
         "28",
         "4776"
        ],
        [
         "27",
         "4763"
        ],
        [
         "45",
         "4762"
        ],
        [
         "29",
         "4757"
        ],
        [
         "56",
         "4739"
        ],
        [
         "35",
         "4731"
        ],
        [
         "61",
         "4704"
        ],
        [
         "66",
         "4702"
        ],
        [
         "63",
         "4701"
        ],
        [
         "64",
         "4692"
        ],
        [
         "67",
         "4692"
        ],
        [
         "62",
         "4682"
        ],
        [
         "51",
         "4677"
        ],
        [
         "49",
         "4662"
        ],
        [
         "42",
         "4654"
        ],
        [
         "65",
         "4652"
        ],
        [
         "44",
         "4642"
        ],
        [
         "59",
         "4640"
        ],
        [
         "60",
         "4631"
        ],
        [
         "33",
         "4627"
        ],
        [
         "52",
         "4622"
        ],
        [
         "38",
         "4621"
        ],
        [
         "32",
         "4607"
        ],
        [
         "70",
         "4597"
        ],
        [
         "41",
         "4560"
        ],
        [
         "53",
         "4547"
        ],
        [
         "55",
         "4527"
        ],
        [
         "40",
         "4502"
        ],
        [
         "50",
         "4494"
        ]
       ],
       "shape": {
        "columns": 1,
        "rows": 53
       }
      },
      "text/plain": [
       "Customer Age\n",
       "47    5041\n",
       "22    5009\n",
       "43    4975\n",
       "20    4934\n",
       "26    4921\n",
       "19    4911\n",
       "24    4878\n",
       "23    4865\n",
       "57    4861\n",
       "36    4837\n",
       "31    4829\n",
       "30    4818\n",
       "69    4810\n",
       "54    4799\n",
       "21    4797\n",
       "25    4796\n",
       "37    4792\n",
       "18    4788\n",
       "34    4785\n",
       "46    4785\n",
       "68    4782\n",
       "28    4776\n",
       "27    4763\n",
       "45    4762\n",
       "29    4757\n",
       "56    4739\n",
       "35    4731\n",
       "61    4704\n",
       "66    4702\n",
       "63    4701\n",
       "64    4692\n",
       "67    4692\n",
       "62    4682\n",
       "51    4677\n",
       "49    4662\n",
       "42    4654\n",
       "65    4652\n",
       "44    4642\n",
       "59    4640\n",
       "60    4631\n",
       "33    4627\n",
       "52    4622\n",
       "38    4621\n",
       "32    4607\n",
       "70    4597\n",
       "41    4560\n",
       "53    4547\n",
       "55    4527\n",
       "40    4502\n",
       "50    4494\n",
       "39    4480\n",
       "48    4340\n",
       "58    4204\n",
       "Name: count, dtype: int64"
      ]
     },
     "execution_count": 49,
     "metadata": {},
     "output_type": "execute_result"
    }
   ],
   "source": [
    "df[\"Customer Age\"].value_counts()"
   ]
  },
  {
   "cell_type": "code",
   "execution_count": 50,
   "id": "a98e9bcc",
   "metadata": {},
   "outputs": [],
   "source": [
    "def age(i):\n",
    "    if i < 20:\n",
    "        return \"0-19\"\n",
    "    if i >=20 and i < 30:\n",
    "        return \"20-29\"  \n",
    "    if i >=30 and i < 40:\n",
    "        return \"30-39\"\n",
    "    if i >=40 and i < 50:\n",
    "        return \"40-49\"\n",
    "    if i >=50 and i < 60:\n",
    "        return \"50-59\""
   ]
  },
  {
   "cell_type": "code",
   "execution_count": 51,
   "id": "b6b3e157",
   "metadata": {},
   "outputs": [],
   "source": [
    "df[\"Customer Group\"] = df[\"Customer Age\"].apply(age)"
   ]
  },
  {
   "cell_type": "code",
   "execution_count": 52,
   "id": "e895a35b",
   "metadata": {},
   "outputs": [
    {
     "data": {
      "application/vnd.microsoft.datawrangler.viewer.v0+json": {
       "columns": [
        {
         "name": "index",
         "rawType": "int64",
         "type": "integer"
        },
        {
         "name": "Customer Age",
         "rawType": "int64",
         "type": "integer"
        },
        {
         "name": "Customer Group",
         "rawType": "object",
         "type": "unknown"
        }
       ],
       "ref": "dccbb1e7-3a23-4ac9-aefd-5d4f50fa3f04",
       "rows": [
        [
         "0",
         "31",
         "30-39"
        ],
        [
         "1",
         "31",
         "30-39"
        ],
        [
         "2",
         "31",
         "30-39"
        ],
        [
         "3",
         "31",
         "30-39"
        ],
        [
         "4",
         "31",
         "30-39"
        ],
        [
         "5",
         "27",
         "20-29"
        ],
        [
         "6",
         "27",
         "20-29"
        ],
        [
         "7",
         "27",
         "20-29"
        ],
        [
         "8",
         "27",
         "20-29"
        ],
        [
         "9",
         "27",
         "20-29"
        ],
        [
         "10",
         "27",
         "20-29"
        ],
        [
         "11",
         "27",
         "20-29"
        ],
        [
         "12",
         "27",
         "20-29"
        ],
        [
         "13",
         "27",
         "20-29"
        ],
        [
         "14",
         "27",
         "20-29"
        ],
        [
         "15",
         "27",
         "20-29"
        ],
        [
         "16",
         "27",
         "20-29"
        ],
        [
         "17",
         "20",
         "20-29"
        ],
        [
         "18",
         "20",
         "20-29"
        ],
        [
         "19",
         "20",
         "20-29"
        ],
        [
         "20",
         "20",
         "20-29"
        ],
        [
         "21",
         "20",
         "20-29"
        ],
        [
         "22",
         "20",
         "20-29"
        ],
        [
         "23",
         "20",
         "20-29"
        ],
        [
         "24",
         "20",
         "20-29"
        ],
        [
         "25",
         "20",
         "20-29"
        ],
        [
         "26",
         "20",
         "20-29"
        ],
        [
         "27",
         "20",
         "20-29"
        ],
        [
         "28",
         "20",
         "20-29"
        ],
        [
         "29",
         "20",
         "20-29"
        ],
        [
         "30",
         "53",
         "50-59"
        ],
        [
         "31",
         "53",
         "50-59"
        ],
        [
         "32",
         "53",
         "50-59"
        ],
        [
         "33",
         "53",
         "50-59"
        ],
        [
         "34",
         "53",
         "50-59"
        ],
        [
         "35",
         "57",
         "50-59"
        ],
        [
         "36",
         "57",
         "50-59"
        ],
        [
         "37",
         "57",
         "50-59"
        ],
        [
         "38",
         "57",
         "50-59"
        ],
        [
         "39",
         "57",
         "50-59"
        ],
        [
         "40",
         "34",
         "30-39"
        ],
        [
         "41",
         "34",
         "30-39"
        ],
        [
         "42",
         "34",
         "30-39"
        ],
        [
         "43",
         "34",
         "30-39"
        ],
        [
         "44",
         "45",
         "40-49"
        ],
        [
         "45",
         "45",
         "40-49"
        ],
        [
         "46",
         "45",
         "40-49"
        ],
        [
         "47",
         "45",
         "40-49"
        ],
        [
         "48",
         "45",
         "40-49"
        ],
        [
         "49",
         "45",
         "40-49"
        ]
       ],
       "shape": {
        "columns": 2,
        "rows": 250000
       }
      },
      "text/html": [
       "<div>\n",
       "<style scoped>\n",
       "    .dataframe tbody tr th:only-of-type {\n",
       "        vertical-align: middle;\n",
       "    }\n",
       "\n",
       "    .dataframe tbody tr th {\n",
       "        vertical-align: top;\n",
       "    }\n",
       "\n",
       "    .dataframe thead th {\n",
       "        text-align: right;\n",
       "    }\n",
       "</style>\n",
       "<table border=\"1\" class=\"dataframe\">\n",
       "  <thead>\n",
       "    <tr style=\"text-align: right;\">\n",
       "      <th></th>\n",
       "      <th>Customer Age</th>\n",
       "      <th>Customer Group</th>\n",
       "    </tr>\n",
       "  </thead>\n",
       "  <tbody>\n",
       "    <tr>\n",
       "      <th>0</th>\n",
       "      <td>31</td>\n",
       "      <td>30-39</td>\n",
       "    </tr>\n",
       "    <tr>\n",
       "      <th>1</th>\n",
       "      <td>31</td>\n",
       "      <td>30-39</td>\n",
       "    </tr>\n",
       "    <tr>\n",
       "      <th>2</th>\n",
       "      <td>31</td>\n",
       "      <td>30-39</td>\n",
       "    </tr>\n",
       "    <tr>\n",
       "      <th>3</th>\n",
       "      <td>31</td>\n",
       "      <td>30-39</td>\n",
       "    </tr>\n",
       "    <tr>\n",
       "      <th>4</th>\n",
       "      <td>31</td>\n",
       "      <td>30-39</td>\n",
       "    </tr>\n",
       "    <tr>\n",
       "      <th>...</th>\n",
       "      <td>...</td>\n",
       "      <td>...</td>\n",
       "    </tr>\n",
       "    <tr>\n",
       "      <th>249995</th>\n",
       "      <td>63</td>\n",
       "      <td>None</td>\n",
       "    </tr>\n",
       "    <tr>\n",
       "      <th>249996</th>\n",
       "      <td>66</td>\n",
       "      <td>None</td>\n",
       "    </tr>\n",
       "    <tr>\n",
       "      <th>249997</th>\n",
       "      <td>63</td>\n",
       "      <td>None</td>\n",
       "    </tr>\n",
       "    <tr>\n",
       "      <th>249998</th>\n",
       "      <td>64</td>\n",
       "      <td>None</td>\n",
       "    </tr>\n",
       "    <tr>\n",
       "      <th>249999</th>\n",
       "      <td>32</td>\n",
       "      <td>30-39</td>\n",
       "    </tr>\n",
       "  </tbody>\n",
       "</table>\n",
       "<p>250000 rows × 2 columns</p>\n",
       "</div>"
      ],
      "text/plain": [
       "        Customer Age Customer Group\n",
       "0                 31          30-39\n",
       "1                 31          30-39\n",
       "2                 31          30-39\n",
       "3                 31          30-39\n",
       "4                 31          30-39\n",
       "...              ...            ...\n",
       "249995            63           None\n",
       "249996            66           None\n",
       "249997            63           None\n",
       "249998            64           None\n",
       "249999            32          30-39\n",
       "\n",
       "[250000 rows x 2 columns]"
      ]
     },
     "execution_count": 52,
     "metadata": {},
     "output_type": "execute_result"
    }
   ],
   "source": [
    "df[[\"Customer Age\" , \"Customer Group\"]]"
   ]
  },
  {
   "cell_type": "code",
   "execution_count": 53,
   "id": "a071d7f2",
   "metadata": {},
   "outputs": [
    {
     "data": {
      "application/vnd.microsoft.datawrangler.viewer.v0+json": {
       "columns": [
        {
         "name": "index",
         "rawType": "int64",
         "type": "integer"
        },
        {
         "name": "Customer Name",
         "rawType": "object",
         "type": "string"
        },
        {
         "name": "Customer Age",
         "rawType": "int64",
         "type": "integer"
        },
        {
         "name": "Purchase Date",
         "rawType": "datetime64[ns]",
         "type": "datetime"
        },
        {
         "name": "Product Category",
         "rawType": "object",
         "type": "string"
        },
        {
         "name": "Product Price",
         "rawType": "int64",
         "type": "integer"
        },
        {
         "name": "Quantity",
         "rawType": "int64",
         "type": "integer"
        },
        {
         "name": "Churn",
         "rawType": "int32",
         "type": "integer"
        }
       ],
       "ref": "393d8760-90db-4ac9-ad94-69d444b03a08",
       "rows": [
        [
         "0",
         "John Rivera",
         "31",
         "2023-05-03 21:30:02",
         "Home",
         "177",
         "1",
         "0"
        ],
        [
         "1",
         "John Rivera",
         "31",
         "2021-05-16 13:57:44",
         "Electronics",
         "174",
         "3",
         "0"
        ],
        [
         "2",
         "John Rivera",
         "31",
         "2020-07-13 06:16:57",
         "Books",
         "413",
         "1",
         "0"
        ],
        [
         "3",
         "John Rivera",
         "31",
         "2023-01-17 13:14:36",
         "Electronics",
         "396",
         "3",
         "0"
        ],
        [
         "4",
         "John Rivera",
         "31",
         "2021-05-01 11:29:27",
         "Books",
         "259",
         "4",
         "0"
        ],
        [
         "5",
         "Lauren Johnson",
         "27",
         "2022-08-25 06:48:33",
         "Home",
         "191",
         "3",
         "0"
        ],
        [
         "6",
         "Lauren Johnson",
         "27",
         "2023-07-25 05:17:24",
         "Electronics",
         "205",
         "1",
         "0"
        ],
        [
         "7",
         "Lauren Johnson",
         "27",
         "2023-02-05 19:31:48",
         "Books",
         "370",
         "5",
         "0"
        ],
        [
         "8",
         "Lauren Johnson",
         "27",
         "2021-12-21 03:29:05",
         "Home",
         "12",
         "2",
         "0"
        ],
        [
         "9",
         "Lauren Johnson",
         "27",
         "2023-02-09 00:53:14",
         "Electronics",
         "40",
         "4",
         "0"
        ],
        [
         "10",
         "Carol Allen",
         "27",
         "2023-02-28 19:58:23",
         "Clothing",
         "410",
         "3",
         "0"
        ],
        [
         "11",
         "Carol Allen",
         "27",
         "2023-01-05 11:15:27",
         "Home",
         "304",
         "1",
         "0"
        ],
        [
         "12",
         "Carol Allen",
         "27",
         "2023-07-18 23:36:50",
         "Books",
         "54",
         "2",
         "0"
        ],
        [
         "13",
         "Carol Allen",
         "27",
         "2021-12-20 23:44:57",
         "Electronics",
         "428",
         "4",
         "0"
        ],
        [
         "14",
         "Carol Allen",
         "27",
         "2020-03-07 21:31:35",
         "Books",
         "281",
         "1",
         "0"
        ],
        [
         "15",
         "Carol Allen",
         "27",
         "2022-07-21 04:25:44",
         "Home",
         "193",
         "2",
         "0"
        ],
        [
         "16",
         "Carol Allen",
         "27",
         "2023-07-05 15:01:04",
         "Clothing",
         "473",
         "3",
         "0"
        ],
        [
         "17",
         "Curtis Smith",
         "20",
         "2020-10-18 23:38:52",
         "Books",
         "127",
         "5",
         "0"
        ],
        [
         "18",
         "Curtis Smith",
         "20",
         "2020-05-17 17:02:36",
         "Home",
         "284",
         "2",
         "0"
        ],
        [
         "19",
         "Curtis Smith",
         "20",
         "2022-03-18 13:52:08",
         "Electronics",
         "256",
         "2",
         "0"
        ],
        [
         "20",
         "Curtis Smith",
         "20",
         "2021-04-21 07:58:37",
         "Clothing",
         "252",
         "2",
         "0"
        ],
        [
         "21",
         "Curtis Smith",
         "20",
         "2022-01-26 12:50:30",
         "Electronics",
         "105",
         "2",
         "0"
        ],
        [
         "22",
         "Curtis Smith",
         "20",
         "2020-11-11 07:19:18",
         "Electronics",
         "193",
         "2",
         "0"
        ],
        [
         "23",
         "Curtis Smith",
         "20",
         "2023-04-29 23:31:47",
         "Home",
         "43",
         "1",
         "0"
        ],
        [
         "24",
         "Curtis Smith",
         "20",
         "2022-07-04 16:04:01",
         "Home",
         "30",
         "5",
         "0"
        ],
        [
         "25",
         "Curtis Smith",
         "20",
         "2021-08-01 05:27:13",
         "Electronics",
         "30",
         "3",
         "0"
        ],
        [
         "26",
         "Curtis Smith",
         "20",
         "2020-05-24 06:45:48",
         "Electronics",
         "307",
         "3",
         "0"
        ],
        [
         "27",
         "Curtis Smith",
         "20",
         "2022-03-24 00:05:26",
         "Electronics",
         "254",
         "1",
         "0"
        ],
        [
         "28",
         "Curtis Smith",
         "20",
         "2022-09-02 04:00:49",
         "Books",
         "12",
         "3",
         "0"
        ],
        [
         "29",
         "Curtis Smith",
         "20",
         "2021-11-14 10:23:14",
         "Books",
         "66",
         "3",
         "0"
        ],
        [
         "30",
         "Jose Green",
         "53",
         "2020-11-17 13:14:27",
         "Electronics",
         "102",
         "2",
         "0"
        ],
        [
         "31",
         "Jose Green",
         "53",
         "2021-05-07 09:54:22",
         "Books",
         "187",
         "5",
         "0"
        ],
        [
         "32",
         "Jose Green",
         "53",
         "2022-09-07 05:06:52",
         "Books",
         "86",
         "1",
         "0"
        ],
        [
         "33",
         "Jose Green",
         "53",
         "2020-07-05 06:30:39",
         "Electronics",
         "364",
         "3",
         "0"
        ],
        [
         "34",
         "Jose Green",
         "53",
         "2022-01-11 10:56:31",
         "Books",
         "210",
         "2",
         "0"
        ],
        [
         "35",
         "Linda Lee",
         "57",
         "2022-01-12 22:49:28",
         "Clothing",
         "304",
         "3",
         "0"
        ],
        [
         "36",
         "Linda Lee",
         "57",
         "2021-06-26 23:49:18",
         "Electronics",
         "329",
         "1",
         "0"
        ],
        [
         "37",
         "Linda Lee",
         "57",
         "2022-06-30 06:11:14",
         "Clothing",
         "306",
         "4",
         "0"
        ],
        [
         "38",
         "Linda Lee",
         "57",
         "2020-04-20 14:08:25",
         "Electronics",
         "165",
         "5",
         "0"
        ],
        [
         "39",
         "Linda Lee",
         "57",
         "2021-03-23 17:36:30",
         "Electronics",
         "218",
         "4",
         "0"
        ],
        [
         "40",
         "Joshua Davis",
         "34",
         "2023-05-16 01:34:44",
         "Clothing",
         "392",
         "3",
         "1"
        ],
        [
         "41",
         "Joshua Davis",
         "34",
         "2021-10-27 16:25:14",
         "Clothing",
         "238",
         "3",
         "1"
        ],
        [
         "42",
         "Joshua Davis",
         "34",
         "2021-12-09 07:43:45",
         "Books",
         "174",
         "5",
         "1"
        ],
        [
         "43",
         "Joshua Davis",
         "34",
         "2022-10-18 22:58:32",
         "Electronics",
         "41",
         "2",
         "1"
        ],
        [
         "44",
         "Ellen Kent",
         "45",
         "2021-08-20 23:25:47",
         "Books",
         "118",
         "2",
         "0"
        ],
        [
         "45",
         "Ellen Kent",
         "45",
         "2020-02-14 04:47:32",
         "Clothing",
         "14",
         "4",
         "0"
        ],
        [
         "46",
         "Ellen Kent",
         "45",
         "2021-11-28 19:39:49",
         "Home",
         "424",
         "1",
         "0"
        ],
        [
         "47",
         "Ellen Kent",
         "45",
         "2020-10-30 10:38:20",
         "Clothing",
         "351",
         "5",
         "0"
        ],
        [
         "48",
         "Ellen Kent",
         "45",
         "2020-11-25 09:05:42",
         "Clothing",
         "89",
         "1",
         "0"
        ],
        [
         "49",
         "Ellen Kent",
         "45",
         "2020-09-13 15:30:54",
         "Home",
         "287",
         "3",
         "0"
        ]
       ],
       "shape": {
        "columns": 7,
        "rows": 250000
       }
      },
      "text/html": [
       "<div>\n",
       "<style scoped>\n",
       "    .dataframe tbody tr th:only-of-type {\n",
       "        vertical-align: middle;\n",
       "    }\n",
       "\n",
       "    .dataframe tbody tr th {\n",
       "        vertical-align: top;\n",
       "    }\n",
       "\n",
       "    .dataframe thead th {\n",
       "        text-align: right;\n",
       "    }\n",
       "</style>\n",
       "<table border=\"1\" class=\"dataframe\">\n",
       "  <thead>\n",
       "    <tr style=\"text-align: right;\">\n",
       "      <th></th>\n",
       "      <th>Customer Name</th>\n",
       "      <th>Customer Age</th>\n",
       "      <th>Purchase Date</th>\n",
       "      <th>Product Category</th>\n",
       "      <th>Product Price</th>\n",
       "      <th>Quantity</th>\n",
       "      <th>Churn</th>\n",
       "    </tr>\n",
       "  </thead>\n",
       "  <tbody>\n",
       "    <tr>\n",
       "      <th>0</th>\n",
       "      <td>John Rivera</td>\n",
       "      <td>31</td>\n",
       "      <td>2023-05-03 21:30:02</td>\n",
       "      <td>Home</td>\n",
       "      <td>177</td>\n",
       "      <td>1</td>\n",
       "      <td>0</td>\n",
       "    </tr>\n",
       "    <tr>\n",
       "      <th>1</th>\n",
       "      <td>John Rivera</td>\n",
       "      <td>31</td>\n",
       "      <td>2021-05-16 13:57:44</td>\n",
       "      <td>Electronics</td>\n",
       "      <td>174</td>\n",
       "      <td>3</td>\n",
       "      <td>0</td>\n",
       "    </tr>\n",
       "    <tr>\n",
       "      <th>2</th>\n",
       "      <td>John Rivera</td>\n",
       "      <td>31</td>\n",
       "      <td>2020-07-13 06:16:57</td>\n",
       "      <td>Books</td>\n",
       "      <td>413</td>\n",
       "      <td>1</td>\n",
       "      <td>0</td>\n",
       "    </tr>\n",
       "    <tr>\n",
       "      <th>3</th>\n",
       "      <td>John Rivera</td>\n",
       "      <td>31</td>\n",
       "      <td>2023-01-17 13:14:36</td>\n",
       "      <td>Electronics</td>\n",
       "      <td>396</td>\n",
       "      <td>3</td>\n",
       "      <td>0</td>\n",
       "    </tr>\n",
       "    <tr>\n",
       "      <th>4</th>\n",
       "      <td>John Rivera</td>\n",
       "      <td>31</td>\n",
       "      <td>2021-05-01 11:29:27</td>\n",
       "      <td>Books</td>\n",
       "      <td>259</td>\n",
       "      <td>4</td>\n",
       "      <td>0</td>\n",
       "    </tr>\n",
       "    <tr>\n",
       "      <th>...</th>\n",
       "      <td>...</td>\n",
       "      <td>...</td>\n",
       "      <td>...</td>\n",
       "      <td>...</td>\n",
       "      <td>...</td>\n",
       "      <td>...</td>\n",
       "      <td>...</td>\n",
       "    </tr>\n",
       "    <tr>\n",
       "      <th>249995</th>\n",
       "      <td>Gabriel Williams</td>\n",
       "      <td>63</td>\n",
       "      <td>2023-01-24 12:32:18</td>\n",
       "      <td>Home</td>\n",
       "      <td>436</td>\n",
       "      <td>1</td>\n",
       "      <td>0</td>\n",
       "    </tr>\n",
       "    <tr>\n",
       "      <th>249996</th>\n",
       "      <td>Barry Foster</td>\n",
       "      <td>66</td>\n",
       "      <td>2021-06-04 05:45:25</td>\n",
       "      <td>Electronics</td>\n",
       "      <td>233</td>\n",
       "      <td>1</td>\n",
       "      <td>0</td>\n",
       "    </tr>\n",
       "    <tr>\n",
       "      <th>249997</th>\n",
       "      <td>Lisa Johnson</td>\n",
       "      <td>63</td>\n",
       "      <td>2022-11-10 17:11:57</td>\n",
       "      <td>Electronics</td>\n",
       "      <td>441</td>\n",
       "      <td>5</td>\n",
       "      <td>0</td>\n",
       "    </tr>\n",
       "    <tr>\n",
       "      <th>249998</th>\n",
       "      <td>Melissa Fernandez</td>\n",
       "      <td>64</td>\n",
       "      <td>2021-06-27 14:42:12</td>\n",
       "      <td>Electronics</td>\n",
       "      <td>44</td>\n",
       "      <td>2</td>\n",
       "      <td>0</td>\n",
       "    </tr>\n",
       "    <tr>\n",
       "      <th>249999</th>\n",
       "      <td>Angela Norton</td>\n",
       "      <td>32</td>\n",
       "      <td>2020-09-07 05:12:19</td>\n",
       "      <td>Home</td>\n",
       "      <td>307</td>\n",
       "      <td>5</td>\n",
       "      <td>0</td>\n",
       "    </tr>\n",
       "  </tbody>\n",
       "</table>\n",
       "<p>250000 rows × 7 columns</p>\n",
       "</div>"
      ],
      "text/plain": [
       "            Customer Name  Customer Age       Purchase Date Product Category  \\\n",
       "0             John Rivera            31 2023-05-03 21:30:02             Home   \n",
       "1             John Rivera            31 2021-05-16 13:57:44      Electronics   \n",
       "2             John Rivera            31 2020-07-13 06:16:57            Books   \n",
       "3             John Rivera            31 2023-01-17 13:14:36      Electronics   \n",
       "4             John Rivera            31 2021-05-01 11:29:27            Books   \n",
       "...                   ...           ...                 ...              ...   \n",
       "249995   Gabriel Williams            63 2023-01-24 12:32:18             Home   \n",
       "249996       Barry Foster            66 2021-06-04 05:45:25      Electronics   \n",
       "249997       Lisa Johnson            63 2022-11-10 17:11:57      Electronics   \n",
       "249998  Melissa Fernandez            64 2021-06-27 14:42:12      Electronics   \n",
       "249999      Angela Norton            32 2020-09-07 05:12:19             Home   \n",
       "\n",
       "        Product Price  Quantity  Churn  \n",
       "0                 177         1      0  \n",
       "1                 174         3      0  \n",
       "2                 413         1      0  \n",
       "3                 396         3      0  \n",
       "4                 259         4      0  \n",
       "...               ...       ...    ...  \n",
       "249995            436         1      0  \n",
       "249996            233         1      0  \n",
       "249997            441         5      0  \n",
       "249998             44         2      0  \n",
       "249999            307         5      0  \n",
       "\n",
       "[250000 rows x 7 columns]"
      ]
     },
     "execution_count": 53,
     "metadata": {},
     "output_type": "execute_result"
    }
   ],
   "source": [
    "cohort"
   ]
  },
  {
   "cell_type": "code",
   "execution_count": 54,
   "id": "4a4bde98",
   "metadata": {},
   "outputs": [],
   "source": [
    "cohort[\"first_purchase\"] = cohort.groupby(\"Customer Name\")[\"Purchase Date\"].transform(\"min\")"
   ]
  },
  {
   "cell_type": "code",
   "execution_count": 55,
   "id": "48196545",
   "metadata": {},
   "outputs": [
    {
     "data": {
      "application/vnd.microsoft.datawrangler.viewer.v0+json": {
       "columns": [
        {
         "name": "index",
         "rawType": "int64",
         "type": "integer"
        },
        {
         "name": "Customer Name",
         "rawType": "object",
         "type": "string"
        },
        {
         "name": "Customer Age",
         "rawType": "int64",
         "type": "integer"
        },
        {
         "name": "Purchase Date",
         "rawType": "datetime64[ns]",
         "type": "datetime"
        },
        {
         "name": "Product Category",
         "rawType": "object",
         "type": "string"
        },
        {
         "name": "Product Price",
         "rawType": "int64",
         "type": "integer"
        },
        {
         "name": "Quantity",
         "rawType": "int64",
         "type": "integer"
        },
        {
         "name": "Churn",
         "rawType": "int32",
         "type": "integer"
        },
        {
         "name": "first_purchase",
         "rawType": "datetime64[ns]",
         "type": "datetime"
        }
       ],
       "ref": "d0b05e60-2544-4b48-8dc2-3a9708284a6b",
       "rows": [
        [
         "0",
         "John Rivera",
         "31",
         "2023-05-03 21:30:02",
         "Home",
         "177",
         "1",
         "0",
         "2020-04-02 23:19:48"
        ],
        [
         "1",
         "John Rivera",
         "31",
         "2021-05-16 13:57:44",
         "Electronics",
         "174",
         "3",
         "0",
         "2020-04-02 23:19:48"
        ],
        [
         "2",
         "John Rivera",
         "31",
         "2020-07-13 06:16:57",
         "Books",
         "413",
         "1",
         "0",
         "2020-04-02 23:19:48"
        ],
        [
         "3",
         "John Rivera",
         "31",
         "2023-01-17 13:14:36",
         "Electronics",
         "396",
         "3",
         "0",
         "2020-04-02 23:19:48"
        ],
        [
         "4",
         "John Rivera",
         "31",
         "2021-05-01 11:29:27",
         "Books",
         "259",
         "4",
         "0",
         "2020-04-02 23:19:48"
        ],
        [
         "5",
         "Lauren Johnson",
         "27",
         "2022-08-25 06:48:33",
         "Home",
         "191",
         "3",
         "0",
         "2021-12-21 03:29:05"
        ],
        [
         "6",
         "Lauren Johnson",
         "27",
         "2023-07-25 05:17:24",
         "Electronics",
         "205",
         "1",
         "0",
         "2021-12-21 03:29:05"
        ],
        [
         "7",
         "Lauren Johnson",
         "27",
         "2023-02-05 19:31:48",
         "Books",
         "370",
         "5",
         "0",
         "2021-12-21 03:29:05"
        ],
        [
         "8",
         "Lauren Johnson",
         "27",
         "2021-12-21 03:29:05",
         "Home",
         "12",
         "2",
         "0",
         "2021-12-21 03:29:05"
        ],
        [
         "9",
         "Lauren Johnson",
         "27",
         "2023-02-09 00:53:14",
         "Electronics",
         "40",
         "4",
         "0",
         "2021-12-21 03:29:05"
        ],
        [
         "10",
         "Carol Allen",
         "27",
         "2023-02-28 19:58:23",
         "Clothing",
         "410",
         "3",
         "0",
         "2020-03-07 21:31:35"
        ],
        [
         "11",
         "Carol Allen",
         "27",
         "2023-01-05 11:15:27",
         "Home",
         "304",
         "1",
         "0",
         "2020-03-07 21:31:35"
        ],
        [
         "12",
         "Carol Allen",
         "27",
         "2023-07-18 23:36:50",
         "Books",
         "54",
         "2",
         "0",
         "2020-03-07 21:31:35"
        ],
        [
         "13",
         "Carol Allen",
         "27",
         "2021-12-20 23:44:57",
         "Electronics",
         "428",
         "4",
         "0",
         "2020-03-07 21:31:35"
        ],
        [
         "14",
         "Carol Allen",
         "27",
         "2020-03-07 21:31:35",
         "Books",
         "281",
         "1",
         "0",
         "2020-03-07 21:31:35"
        ],
        [
         "15",
         "Carol Allen",
         "27",
         "2022-07-21 04:25:44",
         "Home",
         "193",
         "2",
         "0",
         "2020-03-07 21:31:35"
        ],
        [
         "16",
         "Carol Allen",
         "27",
         "2023-07-05 15:01:04",
         "Clothing",
         "473",
         "3",
         "0",
         "2020-03-07 21:31:35"
        ],
        [
         "17",
         "Curtis Smith",
         "20",
         "2020-10-18 23:38:52",
         "Books",
         "127",
         "5",
         "0",
         "2020-05-17 17:02:36"
        ],
        [
         "18",
         "Curtis Smith",
         "20",
         "2020-05-17 17:02:36",
         "Home",
         "284",
         "2",
         "0",
         "2020-05-17 17:02:36"
        ],
        [
         "19",
         "Curtis Smith",
         "20",
         "2022-03-18 13:52:08",
         "Electronics",
         "256",
         "2",
         "0",
         "2020-05-17 17:02:36"
        ],
        [
         "20",
         "Curtis Smith",
         "20",
         "2021-04-21 07:58:37",
         "Clothing",
         "252",
         "2",
         "0",
         "2020-05-17 17:02:36"
        ],
        [
         "21",
         "Curtis Smith",
         "20",
         "2022-01-26 12:50:30",
         "Electronics",
         "105",
         "2",
         "0",
         "2020-05-17 17:02:36"
        ],
        [
         "22",
         "Curtis Smith",
         "20",
         "2020-11-11 07:19:18",
         "Electronics",
         "193",
         "2",
         "0",
         "2020-05-17 17:02:36"
        ],
        [
         "23",
         "Curtis Smith",
         "20",
         "2023-04-29 23:31:47",
         "Home",
         "43",
         "1",
         "0",
         "2020-05-17 17:02:36"
        ],
        [
         "24",
         "Curtis Smith",
         "20",
         "2022-07-04 16:04:01",
         "Home",
         "30",
         "5",
         "0",
         "2020-05-17 17:02:36"
        ],
        [
         "25",
         "Curtis Smith",
         "20",
         "2021-08-01 05:27:13",
         "Electronics",
         "30",
         "3",
         "0",
         "2020-05-17 17:02:36"
        ],
        [
         "26",
         "Curtis Smith",
         "20",
         "2020-05-24 06:45:48",
         "Electronics",
         "307",
         "3",
         "0",
         "2020-05-17 17:02:36"
        ],
        [
         "27",
         "Curtis Smith",
         "20",
         "2022-03-24 00:05:26",
         "Electronics",
         "254",
         "1",
         "0",
         "2020-05-17 17:02:36"
        ],
        [
         "28",
         "Curtis Smith",
         "20",
         "2022-09-02 04:00:49",
         "Books",
         "12",
         "3",
         "0",
         "2020-05-17 17:02:36"
        ],
        [
         "29",
         "Curtis Smith",
         "20",
         "2021-11-14 10:23:14",
         "Books",
         "66",
         "3",
         "0",
         "2020-05-17 17:02:36"
        ],
        [
         "30",
         "Jose Green",
         "53",
         "2020-11-17 13:14:27",
         "Electronics",
         "102",
         "2",
         "0",
         "2020-07-05 06:30:39"
        ],
        [
         "31",
         "Jose Green",
         "53",
         "2021-05-07 09:54:22",
         "Books",
         "187",
         "5",
         "0",
         "2020-07-05 06:30:39"
        ],
        [
         "32",
         "Jose Green",
         "53",
         "2022-09-07 05:06:52",
         "Books",
         "86",
         "1",
         "0",
         "2020-07-05 06:30:39"
        ],
        [
         "33",
         "Jose Green",
         "53",
         "2020-07-05 06:30:39",
         "Electronics",
         "364",
         "3",
         "0",
         "2020-07-05 06:30:39"
        ],
        [
         "34",
         "Jose Green",
         "53",
         "2022-01-11 10:56:31",
         "Books",
         "210",
         "2",
         "0",
         "2020-07-05 06:30:39"
        ],
        [
         "35",
         "Linda Lee",
         "57",
         "2022-01-12 22:49:28",
         "Clothing",
         "304",
         "3",
         "0",
         "2020-04-20 14:08:25"
        ],
        [
         "36",
         "Linda Lee",
         "57",
         "2021-06-26 23:49:18",
         "Electronics",
         "329",
         "1",
         "0",
         "2020-04-20 14:08:25"
        ],
        [
         "37",
         "Linda Lee",
         "57",
         "2022-06-30 06:11:14",
         "Clothing",
         "306",
         "4",
         "0",
         "2020-04-20 14:08:25"
        ],
        [
         "38",
         "Linda Lee",
         "57",
         "2020-04-20 14:08:25",
         "Electronics",
         "165",
         "5",
         "0",
         "2020-04-20 14:08:25"
        ],
        [
         "39",
         "Linda Lee",
         "57",
         "2021-03-23 17:36:30",
         "Electronics",
         "218",
         "4",
         "0",
         "2020-04-20 14:08:25"
        ],
        [
         "40",
         "Joshua Davis",
         "34",
         "2023-05-16 01:34:44",
         "Clothing",
         "392",
         "3",
         "1",
         "2020-05-27 22:17:28"
        ],
        [
         "41",
         "Joshua Davis",
         "34",
         "2021-10-27 16:25:14",
         "Clothing",
         "238",
         "3",
         "1",
         "2020-05-27 22:17:28"
        ],
        [
         "42",
         "Joshua Davis",
         "34",
         "2021-12-09 07:43:45",
         "Books",
         "174",
         "5",
         "1",
         "2020-05-27 22:17:28"
        ],
        [
         "43",
         "Joshua Davis",
         "34",
         "2022-10-18 22:58:32",
         "Electronics",
         "41",
         "2",
         "1",
         "2020-05-27 22:17:28"
        ],
        [
         "44",
         "Ellen Kent",
         "45",
         "2021-08-20 23:25:47",
         "Books",
         "118",
         "2",
         "0",
         "2020-02-14 04:47:32"
        ],
        [
         "45",
         "Ellen Kent",
         "45",
         "2020-02-14 04:47:32",
         "Clothing",
         "14",
         "4",
         "0",
         "2020-02-14 04:47:32"
        ],
        [
         "46",
         "Ellen Kent",
         "45",
         "2021-11-28 19:39:49",
         "Home",
         "424",
         "1",
         "0",
         "2020-02-14 04:47:32"
        ],
        [
         "47",
         "Ellen Kent",
         "45",
         "2020-10-30 10:38:20",
         "Clothing",
         "351",
         "5",
         "0",
         "2020-02-14 04:47:32"
        ],
        [
         "48",
         "Ellen Kent",
         "45",
         "2020-11-25 09:05:42",
         "Clothing",
         "89",
         "1",
         "0",
         "2020-02-14 04:47:32"
        ],
        [
         "49",
         "Ellen Kent",
         "45",
         "2020-09-13 15:30:54",
         "Home",
         "287",
         "3",
         "0",
         "2020-02-14 04:47:32"
        ]
       ],
       "shape": {
        "columns": 8,
        "rows": 250000
       }
      },
      "text/html": [
       "<div>\n",
       "<style scoped>\n",
       "    .dataframe tbody tr th:only-of-type {\n",
       "        vertical-align: middle;\n",
       "    }\n",
       "\n",
       "    .dataframe tbody tr th {\n",
       "        vertical-align: top;\n",
       "    }\n",
       "\n",
       "    .dataframe thead th {\n",
       "        text-align: right;\n",
       "    }\n",
       "</style>\n",
       "<table border=\"1\" class=\"dataframe\">\n",
       "  <thead>\n",
       "    <tr style=\"text-align: right;\">\n",
       "      <th></th>\n",
       "      <th>Customer Name</th>\n",
       "      <th>Customer Age</th>\n",
       "      <th>Purchase Date</th>\n",
       "      <th>Product Category</th>\n",
       "      <th>Product Price</th>\n",
       "      <th>Quantity</th>\n",
       "      <th>Churn</th>\n",
       "      <th>first_purchase</th>\n",
       "    </tr>\n",
       "  </thead>\n",
       "  <tbody>\n",
       "    <tr>\n",
       "      <th>0</th>\n",
       "      <td>John Rivera</td>\n",
       "      <td>31</td>\n",
       "      <td>2023-05-03 21:30:02</td>\n",
       "      <td>Home</td>\n",
       "      <td>177</td>\n",
       "      <td>1</td>\n",
       "      <td>0</td>\n",
       "      <td>2020-04-02 23:19:48</td>\n",
       "    </tr>\n",
       "    <tr>\n",
       "      <th>1</th>\n",
       "      <td>John Rivera</td>\n",
       "      <td>31</td>\n",
       "      <td>2021-05-16 13:57:44</td>\n",
       "      <td>Electronics</td>\n",
       "      <td>174</td>\n",
       "      <td>3</td>\n",
       "      <td>0</td>\n",
       "      <td>2020-04-02 23:19:48</td>\n",
       "    </tr>\n",
       "    <tr>\n",
       "      <th>2</th>\n",
       "      <td>John Rivera</td>\n",
       "      <td>31</td>\n",
       "      <td>2020-07-13 06:16:57</td>\n",
       "      <td>Books</td>\n",
       "      <td>413</td>\n",
       "      <td>1</td>\n",
       "      <td>0</td>\n",
       "      <td>2020-04-02 23:19:48</td>\n",
       "    </tr>\n",
       "    <tr>\n",
       "      <th>3</th>\n",
       "      <td>John Rivera</td>\n",
       "      <td>31</td>\n",
       "      <td>2023-01-17 13:14:36</td>\n",
       "      <td>Electronics</td>\n",
       "      <td>396</td>\n",
       "      <td>3</td>\n",
       "      <td>0</td>\n",
       "      <td>2020-04-02 23:19:48</td>\n",
       "    </tr>\n",
       "    <tr>\n",
       "      <th>4</th>\n",
       "      <td>John Rivera</td>\n",
       "      <td>31</td>\n",
       "      <td>2021-05-01 11:29:27</td>\n",
       "      <td>Books</td>\n",
       "      <td>259</td>\n",
       "      <td>4</td>\n",
       "      <td>0</td>\n",
       "      <td>2020-04-02 23:19:48</td>\n",
       "    </tr>\n",
       "    <tr>\n",
       "      <th>...</th>\n",
       "      <td>...</td>\n",
       "      <td>...</td>\n",
       "      <td>...</td>\n",
       "      <td>...</td>\n",
       "      <td>...</td>\n",
       "      <td>...</td>\n",
       "      <td>...</td>\n",
       "      <td>...</td>\n",
       "    </tr>\n",
       "    <tr>\n",
       "      <th>249995</th>\n",
       "      <td>Gabriel Williams</td>\n",
       "      <td>63</td>\n",
       "      <td>2023-01-24 12:32:18</td>\n",
       "      <td>Home</td>\n",
       "      <td>436</td>\n",
       "      <td>1</td>\n",
       "      <td>0</td>\n",
       "      <td>2023-01-24 12:32:18</td>\n",
       "    </tr>\n",
       "    <tr>\n",
       "      <th>249996</th>\n",
       "      <td>Barry Foster</td>\n",
       "      <td>66</td>\n",
       "      <td>2021-06-04 05:45:25</td>\n",
       "      <td>Electronics</td>\n",
       "      <td>233</td>\n",
       "      <td>1</td>\n",
       "      <td>0</td>\n",
       "      <td>2021-06-04 05:45:25</td>\n",
       "    </tr>\n",
       "    <tr>\n",
       "      <th>249997</th>\n",
       "      <td>Lisa Johnson</td>\n",
       "      <td>63</td>\n",
       "      <td>2022-11-10 17:11:57</td>\n",
       "      <td>Electronics</td>\n",
       "      <td>441</td>\n",
       "      <td>5</td>\n",
       "      <td>0</td>\n",
       "      <td>2020-02-09 07:13:06</td>\n",
       "    </tr>\n",
       "    <tr>\n",
       "      <th>249998</th>\n",
       "      <td>Melissa Fernandez</td>\n",
       "      <td>64</td>\n",
       "      <td>2021-06-27 14:42:12</td>\n",
       "      <td>Electronics</td>\n",
       "      <td>44</td>\n",
       "      <td>2</td>\n",
       "      <td>0</td>\n",
       "      <td>2020-05-16 07:27:05</td>\n",
       "    </tr>\n",
       "    <tr>\n",
       "      <th>249999</th>\n",
       "      <td>Angela Norton</td>\n",
       "      <td>32</td>\n",
       "      <td>2020-09-07 05:12:19</td>\n",
       "      <td>Home</td>\n",
       "      <td>307</td>\n",
       "      <td>5</td>\n",
       "      <td>0</td>\n",
       "      <td>2020-09-07 05:12:19</td>\n",
       "    </tr>\n",
       "  </tbody>\n",
       "</table>\n",
       "<p>250000 rows × 8 columns</p>\n",
       "</div>"
      ],
      "text/plain": [
       "            Customer Name  Customer Age       Purchase Date Product Category  \\\n",
       "0             John Rivera            31 2023-05-03 21:30:02             Home   \n",
       "1             John Rivera            31 2021-05-16 13:57:44      Electronics   \n",
       "2             John Rivera            31 2020-07-13 06:16:57            Books   \n",
       "3             John Rivera            31 2023-01-17 13:14:36      Electronics   \n",
       "4             John Rivera            31 2021-05-01 11:29:27            Books   \n",
       "...                   ...           ...                 ...              ...   \n",
       "249995   Gabriel Williams            63 2023-01-24 12:32:18             Home   \n",
       "249996       Barry Foster            66 2021-06-04 05:45:25      Electronics   \n",
       "249997       Lisa Johnson            63 2022-11-10 17:11:57      Electronics   \n",
       "249998  Melissa Fernandez            64 2021-06-27 14:42:12      Electronics   \n",
       "249999      Angela Norton            32 2020-09-07 05:12:19             Home   \n",
       "\n",
       "        Product Price  Quantity  Churn      first_purchase  \n",
       "0                 177         1      0 2020-04-02 23:19:48  \n",
       "1                 174         3      0 2020-04-02 23:19:48  \n",
       "2                 413         1      0 2020-04-02 23:19:48  \n",
       "3                 396         3      0 2020-04-02 23:19:48  \n",
       "4                 259         4      0 2020-04-02 23:19:48  \n",
       "...               ...       ...    ...                 ...  \n",
       "249995            436         1      0 2023-01-24 12:32:18  \n",
       "249996            233         1      0 2021-06-04 05:45:25  \n",
       "249997            441         5      0 2020-02-09 07:13:06  \n",
       "249998             44         2      0 2020-05-16 07:27:05  \n",
       "249999            307         5      0 2020-09-07 05:12:19  \n",
       "\n",
       "[250000 rows x 8 columns]"
      ]
     },
     "execution_count": 55,
     "metadata": {},
     "output_type": "execute_result"
    }
   ],
   "source": [
    "cohort"
   ]
  },
  {
   "cell_type": "code",
   "execution_count": 56,
   "id": "aa107905",
   "metadata": {},
   "outputs": [
    {
     "data": {
      "application/vnd.microsoft.datawrangler.viewer.v0+json": {
       "columns": [
        {
         "name": "index",
         "rawType": "object",
         "type": "string"
        },
        {
         "name": "0",
         "rawType": "object",
         "type": "unknown"
        }
       ],
       "ref": "1c7acb3a-7e97-4616-a012-df4da7e0a520",
       "rows": [
        [
         "Customer Name",
         "object"
        ],
        [
         "Customer Age",
         "int64"
        ],
        [
         "Purchase Date",
         "datetime64[ns]"
        ],
        [
         "Product Category",
         "object"
        ],
        [
         "Product Price",
         "int64"
        ],
        [
         "Quantity",
         "int64"
        ],
        [
         "Churn",
         "int32"
        ],
        [
         "first_purchase",
         "datetime64[ns]"
        ]
       ],
       "shape": {
        "columns": 1,
        "rows": 8
       }
      },
      "text/plain": [
       "Customer Name               object\n",
       "Customer Age                 int64\n",
       "Purchase Date       datetime64[ns]\n",
       "Product Category            object\n",
       "Product Price                int64\n",
       "Quantity                     int64\n",
       "Churn                        int32\n",
       "first_purchase      datetime64[ns]\n",
       "dtype: object"
      ]
     },
     "execution_count": 56,
     "metadata": {},
     "output_type": "execute_result"
    }
   ],
   "source": [
    "cohort.dtypes"
   ]
  },
  {
   "cell_type": "code",
   "execution_count": 57,
   "id": "2979e6b1",
   "metadata": {},
   "outputs": [],
   "source": [
    "cohort['purchase_month'] = cohort['Purchase Date'].dt.to_period('M')\n",
    "cohort['cohort_month'] =cohort['first_purchase'].dt.to_period('M')"
   ]
  },
  {
   "cell_type": "code",
   "execution_count": 58,
   "id": "011d6b43",
   "metadata": {},
   "outputs": [
    {
     "data": {
      "application/vnd.microsoft.datawrangler.viewer.v0+json": {
       "columns": [
        {
         "name": "index",
         "rawType": "int64",
         "type": "integer"
        },
        {
         "name": "Customer Name",
         "rawType": "object",
         "type": "string"
        },
        {
         "name": "Customer Age",
         "rawType": "int64",
         "type": "integer"
        },
        {
         "name": "Purchase Date",
         "rawType": "datetime64[ns]",
         "type": "datetime"
        },
        {
         "name": "Product Category",
         "rawType": "object",
         "type": "string"
        },
        {
         "name": "Product Price",
         "rawType": "int64",
         "type": "integer"
        },
        {
         "name": "Quantity",
         "rawType": "int64",
         "type": "integer"
        },
        {
         "name": "Churn",
         "rawType": "int32",
         "type": "integer"
        },
        {
         "name": "first_purchase",
         "rawType": "datetime64[ns]",
         "type": "datetime"
        },
        {
         "name": "purchase_month",
         "rawType": "period[M]",
         "type": "unknown"
        },
        {
         "name": "cohort_month",
         "rawType": "period[M]",
         "type": "unknown"
        }
       ],
       "ref": "b29b442f-1296-48cb-b4ef-e07133bfcf4b",
       "rows": [
        [
         "0",
         "John Rivera",
         "31",
         "2023-05-03 21:30:02",
         "Home",
         "177",
         "1",
         "0",
         "2020-04-02 23:19:48",
         "2023-05",
         "2020-04"
        ],
        [
         "1",
         "John Rivera",
         "31",
         "2021-05-16 13:57:44",
         "Electronics",
         "174",
         "3",
         "0",
         "2020-04-02 23:19:48",
         "2021-05",
         "2020-04"
        ],
        [
         "2",
         "John Rivera",
         "31",
         "2020-07-13 06:16:57",
         "Books",
         "413",
         "1",
         "0",
         "2020-04-02 23:19:48",
         "2020-07",
         "2020-04"
        ],
        [
         "3",
         "John Rivera",
         "31",
         "2023-01-17 13:14:36",
         "Electronics",
         "396",
         "3",
         "0",
         "2020-04-02 23:19:48",
         "2023-01",
         "2020-04"
        ],
        [
         "4",
         "John Rivera",
         "31",
         "2021-05-01 11:29:27",
         "Books",
         "259",
         "4",
         "0",
         "2020-04-02 23:19:48",
         "2021-05",
         "2020-04"
        ],
        [
         "5",
         "Lauren Johnson",
         "27",
         "2022-08-25 06:48:33",
         "Home",
         "191",
         "3",
         "0",
         "2021-12-21 03:29:05",
         "2022-08",
         "2021-12"
        ],
        [
         "6",
         "Lauren Johnson",
         "27",
         "2023-07-25 05:17:24",
         "Electronics",
         "205",
         "1",
         "0",
         "2021-12-21 03:29:05",
         "2023-07",
         "2021-12"
        ],
        [
         "7",
         "Lauren Johnson",
         "27",
         "2023-02-05 19:31:48",
         "Books",
         "370",
         "5",
         "0",
         "2021-12-21 03:29:05",
         "2023-02",
         "2021-12"
        ],
        [
         "8",
         "Lauren Johnson",
         "27",
         "2021-12-21 03:29:05",
         "Home",
         "12",
         "2",
         "0",
         "2021-12-21 03:29:05",
         "2021-12",
         "2021-12"
        ],
        [
         "9",
         "Lauren Johnson",
         "27",
         "2023-02-09 00:53:14",
         "Electronics",
         "40",
         "4",
         "0",
         "2021-12-21 03:29:05",
         "2023-02",
         "2021-12"
        ],
        [
         "10",
         "Carol Allen",
         "27",
         "2023-02-28 19:58:23",
         "Clothing",
         "410",
         "3",
         "0",
         "2020-03-07 21:31:35",
         "2023-02",
         "2020-03"
        ],
        [
         "11",
         "Carol Allen",
         "27",
         "2023-01-05 11:15:27",
         "Home",
         "304",
         "1",
         "0",
         "2020-03-07 21:31:35",
         "2023-01",
         "2020-03"
        ],
        [
         "12",
         "Carol Allen",
         "27",
         "2023-07-18 23:36:50",
         "Books",
         "54",
         "2",
         "0",
         "2020-03-07 21:31:35",
         "2023-07",
         "2020-03"
        ],
        [
         "13",
         "Carol Allen",
         "27",
         "2021-12-20 23:44:57",
         "Electronics",
         "428",
         "4",
         "0",
         "2020-03-07 21:31:35",
         "2021-12",
         "2020-03"
        ],
        [
         "14",
         "Carol Allen",
         "27",
         "2020-03-07 21:31:35",
         "Books",
         "281",
         "1",
         "0",
         "2020-03-07 21:31:35",
         "2020-03",
         "2020-03"
        ],
        [
         "15",
         "Carol Allen",
         "27",
         "2022-07-21 04:25:44",
         "Home",
         "193",
         "2",
         "0",
         "2020-03-07 21:31:35",
         "2022-07",
         "2020-03"
        ],
        [
         "16",
         "Carol Allen",
         "27",
         "2023-07-05 15:01:04",
         "Clothing",
         "473",
         "3",
         "0",
         "2020-03-07 21:31:35",
         "2023-07",
         "2020-03"
        ],
        [
         "17",
         "Curtis Smith",
         "20",
         "2020-10-18 23:38:52",
         "Books",
         "127",
         "5",
         "0",
         "2020-05-17 17:02:36",
         "2020-10",
         "2020-05"
        ],
        [
         "18",
         "Curtis Smith",
         "20",
         "2020-05-17 17:02:36",
         "Home",
         "284",
         "2",
         "0",
         "2020-05-17 17:02:36",
         "2020-05",
         "2020-05"
        ],
        [
         "19",
         "Curtis Smith",
         "20",
         "2022-03-18 13:52:08",
         "Electronics",
         "256",
         "2",
         "0",
         "2020-05-17 17:02:36",
         "2022-03",
         "2020-05"
        ],
        [
         "20",
         "Curtis Smith",
         "20",
         "2021-04-21 07:58:37",
         "Clothing",
         "252",
         "2",
         "0",
         "2020-05-17 17:02:36",
         "2021-04",
         "2020-05"
        ],
        [
         "21",
         "Curtis Smith",
         "20",
         "2022-01-26 12:50:30",
         "Electronics",
         "105",
         "2",
         "0",
         "2020-05-17 17:02:36",
         "2022-01",
         "2020-05"
        ],
        [
         "22",
         "Curtis Smith",
         "20",
         "2020-11-11 07:19:18",
         "Electronics",
         "193",
         "2",
         "0",
         "2020-05-17 17:02:36",
         "2020-11",
         "2020-05"
        ],
        [
         "23",
         "Curtis Smith",
         "20",
         "2023-04-29 23:31:47",
         "Home",
         "43",
         "1",
         "0",
         "2020-05-17 17:02:36",
         "2023-04",
         "2020-05"
        ],
        [
         "24",
         "Curtis Smith",
         "20",
         "2022-07-04 16:04:01",
         "Home",
         "30",
         "5",
         "0",
         "2020-05-17 17:02:36",
         "2022-07",
         "2020-05"
        ],
        [
         "25",
         "Curtis Smith",
         "20",
         "2021-08-01 05:27:13",
         "Electronics",
         "30",
         "3",
         "0",
         "2020-05-17 17:02:36",
         "2021-08",
         "2020-05"
        ],
        [
         "26",
         "Curtis Smith",
         "20",
         "2020-05-24 06:45:48",
         "Electronics",
         "307",
         "3",
         "0",
         "2020-05-17 17:02:36",
         "2020-05",
         "2020-05"
        ],
        [
         "27",
         "Curtis Smith",
         "20",
         "2022-03-24 00:05:26",
         "Electronics",
         "254",
         "1",
         "0",
         "2020-05-17 17:02:36",
         "2022-03",
         "2020-05"
        ],
        [
         "28",
         "Curtis Smith",
         "20",
         "2022-09-02 04:00:49",
         "Books",
         "12",
         "3",
         "0",
         "2020-05-17 17:02:36",
         "2022-09",
         "2020-05"
        ],
        [
         "29",
         "Curtis Smith",
         "20",
         "2021-11-14 10:23:14",
         "Books",
         "66",
         "3",
         "0",
         "2020-05-17 17:02:36",
         "2021-11",
         "2020-05"
        ],
        [
         "30",
         "Jose Green",
         "53",
         "2020-11-17 13:14:27",
         "Electronics",
         "102",
         "2",
         "0",
         "2020-07-05 06:30:39",
         "2020-11",
         "2020-07"
        ],
        [
         "31",
         "Jose Green",
         "53",
         "2021-05-07 09:54:22",
         "Books",
         "187",
         "5",
         "0",
         "2020-07-05 06:30:39",
         "2021-05",
         "2020-07"
        ],
        [
         "32",
         "Jose Green",
         "53",
         "2022-09-07 05:06:52",
         "Books",
         "86",
         "1",
         "0",
         "2020-07-05 06:30:39",
         "2022-09",
         "2020-07"
        ],
        [
         "33",
         "Jose Green",
         "53",
         "2020-07-05 06:30:39",
         "Electronics",
         "364",
         "3",
         "0",
         "2020-07-05 06:30:39",
         "2020-07",
         "2020-07"
        ],
        [
         "34",
         "Jose Green",
         "53",
         "2022-01-11 10:56:31",
         "Books",
         "210",
         "2",
         "0",
         "2020-07-05 06:30:39",
         "2022-01",
         "2020-07"
        ],
        [
         "35",
         "Linda Lee",
         "57",
         "2022-01-12 22:49:28",
         "Clothing",
         "304",
         "3",
         "0",
         "2020-04-20 14:08:25",
         "2022-01",
         "2020-04"
        ],
        [
         "36",
         "Linda Lee",
         "57",
         "2021-06-26 23:49:18",
         "Electronics",
         "329",
         "1",
         "0",
         "2020-04-20 14:08:25",
         "2021-06",
         "2020-04"
        ],
        [
         "37",
         "Linda Lee",
         "57",
         "2022-06-30 06:11:14",
         "Clothing",
         "306",
         "4",
         "0",
         "2020-04-20 14:08:25",
         "2022-06",
         "2020-04"
        ],
        [
         "38",
         "Linda Lee",
         "57",
         "2020-04-20 14:08:25",
         "Electronics",
         "165",
         "5",
         "0",
         "2020-04-20 14:08:25",
         "2020-04",
         "2020-04"
        ],
        [
         "39",
         "Linda Lee",
         "57",
         "2021-03-23 17:36:30",
         "Electronics",
         "218",
         "4",
         "0",
         "2020-04-20 14:08:25",
         "2021-03",
         "2020-04"
        ],
        [
         "40",
         "Joshua Davis",
         "34",
         "2023-05-16 01:34:44",
         "Clothing",
         "392",
         "3",
         "1",
         "2020-05-27 22:17:28",
         "2023-05",
         "2020-05"
        ],
        [
         "41",
         "Joshua Davis",
         "34",
         "2021-10-27 16:25:14",
         "Clothing",
         "238",
         "3",
         "1",
         "2020-05-27 22:17:28",
         "2021-10",
         "2020-05"
        ],
        [
         "42",
         "Joshua Davis",
         "34",
         "2021-12-09 07:43:45",
         "Books",
         "174",
         "5",
         "1",
         "2020-05-27 22:17:28",
         "2021-12",
         "2020-05"
        ],
        [
         "43",
         "Joshua Davis",
         "34",
         "2022-10-18 22:58:32",
         "Electronics",
         "41",
         "2",
         "1",
         "2020-05-27 22:17:28",
         "2022-10",
         "2020-05"
        ],
        [
         "44",
         "Ellen Kent",
         "45",
         "2021-08-20 23:25:47",
         "Books",
         "118",
         "2",
         "0",
         "2020-02-14 04:47:32",
         "2021-08",
         "2020-02"
        ],
        [
         "45",
         "Ellen Kent",
         "45",
         "2020-02-14 04:47:32",
         "Clothing",
         "14",
         "4",
         "0",
         "2020-02-14 04:47:32",
         "2020-02",
         "2020-02"
        ],
        [
         "46",
         "Ellen Kent",
         "45",
         "2021-11-28 19:39:49",
         "Home",
         "424",
         "1",
         "0",
         "2020-02-14 04:47:32",
         "2021-11",
         "2020-02"
        ],
        [
         "47",
         "Ellen Kent",
         "45",
         "2020-10-30 10:38:20",
         "Clothing",
         "351",
         "5",
         "0",
         "2020-02-14 04:47:32",
         "2020-10",
         "2020-02"
        ],
        [
         "48",
         "Ellen Kent",
         "45",
         "2020-11-25 09:05:42",
         "Clothing",
         "89",
         "1",
         "0",
         "2020-02-14 04:47:32",
         "2020-11",
         "2020-02"
        ],
        [
         "49",
         "Ellen Kent",
         "45",
         "2020-09-13 15:30:54",
         "Home",
         "287",
         "3",
         "0",
         "2020-02-14 04:47:32",
         "2020-09",
         "2020-02"
        ]
       ],
       "shape": {
        "columns": 10,
        "rows": 250000
       }
      },
      "text/html": [
       "<div>\n",
       "<style scoped>\n",
       "    .dataframe tbody tr th:only-of-type {\n",
       "        vertical-align: middle;\n",
       "    }\n",
       "\n",
       "    .dataframe tbody tr th {\n",
       "        vertical-align: top;\n",
       "    }\n",
       "\n",
       "    .dataframe thead th {\n",
       "        text-align: right;\n",
       "    }\n",
       "</style>\n",
       "<table border=\"1\" class=\"dataframe\">\n",
       "  <thead>\n",
       "    <tr style=\"text-align: right;\">\n",
       "      <th></th>\n",
       "      <th>Customer Name</th>\n",
       "      <th>Customer Age</th>\n",
       "      <th>Purchase Date</th>\n",
       "      <th>Product Category</th>\n",
       "      <th>Product Price</th>\n",
       "      <th>Quantity</th>\n",
       "      <th>Churn</th>\n",
       "      <th>first_purchase</th>\n",
       "      <th>purchase_month</th>\n",
       "      <th>cohort_month</th>\n",
       "    </tr>\n",
       "  </thead>\n",
       "  <tbody>\n",
       "    <tr>\n",
       "      <th>0</th>\n",
       "      <td>John Rivera</td>\n",
       "      <td>31</td>\n",
       "      <td>2023-05-03 21:30:02</td>\n",
       "      <td>Home</td>\n",
       "      <td>177</td>\n",
       "      <td>1</td>\n",
       "      <td>0</td>\n",
       "      <td>2020-04-02 23:19:48</td>\n",
       "      <td>2023-05</td>\n",
       "      <td>2020-04</td>\n",
       "    </tr>\n",
       "    <tr>\n",
       "      <th>1</th>\n",
       "      <td>John Rivera</td>\n",
       "      <td>31</td>\n",
       "      <td>2021-05-16 13:57:44</td>\n",
       "      <td>Electronics</td>\n",
       "      <td>174</td>\n",
       "      <td>3</td>\n",
       "      <td>0</td>\n",
       "      <td>2020-04-02 23:19:48</td>\n",
       "      <td>2021-05</td>\n",
       "      <td>2020-04</td>\n",
       "    </tr>\n",
       "    <tr>\n",
       "      <th>2</th>\n",
       "      <td>John Rivera</td>\n",
       "      <td>31</td>\n",
       "      <td>2020-07-13 06:16:57</td>\n",
       "      <td>Books</td>\n",
       "      <td>413</td>\n",
       "      <td>1</td>\n",
       "      <td>0</td>\n",
       "      <td>2020-04-02 23:19:48</td>\n",
       "      <td>2020-07</td>\n",
       "      <td>2020-04</td>\n",
       "    </tr>\n",
       "    <tr>\n",
       "      <th>3</th>\n",
       "      <td>John Rivera</td>\n",
       "      <td>31</td>\n",
       "      <td>2023-01-17 13:14:36</td>\n",
       "      <td>Electronics</td>\n",
       "      <td>396</td>\n",
       "      <td>3</td>\n",
       "      <td>0</td>\n",
       "      <td>2020-04-02 23:19:48</td>\n",
       "      <td>2023-01</td>\n",
       "      <td>2020-04</td>\n",
       "    </tr>\n",
       "    <tr>\n",
       "      <th>4</th>\n",
       "      <td>John Rivera</td>\n",
       "      <td>31</td>\n",
       "      <td>2021-05-01 11:29:27</td>\n",
       "      <td>Books</td>\n",
       "      <td>259</td>\n",
       "      <td>4</td>\n",
       "      <td>0</td>\n",
       "      <td>2020-04-02 23:19:48</td>\n",
       "      <td>2021-05</td>\n",
       "      <td>2020-04</td>\n",
       "    </tr>\n",
       "    <tr>\n",
       "      <th>...</th>\n",
       "      <td>...</td>\n",
       "      <td>...</td>\n",
       "      <td>...</td>\n",
       "      <td>...</td>\n",
       "      <td>...</td>\n",
       "      <td>...</td>\n",
       "      <td>...</td>\n",
       "      <td>...</td>\n",
       "      <td>...</td>\n",
       "      <td>...</td>\n",
       "    </tr>\n",
       "    <tr>\n",
       "      <th>249995</th>\n",
       "      <td>Gabriel Williams</td>\n",
       "      <td>63</td>\n",
       "      <td>2023-01-24 12:32:18</td>\n",
       "      <td>Home</td>\n",
       "      <td>436</td>\n",
       "      <td>1</td>\n",
       "      <td>0</td>\n",
       "      <td>2023-01-24 12:32:18</td>\n",
       "      <td>2023-01</td>\n",
       "      <td>2023-01</td>\n",
       "    </tr>\n",
       "    <tr>\n",
       "      <th>249996</th>\n",
       "      <td>Barry Foster</td>\n",
       "      <td>66</td>\n",
       "      <td>2021-06-04 05:45:25</td>\n",
       "      <td>Electronics</td>\n",
       "      <td>233</td>\n",
       "      <td>1</td>\n",
       "      <td>0</td>\n",
       "      <td>2021-06-04 05:45:25</td>\n",
       "      <td>2021-06</td>\n",
       "      <td>2021-06</td>\n",
       "    </tr>\n",
       "    <tr>\n",
       "      <th>249997</th>\n",
       "      <td>Lisa Johnson</td>\n",
       "      <td>63</td>\n",
       "      <td>2022-11-10 17:11:57</td>\n",
       "      <td>Electronics</td>\n",
       "      <td>441</td>\n",
       "      <td>5</td>\n",
       "      <td>0</td>\n",
       "      <td>2020-02-09 07:13:06</td>\n",
       "      <td>2022-11</td>\n",
       "      <td>2020-02</td>\n",
       "    </tr>\n",
       "    <tr>\n",
       "      <th>249998</th>\n",
       "      <td>Melissa Fernandez</td>\n",
       "      <td>64</td>\n",
       "      <td>2021-06-27 14:42:12</td>\n",
       "      <td>Electronics</td>\n",
       "      <td>44</td>\n",
       "      <td>2</td>\n",
       "      <td>0</td>\n",
       "      <td>2020-05-16 07:27:05</td>\n",
       "      <td>2021-06</td>\n",
       "      <td>2020-05</td>\n",
       "    </tr>\n",
       "    <tr>\n",
       "      <th>249999</th>\n",
       "      <td>Angela Norton</td>\n",
       "      <td>32</td>\n",
       "      <td>2020-09-07 05:12:19</td>\n",
       "      <td>Home</td>\n",
       "      <td>307</td>\n",
       "      <td>5</td>\n",
       "      <td>0</td>\n",
       "      <td>2020-09-07 05:12:19</td>\n",
       "      <td>2020-09</td>\n",
       "      <td>2020-09</td>\n",
       "    </tr>\n",
       "  </tbody>\n",
       "</table>\n",
       "<p>250000 rows × 10 columns</p>\n",
       "</div>"
      ],
      "text/plain": [
       "            Customer Name  Customer Age       Purchase Date Product Category  \\\n",
       "0             John Rivera            31 2023-05-03 21:30:02             Home   \n",
       "1             John Rivera            31 2021-05-16 13:57:44      Electronics   \n",
       "2             John Rivera            31 2020-07-13 06:16:57            Books   \n",
       "3             John Rivera            31 2023-01-17 13:14:36      Electronics   \n",
       "4             John Rivera            31 2021-05-01 11:29:27            Books   \n",
       "...                   ...           ...                 ...              ...   \n",
       "249995   Gabriel Williams            63 2023-01-24 12:32:18             Home   \n",
       "249996       Barry Foster            66 2021-06-04 05:45:25      Electronics   \n",
       "249997       Lisa Johnson            63 2022-11-10 17:11:57      Electronics   \n",
       "249998  Melissa Fernandez            64 2021-06-27 14:42:12      Electronics   \n",
       "249999      Angela Norton            32 2020-09-07 05:12:19             Home   \n",
       "\n",
       "        Product Price  Quantity  Churn      first_purchase purchase_month  \\\n",
       "0                 177         1      0 2020-04-02 23:19:48        2023-05   \n",
       "1                 174         3      0 2020-04-02 23:19:48        2021-05   \n",
       "2                 413         1      0 2020-04-02 23:19:48        2020-07   \n",
       "3                 396         3      0 2020-04-02 23:19:48        2023-01   \n",
       "4                 259         4      0 2020-04-02 23:19:48        2021-05   \n",
       "...               ...       ...    ...                 ...            ...   \n",
       "249995            436         1      0 2023-01-24 12:32:18        2023-01   \n",
       "249996            233         1      0 2021-06-04 05:45:25        2021-06   \n",
       "249997            441         5      0 2020-02-09 07:13:06        2022-11   \n",
       "249998             44         2      0 2020-05-16 07:27:05        2021-06   \n",
       "249999            307         5      0 2020-09-07 05:12:19        2020-09   \n",
       "\n",
       "       cohort_month  \n",
       "0           2020-04  \n",
       "1           2020-04  \n",
       "2           2020-04  \n",
       "3           2020-04  \n",
       "4           2020-04  \n",
       "...             ...  \n",
       "249995      2023-01  \n",
       "249996      2021-06  \n",
       "249997      2020-02  \n",
       "249998      2020-05  \n",
       "249999      2020-09  \n",
       "\n",
       "[250000 rows x 10 columns]"
      ]
     },
     "execution_count": 58,
     "metadata": {},
     "output_type": "execute_result"
    }
   ],
   "source": [
    "cohort"
   ]
  },
  {
   "cell_type": "code",
   "execution_count": 59,
   "id": "44095015",
   "metadata": {},
   "outputs": [],
   "source": [
    "cohort['cohort_index'] = (cohort['purchase_month'] - cohort['cohort_month']).apply(lambda x: x.n)"
   ]
  },
  {
   "cell_type": "code",
   "execution_count": 60,
   "id": "882717ad",
   "metadata": {},
   "outputs": [
    {
     "data": {
      "application/vnd.microsoft.datawrangler.viewer.v0+json": {
       "columns": [
        {
         "name": "index",
         "rawType": "int64",
         "type": "integer"
        },
        {
         "name": "Customer Name",
         "rawType": "object",
         "type": "string"
        },
        {
         "name": "Customer Age",
         "rawType": "int64",
         "type": "integer"
        },
        {
         "name": "Purchase Date",
         "rawType": "datetime64[ns]",
         "type": "datetime"
        },
        {
         "name": "Product Category",
         "rawType": "object",
         "type": "string"
        },
        {
         "name": "Product Price",
         "rawType": "int64",
         "type": "integer"
        },
        {
         "name": "Quantity",
         "rawType": "int64",
         "type": "integer"
        },
        {
         "name": "Churn",
         "rawType": "int32",
         "type": "integer"
        },
        {
         "name": "first_purchase",
         "rawType": "datetime64[ns]",
         "type": "datetime"
        },
        {
         "name": "purchase_month",
         "rawType": "period[M]",
         "type": "unknown"
        },
        {
         "name": "cohort_month",
         "rawType": "period[M]",
         "type": "unknown"
        },
        {
         "name": "cohort_index",
         "rawType": "int64",
         "type": "integer"
        }
       ],
       "ref": "4a4c9a70-a027-4c6f-ad83-15def547b5de",
       "rows": [
        [
         "0",
         "John Rivera",
         "31",
         "2023-05-03 21:30:02",
         "Home",
         "177",
         "1",
         "0",
         "2020-04-02 23:19:48",
         "2023-05",
         "2020-04",
         "37"
        ],
        [
         "1",
         "John Rivera",
         "31",
         "2021-05-16 13:57:44",
         "Electronics",
         "174",
         "3",
         "0",
         "2020-04-02 23:19:48",
         "2021-05",
         "2020-04",
         "13"
        ],
        [
         "2",
         "John Rivera",
         "31",
         "2020-07-13 06:16:57",
         "Books",
         "413",
         "1",
         "0",
         "2020-04-02 23:19:48",
         "2020-07",
         "2020-04",
         "3"
        ],
        [
         "3",
         "John Rivera",
         "31",
         "2023-01-17 13:14:36",
         "Electronics",
         "396",
         "3",
         "0",
         "2020-04-02 23:19:48",
         "2023-01",
         "2020-04",
         "33"
        ],
        [
         "4",
         "John Rivera",
         "31",
         "2021-05-01 11:29:27",
         "Books",
         "259",
         "4",
         "0",
         "2020-04-02 23:19:48",
         "2021-05",
         "2020-04",
         "13"
        ],
        [
         "5",
         "Lauren Johnson",
         "27",
         "2022-08-25 06:48:33",
         "Home",
         "191",
         "3",
         "0",
         "2021-12-21 03:29:05",
         "2022-08",
         "2021-12",
         "8"
        ],
        [
         "6",
         "Lauren Johnson",
         "27",
         "2023-07-25 05:17:24",
         "Electronics",
         "205",
         "1",
         "0",
         "2021-12-21 03:29:05",
         "2023-07",
         "2021-12",
         "19"
        ],
        [
         "7",
         "Lauren Johnson",
         "27",
         "2023-02-05 19:31:48",
         "Books",
         "370",
         "5",
         "0",
         "2021-12-21 03:29:05",
         "2023-02",
         "2021-12",
         "14"
        ],
        [
         "8",
         "Lauren Johnson",
         "27",
         "2021-12-21 03:29:05",
         "Home",
         "12",
         "2",
         "0",
         "2021-12-21 03:29:05",
         "2021-12",
         "2021-12",
         "0"
        ],
        [
         "9",
         "Lauren Johnson",
         "27",
         "2023-02-09 00:53:14",
         "Electronics",
         "40",
         "4",
         "0",
         "2021-12-21 03:29:05",
         "2023-02",
         "2021-12",
         "14"
        ],
        [
         "10",
         "Carol Allen",
         "27",
         "2023-02-28 19:58:23",
         "Clothing",
         "410",
         "3",
         "0",
         "2020-03-07 21:31:35",
         "2023-02",
         "2020-03",
         "35"
        ],
        [
         "11",
         "Carol Allen",
         "27",
         "2023-01-05 11:15:27",
         "Home",
         "304",
         "1",
         "0",
         "2020-03-07 21:31:35",
         "2023-01",
         "2020-03",
         "34"
        ],
        [
         "12",
         "Carol Allen",
         "27",
         "2023-07-18 23:36:50",
         "Books",
         "54",
         "2",
         "0",
         "2020-03-07 21:31:35",
         "2023-07",
         "2020-03",
         "40"
        ],
        [
         "13",
         "Carol Allen",
         "27",
         "2021-12-20 23:44:57",
         "Electronics",
         "428",
         "4",
         "0",
         "2020-03-07 21:31:35",
         "2021-12",
         "2020-03",
         "21"
        ],
        [
         "14",
         "Carol Allen",
         "27",
         "2020-03-07 21:31:35",
         "Books",
         "281",
         "1",
         "0",
         "2020-03-07 21:31:35",
         "2020-03",
         "2020-03",
         "0"
        ],
        [
         "15",
         "Carol Allen",
         "27",
         "2022-07-21 04:25:44",
         "Home",
         "193",
         "2",
         "0",
         "2020-03-07 21:31:35",
         "2022-07",
         "2020-03",
         "28"
        ],
        [
         "16",
         "Carol Allen",
         "27",
         "2023-07-05 15:01:04",
         "Clothing",
         "473",
         "3",
         "0",
         "2020-03-07 21:31:35",
         "2023-07",
         "2020-03",
         "40"
        ],
        [
         "17",
         "Curtis Smith",
         "20",
         "2020-10-18 23:38:52",
         "Books",
         "127",
         "5",
         "0",
         "2020-05-17 17:02:36",
         "2020-10",
         "2020-05",
         "5"
        ],
        [
         "18",
         "Curtis Smith",
         "20",
         "2020-05-17 17:02:36",
         "Home",
         "284",
         "2",
         "0",
         "2020-05-17 17:02:36",
         "2020-05",
         "2020-05",
         "0"
        ],
        [
         "19",
         "Curtis Smith",
         "20",
         "2022-03-18 13:52:08",
         "Electronics",
         "256",
         "2",
         "0",
         "2020-05-17 17:02:36",
         "2022-03",
         "2020-05",
         "22"
        ],
        [
         "20",
         "Curtis Smith",
         "20",
         "2021-04-21 07:58:37",
         "Clothing",
         "252",
         "2",
         "0",
         "2020-05-17 17:02:36",
         "2021-04",
         "2020-05",
         "11"
        ],
        [
         "21",
         "Curtis Smith",
         "20",
         "2022-01-26 12:50:30",
         "Electronics",
         "105",
         "2",
         "0",
         "2020-05-17 17:02:36",
         "2022-01",
         "2020-05",
         "20"
        ],
        [
         "22",
         "Curtis Smith",
         "20",
         "2020-11-11 07:19:18",
         "Electronics",
         "193",
         "2",
         "0",
         "2020-05-17 17:02:36",
         "2020-11",
         "2020-05",
         "6"
        ],
        [
         "23",
         "Curtis Smith",
         "20",
         "2023-04-29 23:31:47",
         "Home",
         "43",
         "1",
         "0",
         "2020-05-17 17:02:36",
         "2023-04",
         "2020-05",
         "35"
        ],
        [
         "24",
         "Curtis Smith",
         "20",
         "2022-07-04 16:04:01",
         "Home",
         "30",
         "5",
         "0",
         "2020-05-17 17:02:36",
         "2022-07",
         "2020-05",
         "26"
        ],
        [
         "25",
         "Curtis Smith",
         "20",
         "2021-08-01 05:27:13",
         "Electronics",
         "30",
         "3",
         "0",
         "2020-05-17 17:02:36",
         "2021-08",
         "2020-05",
         "15"
        ],
        [
         "26",
         "Curtis Smith",
         "20",
         "2020-05-24 06:45:48",
         "Electronics",
         "307",
         "3",
         "0",
         "2020-05-17 17:02:36",
         "2020-05",
         "2020-05",
         "0"
        ],
        [
         "27",
         "Curtis Smith",
         "20",
         "2022-03-24 00:05:26",
         "Electronics",
         "254",
         "1",
         "0",
         "2020-05-17 17:02:36",
         "2022-03",
         "2020-05",
         "22"
        ],
        [
         "28",
         "Curtis Smith",
         "20",
         "2022-09-02 04:00:49",
         "Books",
         "12",
         "3",
         "0",
         "2020-05-17 17:02:36",
         "2022-09",
         "2020-05",
         "28"
        ],
        [
         "29",
         "Curtis Smith",
         "20",
         "2021-11-14 10:23:14",
         "Books",
         "66",
         "3",
         "0",
         "2020-05-17 17:02:36",
         "2021-11",
         "2020-05",
         "18"
        ],
        [
         "30",
         "Jose Green",
         "53",
         "2020-11-17 13:14:27",
         "Electronics",
         "102",
         "2",
         "0",
         "2020-07-05 06:30:39",
         "2020-11",
         "2020-07",
         "4"
        ],
        [
         "31",
         "Jose Green",
         "53",
         "2021-05-07 09:54:22",
         "Books",
         "187",
         "5",
         "0",
         "2020-07-05 06:30:39",
         "2021-05",
         "2020-07",
         "10"
        ],
        [
         "32",
         "Jose Green",
         "53",
         "2022-09-07 05:06:52",
         "Books",
         "86",
         "1",
         "0",
         "2020-07-05 06:30:39",
         "2022-09",
         "2020-07",
         "26"
        ],
        [
         "33",
         "Jose Green",
         "53",
         "2020-07-05 06:30:39",
         "Electronics",
         "364",
         "3",
         "0",
         "2020-07-05 06:30:39",
         "2020-07",
         "2020-07",
         "0"
        ],
        [
         "34",
         "Jose Green",
         "53",
         "2022-01-11 10:56:31",
         "Books",
         "210",
         "2",
         "0",
         "2020-07-05 06:30:39",
         "2022-01",
         "2020-07",
         "18"
        ],
        [
         "35",
         "Linda Lee",
         "57",
         "2022-01-12 22:49:28",
         "Clothing",
         "304",
         "3",
         "0",
         "2020-04-20 14:08:25",
         "2022-01",
         "2020-04",
         "21"
        ],
        [
         "36",
         "Linda Lee",
         "57",
         "2021-06-26 23:49:18",
         "Electronics",
         "329",
         "1",
         "0",
         "2020-04-20 14:08:25",
         "2021-06",
         "2020-04",
         "14"
        ],
        [
         "37",
         "Linda Lee",
         "57",
         "2022-06-30 06:11:14",
         "Clothing",
         "306",
         "4",
         "0",
         "2020-04-20 14:08:25",
         "2022-06",
         "2020-04",
         "26"
        ],
        [
         "38",
         "Linda Lee",
         "57",
         "2020-04-20 14:08:25",
         "Electronics",
         "165",
         "5",
         "0",
         "2020-04-20 14:08:25",
         "2020-04",
         "2020-04",
         "0"
        ],
        [
         "39",
         "Linda Lee",
         "57",
         "2021-03-23 17:36:30",
         "Electronics",
         "218",
         "4",
         "0",
         "2020-04-20 14:08:25",
         "2021-03",
         "2020-04",
         "11"
        ],
        [
         "40",
         "Joshua Davis",
         "34",
         "2023-05-16 01:34:44",
         "Clothing",
         "392",
         "3",
         "1",
         "2020-05-27 22:17:28",
         "2023-05",
         "2020-05",
         "36"
        ],
        [
         "41",
         "Joshua Davis",
         "34",
         "2021-10-27 16:25:14",
         "Clothing",
         "238",
         "3",
         "1",
         "2020-05-27 22:17:28",
         "2021-10",
         "2020-05",
         "17"
        ],
        [
         "42",
         "Joshua Davis",
         "34",
         "2021-12-09 07:43:45",
         "Books",
         "174",
         "5",
         "1",
         "2020-05-27 22:17:28",
         "2021-12",
         "2020-05",
         "19"
        ],
        [
         "43",
         "Joshua Davis",
         "34",
         "2022-10-18 22:58:32",
         "Electronics",
         "41",
         "2",
         "1",
         "2020-05-27 22:17:28",
         "2022-10",
         "2020-05",
         "29"
        ],
        [
         "44",
         "Ellen Kent",
         "45",
         "2021-08-20 23:25:47",
         "Books",
         "118",
         "2",
         "0",
         "2020-02-14 04:47:32",
         "2021-08",
         "2020-02",
         "18"
        ],
        [
         "45",
         "Ellen Kent",
         "45",
         "2020-02-14 04:47:32",
         "Clothing",
         "14",
         "4",
         "0",
         "2020-02-14 04:47:32",
         "2020-02",
         "2020-02",
         "0"
        ],
        [
         "46",
         "Ellen Kent",
         "45",
         "2021-11-28 19:39:49",
         "Home",
         "424",
         "1",
         "0",
         "2020-02-14 04:47:32",
         "2021-11",
         "2020-02",
         "21"
        ],
        [
         "47",
         "Ellen Kent",
         "45",
         "2020-10-30 10:38:20",
         "Clothing",
         "351",
         "5",
         "0",
         "2020-02-14 04:47:32",
         "2020-10",
         "2020-02",
         "8"
        ],
        [
         "48",
         "Ellen Kent",
         "45",
         "2020-11-25 09:05:42",
         "Clothing",
         "89",
         "1",
         "0",
         "2020-02-14 04:47:32",
         "2020-11",
         "2020-02",
         "9"
        ],
        [
         "49",
         "Ellen Kent",
         "45",
         "2020-09-13 15:30:54",
         "Home",
         "287",
         "3",
         "0",
         "2020-02-14 04:47:32",
         "2020-09",
         "2020-02",
         "7"
        ]
       ],
       "shape": {
        "columns": 11,
        "rows": 250000
       }
      },
      "text/html": [
       "<div>\n",
       "<style scoped>\n",
       "    .dataframe tbody tr th:only-of-type {\n",
       "        vertical-align: middle;\n",
       "    }\n",
       "\n",
       "    .dataframe tbody tr th {\n",
       "        vertical-align: top;\n",
       "    }\n",
       "\n",
       "    .dataframe thead th {\n",
       "        text-align: right;\n",
       "    }\n",
       "</style>\n",
       "<table border=\"1\" class=\"dataframe\">\n",
       "  <thead>\n",
       "    <tr style=\"text-align: right;\">\n",
       "      <th></th>\n",
       "      <th>Customer Name</th>\n",
       "      <th>Customer Age</th>\n",
       "      <th>Purchase Date</th>\n",
       "      <th>Product Category</th>\n",
       "      <th>Product Price</th>\n",
       "      <th>Quantity</th>\n",
       "      <th>Churn</th>\n",
       "      <th>first_purchase</th>\n",
       "      <th>purchase_month</th>\n",
       "      <th>cohort_month</th>\n",
       "      <th>cohort_index</th>\n",
       "    </tr>\n",
       "  </thead>\n",
       "  <tbody>\n",
       "    <tr>\n",
       "      <th>0</th>\n",
       "      <td>John Rivera</td>\n",
       "      <td>31</td>\n",
       "      <td>2023-05-03 21:30:02</td>\n",
       "      <td>Home</td>\n",
       "      <td>177</td>\n",
       "      <td>1</td>\n",
       "      <td>0</td>\n",
       "      <td>2020-04-02 23:19:48</td>\n",
       "      <td>2023-05</td>\n",
       "      <td>2020-04</td>\n",
       "      <td>37</td>\n",
       "    </tr>\n",
       "    <tr>\n",
       "      <th>1</th>\n",
       "      <td>John Rivera</td>\n",
       "      <td>31</td>\n",
       "      <td>2021-05-16 13:57:44</td>\n",
       "      <td>Electronics</td>\n",
       "      <td>174</td>\n",
       "      <td>3</td>\n",
       "      <td>0</td>\n",
       "      <td>2020-04-02 23:19:48</td>\n",
       "      <td>2021-05</td>\n",
       "      <td>2020-04</td>\n",
       "      <td>13</td>\n",
       "    </tr>\n",
       "    <tr>\n",
       "      <th>2</th>\n",
       "      <td>John Rivera</td>\n",
       "      <td>31</td>\n",
       "      <td>2020-07-13 06:16:57</td>\n",
       "      <td>Books</td>\n",
       "      <td>413</td>\n",
       "      <td>1</td>\n",
       "      <td>0</td>\n",
       "      <td>2020-04-02 23:19:48</td>\n",
       "      <td>2020-07</td>\n",
       "      <td>2020-04</td>\n",
       "      <td>3</td>\n",
       "    </tr>\n",
       "    <tr>\n",
       "      <th>3</th>\n",
       "      <td>John Rivera</td>\n",
       "      <td>31</td>\n",
       "      <td>2023-01-17 13:14:36</td>\n",
       "      <td>Electronics</td>\n",
       "      <td>396</td>\n",
       "      <td>3</td>\n",
       "      <td>0</td>\n",
       "      <td>2020-04-02 23:19:48</td>\n",
       "      <td>2023-01</td>\n",
       "      <td>2020-04</td>\n",
       "      <td>33</td>\n",
       "    </tr>\n",
       "    <tr>\n",
       "      <th>4</th>\n",
       "      <td>John Rivera</td>\n",
       "      <td>31</td>\n",
       "      <td>2021-05-01 11:29:27</td>\n",
       "      <td>Books</td>\n",
       "      <td>259</td>\n",
       "      <td>4</td>\n",
       "      <td>0</td>\n",
       "      <td>2020-04-02 23:19:48</td>\n",
       "      <td>2021-05</td>\n",
       "      <td>2020-04</td>\n",
       "      <td>13</td>\n",
       "    </tr>\n",
       "    <tr>\n",
       "      <th>...</th>\n",
       "      <td>...</td>\n",
       "      <td>...</td>\n",
       "      <td>...</td>\n",
       "      <td>...</td>\n",
       "      <td>...</td>\n",
       "      <td>...</td>\n",
       "      <td>...</td>\n",
       "      <td>...</td>\n",
       "      <td>...</td>\n",
       "      <td>...</td>\n",
       "      <td>...</td>\n",
       "    </tr>\n",
       "    <tr>\n",
       "      <th>249995</th>\n",
       "      <td>Gabriel Williams</td>\n",
       "      <td>63</td>\n",
       "      <td>2023-01-24 12:32:18</td>\n",
       "      <td>Home</td>\n",
       "      <td>436</td>\n",
       "      <td>1</td>\n",
       "      <td>0</td>\n",
       "      <td>2023-01-24 12:32:18</td>\n",
       "      <td>2023-01</td>\n",
       "      <td>2023-01</td>\n",
       "      <td>0</td>\n",
       "    </tr>\n",
       "    <tr>\n",
       "      <th>249996</th>\n",
       "      <td>Barry Foster</td>\n",
       "      <td>66</td>\n",
       "      <td>2021-06-04 05:45:25</td>\n",
       "      <td>Electronics</td>\n",
       "      <td>233</td>\n",
       "      <td>1</td>\n",
       "      <td>0</td>\n",
       "      <td>2021-06-04 05:45:25</td>\n",
       "      <td>2021-06</td>\n",
       "      <td>2021-06</td>\n",
       "      <td>0</td>\n",
       "    </tr>\n",
       "    <tr>\n",
       "      <th>249997</th>\n",
       "      <td>Lisa Johnson</td>\n",
       "      <td>63</td>\n",
       "      <td>2022-11-10 17:11:57</td>\n",
       "      <td>Electronics</td>\n",
       "      <td>441</td>\n",
       "      <td>5</td>\n",
       "      <td>0</td>\n",
       "      <td>2020-02-09 07:13:06</td>\n",
       "      <td>2022-11</td>\n",
       "      <td>2020-02</td>\n",
       "      <td>33</td>\n",
       "    </tr>\n",
       "    <tr>\n",
       "      <th>249998</th>\n",
       "      <td>Melissa Fernandez</td>\n",
       "      <td>64</td>\n",
       "      <td>2021-06-27 14:42:12</td>\n",
       "      <td>Electronics</td>\n",
       "      <td>44</td>\n",
       "      <td>2</td>\n",
       "      <td>0</td>\n",
       "      <td>2020-05-16 07:27:05</td>\n",
       "      <td>2021-06</td>\n",
       "      <td>2020-05</td>\n",
       "      <td>13</td>\n",
       "    </tr>\n",
       "    <tr>\n",
       "      <th>249999</th>\n",
       "      <td>Angela Norton</td>\n",
       "      <td>32</td>\n",
       "      <td>2020-09-07 05:12:19</td>\n",
       "      <td>Home</td>\n",
       "      <td>307</td>\n",
       "      <td>5</td>\n",
       "      <td>0</td>\n",
       "      <td>2020-09-07 05:12:19</td>\n",
       "      <td>2020-09</td>\n",
       "      <td>2020-09</td>\n",
       "      <td>0</td>\n",
       "    </tr>\n",
       "  </tbody>\n",
       "</table>\n",
       "<p>250000 rows × 11 columns</p>\n",
       "</div>"
      ],
      "text/plain": [
       "            Customer Name  Customer Age       Purchase Date Product Category  \\\n",
       "0             John Rivera            31 2023-05-03 21:30:02             Home   \n",
       "1             John Rivera            31 2021-05-16 13:57:44      Electronics   \n",
       "2             John Rivera            31 2020-07-13 06:16:57            Books   \n",
       "3             John Rivera            31 2023-01-17 13:14:36      Electronics   \n",
       "4             John Rivera            31 2021-05-01 11:29:27            Books   \n",
       "...                   ...           ...                 ...              ...   \n",
       "249995   Gabriel Williams            63 2023-01-24 12:32:18             Home   \n",
       "249996       Barry Foster            66 2021-06-04 05:45:25      Electronics   \n",
       "249997       Lisa Johnson            63 2022-11-10 17:11:57      Electronics   \n",
       "249998  Melissa Fernandez            64 2021-06-27 14:42:12      Electronics   \n",
       "249999      Angela Norton            32 2020-09-07 05:12:19             Home   \n",
       "\n",
       "        Product Price  Quantity  Churn      first_purchase purchase_month  \\\n",
       "0                 177         1      0 2020-04-02 23:19:48        2023-05   \n",
       "1                 174         3      0 2020-04-02 23:19:48        2021-05   \n",
       "2                 413         1      0 2020-04-02 23:19:48        2020-07   \n",
       "3                 396         3      0 2020-04-02 23:19:48        2023-01   \n",
       "4                 259         4      0 2020-04-02 23:19:48        2021-05   \n",
       "...               ...       ...    ...                 ...            ...   \n",
       "249995            436         1      0 2023-01-24 12:32:18        2023-01   \n",
       "249996            233         1      0 2021-06-04 05:45:25        2021-06   \n",
       "249997            441         5      0 2020-02-09 07:13:06        2022-11   \n",
       "249998             44         2      0 2020-05-16 07:27:05        2021-06   \n",
       "249999            307         5      0 2020-09-07 05:12:19        2020-09   \n",
       "\n",
       "       cohort_month  cohort_index  \n",
       "0           2020-04            37  \n",
       "1           2020-04            13  \n",
       "2           2020-04             3  \n",
       "3           2020-04            33  \n",
       "4           2020-04            13  \n",
       "...             ...           ...  \n",
       "249995      2023-01             0  \n",
       "249996      2021-06             0  \n",
       "249997      2020-02            33  \n",
       "249998      2020-05            13  \n",
       "249999      2020-09             0  \n",
       "\n",
       "[250000 rows x 11 columns]"
      ]
     },
     "execution_count": 60,
     "metadata": {},
     "output_type": "execute_result"
    }
   ],
   "source": [
    "cohort"
   ]
  },
  {
   "cell_type": "markdown",
   "id": "e88e4d45",
   "metadata": {},
   "source": [
    "In this the first pur represents the cust joining and first purchase. Purchase month represents the purchases made, here in row1 after making first pur in 2020-04 made another pur in 2023-05. Cohort mon represents the first pur for each cust. Now, cohort index = purch mon - cohort mon(first pur). It came out to be 37. This means after making first pur the cust was active on month 37 of their lifecycle."
   ]
  },
  {
   "cell_type": "code",
   "execution_count": 61,
   "id": "aa3cab91",
   "metadata": {},
   "outputs": [],
   "source": [
    "cohort_data = cohort.groupby([\"cohort_month\", \"cohort_index\"])[\"Customer Name\"].nunique().reset_index()"
   ]
  },
  {
   "cell_type": "code",
   "execution_count": 62,
   "id": "8446a8c2",
   "metadata": {},
   "outputs": [],
   "source": [
    "cohort_data.rename(columns={\"Customer Name\": \"num_customers\"}, inplace=True)"
   ]
  },
  {
   "cell_type": "code",
   "execution_count": 63,
   "id": "4a2c9430",
   "metadata": {},
   "outputs": [
    {
     "data": {
      "application/vnd.microsoft.datawrangler.viewer.v0+json": {
       "columns": [
        {
         "name": "index",
         "rawType": "int64",
         "type": "integer"
        },
        {
         "name": "cohort_month",
         "rawType": "period[M]",
         "type": "unknown"
        },
        {
         "name": "cohort_index",
         "rawType": "int64",
         "type": "integer"
        },
        {
         "name": "num_customers",
         "rawType": "int64",
         "type": "integer"
        }
       ],
       "ref": "0b65492f-d81d-4fe7-a9d5-1e0716733d00",
       "rows": [
        [
         "0",
         "2020-01",
         "0",
         "5219"
        ],
        [
         "1",
         "2020-01",
         "1",
         "811"
        ],
        [
         "2",
         "2020-01",
         "2",
         "838"
        ],
        [
         "3",
         "2020-01",
         "3",
         "828"
        ],
        [
         "4",
         "2020-01",
         "4",
         "842"
        ],
        [
         "5",
         "2020-01",
         "5",
         "845"
        ],
        [
         "6",
         "2020-01",
         "6",
         "854"
        ],
        [
         "7",
         "2020-01",
         "7",
         "858"
        ],
        [
         "8",
         "2020-01",
         "8",
         "806"
        ],
        [
         "9",
         "2020-01",
         "9",
         "866"
        ],
        [
         "10",
         "2020-01",
         "10",
         "835"
        ],
        [
         "11",
         "2020-01",
         "11",
         "856"
        ],
        [
         "12",
         "2020-01",
         "12",
         "853"
        ],
        [
         "13",
         "2020-01",
         "13",
         "783"
        ],
        [
         "14",
         "2020-01",
         "14",
         "835"
        ],
        [
         "15",
         "2020-01",
         "15",
         "807"
        ],
        [
         "16",
         "2020-01",
         "16",
         "836"
        ],
        [
         "17",
         "2020-01",
         "17",
         "843"
        ],
        [
         "18",
         "2020-01",
         "18",
         "855"
        ],
        [
         "19",
         "2020-01",
         "19",
         "822"
        ],
        [
         "20",
         "2020-01",
         "20",
         "824"
        ],
        [
         "21",
         "2020-01",
         "21",
         "825"
        ],
        [
         "22",
         "2020-01",
         "22",
         "784"
        ],
        [
         "23",
         "2020-01",
         "23",
         "873"
        ],
        [
         "24",
         "2020-01",
         "24",
         "853"
        ],
        [
         "25",
         "2020-01",
         "25",
         "784"
        ],
        [
         "26",
         "2020-01",
         "26",
         "812"
        ],
        [
         "27",
         "2020-01",
         "27",
         "836"
        ],
        [
         "28",
         "2020-01",
         "28",
         "812"
        ],
        [
         "29",
         "2020-01",
         "29",
         "818"
        ],
        [
         "30",
         "2020-01",
         "30",
         "901"
        ],
        [
         "31",
         "2020-01",
         "31",
         "796"
        ],
        [
         "32",
         "2020-01",
         "32",
         "852"
        ],
        [
         "33",
         "2020-01",
         "33",
         "810"
        ],
        [
         "34",
         "2020-01",
         "34",
         "823"
        ],
        [
         "35",
         "2020-01",
         "35",
         "830"
        ],
        [
         "36",
         "2020-01",
         "36",
         "848"
        ],
        [
         "37",
         "2020-01",
         "37",
         "803"
        ],
        [
         "38",
         "2020-01",
         "38",
         "834"
        ],
        [
         "39",
         "2020-01",
         "39",
         "830"
        ],
        [
         "40",
         "2020-01",
         "40",
         "867"
        ],
        [
         "41",
         "2020-01",
         "41",
         "828"
        ],
        [
         "42",
         "2020-01",
         "42",
         "823"
        ],
        [
         "43",
         "2020-01",
         "43",
         "832"
        ],
        [
         "44",
         "2020-01",
         "44",
         "374"
        ],
        [
         "45",
         "2020-02",
         "0",
         "4075"
        ],
        [
         "46",
         "2020-02",
         "1",
         "569"
        ],
        [
         "47",
         "2020-02",
         "2",
         "548"
        ],
        [
         "48",
         "2020-02",
         "3",
         "610"
        ],
        [
         "49",
         "2020-02",
         "4",
         "573"
        ]
       ],
       "shape": {
        "columns": 3,
        "rows": 1033
       }
      },
      "text/html": [
       "<div>\n",
       "<style scoped>\n",
       "    .dataframe tbody tr th:only-of-type {\n",
       "        vertical-align: middle;\n",
       "    }\n",
       "\n",
       "    .dataframe tbody tr th {\n",
       "        vertical-align: top;\n",
       "    }\n",
       "\n",
       "    .dataframe thead th {\n",
       "        text-align: right;\n",
       "    }\n",
       "</style>\n",
       "<table border=\"1\" class=\"dataframe\">\n",
       "  <thead>\n",
       "    <tr style=\"text-align: right;\">\n",
       "      <th></th>\n",
       "      <th>cohort_month</th>\n",
       "      <th>cohort_index</th>\n",
       "      <th>num_customers</th>\n",
       "    </tr>\n",
       "  </thead>\n",
       "  <tbody>\n",
       "    <tr>\n",
       "      <th>0</th>\n",
       "      <td>2020-01</td>\n",
       "      <td>0</td>\n",
       "      <td>5219</td>\n",
       "    </tr>\n",
       "    <tr>\n",
       "      <th>1</th>\n",
       "      <td>2020-01</td>\n",
       "      <td>1</td>\n",
       "      <td>811</td>\n",
       "    </tr>\n",
       "    <tr>\n",
       "      <th>2</th>\n",
       "      <td>2020-01</td>\n",
       "      <td>2</td>\n",
       "      <td>838</td>\n",
       "    </tr>\n",
       "    <tr>\n",
       "      <th>3</th>\n",
       "      <td>2020-01</td>\n",
       "      <td>3</td>\n",
       "      <td>828</td>\n",
       "    </tr>\n",
       "    <tr>\n",
       "      <th>4</th>\n",
       "      <td>2020-01</td>\n",
       "      <td>4</td>\n",
       "      <td>842</td>\n",
       "    </tr>\n",
       "    <tr>\n",
       "      <th>...</th>\n",
       "      <td>...</td>\n",
       "      <td>...</td>\n",
       "      <td>...</td>\n",
       "    </tr>\n",
       "    <tr>\n",
       "      <th>1028</th>\n",
       "      <td>2023-07</td>\n",
       "      <td>1</td>\n",
       "      <td>2</td>\n",
       "    </tr>\n",
       "    <tr>\n",
       "      <th>1029</th>\n",
       "      <td>2023-07</td>\n",
       "      <td>2</td>\n",
       "      <td>3</td>\n",
       "    </tr>\n",
       "    <tr>\n",
       "      <th>1030</th>\n",
       "      <td>2023-08</td>\n",
       "      <td>0</td>\n",
       "      <td>33</td>\n",
       "    </tr>\n",
       "    <tr>\n",
       "      <th>1031</th>\n",
       "      <td>2023-08</td>\n",
       "      <td>1</td>\n",
       "      <td>1</td>\n",
       "    </tr>\n",
       "    <tr>\n",
       "      <th>1032</th>\n",
       "      <td>2023-09</td>\n",
       "      <td>0</td>\n",
       "      <td>8</td>\n",
       "    </tr>\n",
       "  </tbody>\n",
       "</table>\n",
       "<p>1033 rows × 3 columns</p>\n",
       "</div>"
      ],
      "text/plain": [
       "     cohort_month  cohort_index  num_customers\n",
       "0         2020-01             0           5219\n",
       "1         2020-01             1            811\n",
       "2         2020-01             2            838\n",
       "3         2020-01             3            828\n",
       "4         2020-01             4            842\n",
       "...           ...           ...            ...\n",
       "1028      2023-07             1              2\n",
       "1029      2023-07             2              3\n",
       "1030      2023-08             0             33\n",
       "1031      2023-08             1              1\n",
       "1032      2023-09             0              8\n",
       "\n",
       "[1033 rows x 3 columns]"
      ]
     },
     "execution_count": 63,
     "metadata": {},
     "output_type": "execute_result"
    }
   ],
   "source": [
    "cohort_data"
   ]
  },
  {
   "cell_type": "markdown",
   "id": "977b424f",
   "metadata": {},
   "source": [
    "Cohort month rep the cust who made their first purchase. Cohort index represent after how many months we retained our cust. Num cust represents the number of uniques cust.\n",
    "Now, 5219 cust made their first pur/cohort month of jan. Thus cohort index = 0.\n",
    "Now, after 1 month 811 cust were retained thus cohort index =1, means in feb.\n",
    "Now, cohort month will change only when new cust make purchases on feb."
   ]
  }
 ],
 "metadata": {
  "kernelspec": {
   "display_name": "Python 3",
   "language": "python",
   "name": "python3"
  },
  "language_info": {
   "codemirror_mode": {
    "name": "ipython",
    "version": 3
   },
   "file_extension": ".py",
   "mimetype": "text/x-python",
   "name": "python",
   "nbconvert_exporter": "python",
   "pygments_lexer": "ipython3",
   "version": "3.11.9"
  }
 },
 "nbformat": 4,
 "nbformat_minor": 5
}
